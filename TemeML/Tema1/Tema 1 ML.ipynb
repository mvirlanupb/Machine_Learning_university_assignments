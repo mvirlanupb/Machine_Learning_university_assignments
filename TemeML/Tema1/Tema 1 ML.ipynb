{
 "cells": [
  {
   "cell_type": "markdown",
   "id": "fc61965b",
   "metadata": {},
   "source": [
    "# 1. Citirea setului de date"
   ]
  },
  {
   "cell_type": "code",
   "execution_count": 1,
   "id": "ddcd7555",
   "metadata": {},
   "outputs": [],
   "source": [
    "import pandas as pd\n",
    "import matplotlib.pyplot as plt\n",
    "import numpy as np\n",
    "import seaborn as sns\n",
    "import re\n",
    "import math\n",
    "from sklearn.impute import SimpleImputer\n",
    "from sklearn.preprocessing import OrdinalEncoder,StandardScaler\n",
    "from sklearn.feature_selection import VarianceThreshold\n",
    "from sklearn.model_selection import GridSearchCV,train_test_split\n",
    "from sklearn.svm import SVC\n",
    "from sklearn.metrics import f1_score,precision_score,recall_score,accuracy_score,confusion_matrix,ConfusionMatrixDisplay\n",
    "from sklearn.ensemble import RandomForestClassifier,ExtraTreesClassifier"
   ]
  },
  {
   "cell_type": "code",
   "execution_count": 2,
   "id": "83d079dc",
   "metadata": {},
   "outputs": [],
   "source": [
    "modeImputer=SimpleImputer(missing_values='XX',strategy='most_frequent')\n",
    "avgImputer=SimpleImputer(missing_values=-1,strategy='mean')"
   ]
  },
  {
   "cell_type": "markdown",
   "id": "302d6852",
   "metadata": {},
   "source": [
    "Inspectam coloanele"
   ]
  },
  {
   "cell_type": "code",
   "execution_count": 3,
   "id": "3bd555a2",
   "metadata": {},
   "outputs": [
    {
     "data": {
      "text/html": [
       "<div>\n",
       "<style scoped>\n",
       "    .dataframe tbody tr th:only-of-type {\n",
       "        vertical-align: middle;\n",
       "    }\n",
       "\n",
       "    .dataframe tbody tr th {\n",
       "        vertical-align: top;\n",
       "    }\n",
       "\n",
       "    .dataframe thead th {\n",
       "        text-align: right;\n",
       "    }\n",
       "</style>\n",
       "<table border=\"1\" class=\"dataframe\">\n",
       "  <thead>\n",
       "    <tr style=\"text-align: right;\">\n",
       "      <th></th>\n",
       "      <th>Transportation</th>\n",
       "      <th>Regular_fiber_diet</th>\n",
       "      <th>Diagnostic_in_family_history</th>\n",
       "      <th>High_calorie_diet</th>\n",
       "      <th>Sedentary_hours_daily</th>\n",
       "      <th>Age</th>\n",
       "      <th>Alcohol</th>\n",
       "      <th>Est_avg_calorie_intake</th>\n",
       "      <th>Main_meals_daily</th>\n",
       "      <th>Snacks</th>\n",
       "      <th>Height</th>\n",
       "      <th>Smoker</th>\n",
       "      <th>Water_daily</th>\n",
       "      <th>Calorie_monitoring</th>\n",
       "      <th>Weight</th>\n",
       "      <th>Physical_activity_level</th>\n",
       "      <th>Technology_time_use</th>\n",
       "      <th>Gender</th>\n",
       "      <th>Diagnostic</th>\n",
       "    </tr>\n",
       "  </thead>\n",
       "  <tbody>\n",
       "    <tr>\n",
       "      <th>0</th>\n",
       "      <td>Public_Transportation</td>\n",
       "      <td>2</td>\n",
       "      <td>yes</td>\n",
       "      <td>no</td>\n",
       "      <td>3,73</td>\n",
       "      <td>21</td>\n",
       "      <td>no</td>\n",
       "      <td>2474</td>\n",
       "      <td>3</td>\n",
       "      <td>Sometimes</td>\n",
       "      <td>1,62</td>\n",
       "      <td>no</td>\n",
       "      <td>2</td>\n",
       "      <td>no</td>\n",
       "      <td>64</td>\n",
       "      <td>0</td>\n",
       "      <td>1</td>\n",
       "      <td>Female</td>\n",
       "      <td>D1</td>\n",
       "    </tr>\n",
       "    <tr>\n",
       "      <th>1</th>\n",
       "      <td>Public_Transportation</td>\n",
       "      <td>3</td>\n",
       "      <td>yes</td>\n",
       "      <td>no</td>\n",
       "      <td>2,92</td>\n",
       "      <td>21</td>\n",
       "      <td>Sometimes</td>\n",
       "      <td>2429</td>\n",
       "      <td>3</td>\n",
       "      <td>Sometimes</td>\n",
       "      <td>1,52</td>\n",
       "      <td>yes</td>\n",
       "      <td>3</td>\n",
       "      <td>yes</td>\n",
       "      <td>56</td>\n",
       "      <td>3</td>\n",
       "      <td>0</td>\n",
       "      <td>Female</td>\n",
       "      <td>D1</td>\n",
       "    </tr>\n",
       "    <tr>\n",
       "      <th>2</th>\n",
       "      <td>Public_Transportation</td>\n",
       "      <td>2</td>\n",
       "      <td>yes</td>\n",
       "      <td>no</td>\n",
       "      <td>3,85</td>\n",
       "      <td>23</td>\n",
       "      <td>Frequently</td>\n",
       "      <td>2656</td>\n",
       "      <td>3</td>\n",
       "      <td>Sometimes</td>\n",
       "      <td>1,8</td>\n",
       "      <td>no</td>\n",
       "      <td>2</td>\n",
       "      <td>no</td>\n",
       "      <td>77</td>\n",
       "      <td>2</td>\n",
       "      <td>1</td>\n",
       "      <td>Male</td>\n",
       "      <td>D1</td>\n",
       "    </tr>\n",
       "    <tr>\n",
       "      <th>3</th>\n",
       "      <td>Walking</td>\n",
       "      <td>3</td>\n",
       "      <td>no</td>\n",
       "      <td>no</td>\n",
       "      <td>3,01</td>\n",
       "      <td>27</td>\n",
       "      <td>Frequently</td>\n",
       "      <td>2260</td>\n",
       "      <td>3</td>\n",
       "      <td>Sometimes</td>\n",
       "      <td>1,8</td>\n",
       "      <td>no</td>\n",
       "      <td>2</td>\n",
       "      <td>no</td>\n",
       "      <td>-1</td>\n",
       "      <td>2</td>\n",
       "      <td>0</td>\n",
       "      <td>Male</td>\n",
       "      <td>D2</td>\n",
       "    </tr>\n",
       "    <tr>\n",
       "      <th>4</th>\n",
       "      <td>Public_Transportation</td>\n",
       "      <td>2</td>\n",
       "      <td>no</td>\n",
       "      <td>no</td>\n",
       "      <td>2,73</td>\n",
       "      <td>22</td>\n",
       "      <td>Sometimes</td>\n",
       "      <td>1895</td>\n",
       "      <td>1</td>\n",
       "      <td>Sometimes</td>\n",
       "      <td>1,78</td>\n",
       "      <td>no</td>\n",
       "      <td>2</td>\n",
       "      <td>no</td>\n",
       "      <td>89,8</td>\n",
       "      <td>0</td>\n",
       "      <td>0</td>\n",
       "      <td>Male</td>\n",
       "      <td>D3</td>\n",
       "    </tr>\n",
       "  </tbody>\n",
       "</table>\n",
       "</div>"
      ],
      "text/plain": [
       "          Transportation Regular_fiber_diet Diagnostic_in_family_history  \\\n",
       "0  Public_Transportation                  2                          yes   \n",
       "1  Public_Transportation                  3                          yes   \n",
       "2  Public_Transportation                  2                          yes   \n",
       "3                Walking                  3                           no   \n",
       "4  Public_Transportation                  2                           no   \n",
       "\n",
       "  High_calorie_diet Sedentary_hours_daily Age     Alcohol  \\\n",
       "0                no                  3,73  21          no   \n",
       "1                no                  2,92  21   Sometimes   \n",
       "2                no                  3,85  23  Frequently   \n",
       "3                no                  3,01  27  Frequently   \n",
       "4                no                  2,73  22   Sometimes   \n",
       "\n",
       "   Est_avg_calorie_intake Main_meals_daily     Snacks Height Smoker  \\\n",
       "0                    2474                3  Sometimes   1,62     no   \n",
       "1                    2429                3  Sometimes   1,52    yes   \n",
       "2                    2656                3  Sometimes    1,8     no   \n",
       "3                    2260                3  Sometimes    1,8     no   \n",
       "4                    1895                1  Sometimes   1,78     no   \n",
       "\n",
       "  Water_daily Calorie_monitoring Weight Physical_activity_level  \\\n",
       "0           2                 no     64                       0   \n",
       "1           3                yes     56                       3   \n",
       "2           2                 no     77                       2   \n",
       "3           2                 no     -1                       2   \n",
       "4           2                 no   89,8                       0   \n",
       "\n",
       "   Technology_time_use  Gender Diagnostic  \n",
       "0                    1  Female         D1  \n",
       "1                    0  Female         D1  \n",
       "2                    1    Male         D1  \n",
       "3                    0    Male         D2  \n",
       "4                    0    Male         D3  "
      ]
     },
     "execution_count": 3,
     "metadata": {},
     "output_type": "execute_result"
    }
   ],
   "source": [
    "dataset=pd.read_csv('date_tema_1_iaut_2024.csv')\n",
    "dataset.head()"
   ]
  },
  {
   "cell_type": "code",
   "execution_count": 4,
   "id": "29190ac6",
   "metadata": {},
   "outputs": [
    {
     "data": {
      "text/plain": [
       "1921"
      ]
     },
     "execution_count": 4,
     "metadata": {},
     "output_type": "execute_result"
    }
   ],
   "source": [
    "len(dataset)"
   ]
  },
  {
   "cell_type": "markdown",
   "id": "debe180f",
   "metadata": {},
   "source": [
    "# 2. Inspectarea atributelor"
   ]
  },
  {
   "cell_type": "markdown",
   "id": "36f7cfa6",
   "metadata": {},
   "source": [
    "- ### Transportation"
   ]
  },
  {
   "cell_type": "code",
   "execution_count": 5,
   "id": "2687ad06",
   "metadata": {},
   "outputs": [],
   "source": [
    "transportation=dataset[\"Transportation\"]"
   ]
  },
  {
   "cell_type": "markdown",
   "id": "0be44d7a",
   "metadata": {},
   "source": [
    "Valorile unice"
   ]
  },
  {
   "cell_type": "code",
   "execution_count": 6,
   "id": "945c2e72",
   "metadata": {},
   "outputs": [
    {
     "data": {
      "text/plain": [
       "array(['Public_Transportation', 'Walking', 'Automobile', 'Motorbike',\n",
       "       'Bike'], dtype=object)"
      ]
     },
     "execution_count": 6,
     "metadata": {},
     "output_type": "execute_result"
    }
   ],
   "source": [
    "transportation.unique()"
   ]
  },
  {
   "cell_type": "markdown",
   "id": "61c2b674",
   "metadata": {},
   "source": [
    "Plotarea histogramei"
   ]
  },
  {
   "cell_type": "code",
   "execution_count": 7,
   "id": "b25147e8",
   "metadata": {},
   "outputs": [
    {
     "data": {
      "image/png": "[encoded data removed]",
      "text/plain": [
       "<Figure size 640x480 with 1 Axes>"
      ]
     },
     "metadata": {},
     "output_type": "display_data"
    }
   ],
   "source": [
    "transportation.hist(grid=False)\n",
    "plt.xlabel(\"Tip transport\")\n",
    "plt.title(\"Histograma modalitatilor de transport\")\n",
    "plt.show()"
   ]
  },
  {
   "cell_type": "markdown",
   "id": "e8dba0ca",
   "metadata": {},
   "source": [
    "- ### Regular_fiber_diet"
   ]
  },
  {
   "cell_type": "code",
   "execution_count": 8,
   "id": "712ea22e",
   "metadata": {},
   "outputs": [],
   "source": [
    "fiber_diet=dataset[\"Regular_fiber_diet\"]"
   ]
  },
  {
   "cell_type": "markdown",
   "id": "aa385866",
   "metadata": {},
   "source": [
    "Valorile unice"
   ]
  },
  {
   "cell_type": "code",
   "execution_count": 9,
   "id": "e8d21d89",
   "metadata": {},
   "outputs": [
    {
     "data": {
      "text/plain": [
       "array(['2', '3', '1', '2,450218', '2,880161', '2,00876', '2,596579',\n",
       "       '2,591439', '2,392665', '1,123939', '2,027574', '2,658112',\n",
       "       '2,88626', '2,714447', '2,750715', '1,4925', '2,205439',\n",
       "       '2,059138', '2,310423', '2,052932', '2,596364', '2,767731',\n",
       "       '2,815157', '2,737762', '2,568063', '2,524428', '2,971574',\n",
       "       '1,0816', '1,270448', '1,344854', '2,959658', '2,725282',\n",
       "       '2,844607', '2,44004', '2,432302', '2,449267', '2,929889',\n",
       "       '2,015258', '1,031149', '1,592183', '1,21498', '1,522001',\n",
       "       '2,703436', '2,362918', '2,14084', '2,5596', '2,336044',\n",
       "       '1,133844', '1,757466', '2,204914', '2,927218', '2,890535',\n",
       "       '2,530066', '2,241606', '1,003566', '2,652779', '2,897899',\n",
       "       '2,483979', '2,945967', '2,784464', '1,005578', '2,938031',\n",
       "       '2,842102', '1,889199', '2,943749', '2,33998', '1,950742',\n",
       "       '2,277436', '2,371338', '2,977018', '2,753752', '2,318355',\n",
       "       '2,594653', '2,886157', '2,967853', '2,619835', '1,053534',\n",
       "       '2,530233', '2,8813', '2,824559', '2,762325', '2,070964',\n",
       "       '2,68601', '2,794197', '2,720701', '2,880792', '2,674431',\n",
       "       '2,55996', '1,140615', '2,562409', '2,004146', '2,690754',\n",
       "       '2,051283', '2,19005', '2,21498', '2,91548', '2,708965',\n",
       "       '2,853513', '2,580872', '2,508835', '2,896562', '2,911877',\n",
       "       '2,910733', '2,966126', '2,613249', '2,627031', '2,919751',\n",
       "       '2,494451', '1,69427', '1,601236', '1,052699', '2,910345',\n",
       "       '2,866383', '2,913486', '2,432886', '2,883745', '2,707666',\n",
       "       '2,919584', '2,969205', '2,486189', '1,642241', '1,036414',\n",
       "       '1,649974', '1,118436', '2,673638', '2,120185', '2,34222',\n",
       "       '2,86099', '2,559571', '2,424977', '1,303878', '1,889883',\n",
       "       '2,984004', '2,749268', '1,202075', '1,871213', '2,341133',\n",
       "       '1,450218', '1,206276', '2,81646', '1,758394', '2,577427',\n",
       "       '2,052152', '2,954996', '2,555401', '2,915279', '1,570089',\n",
       "       '1,94313', '2,903545', '1,75375', '2,543563', '2,39728',\n",
       "       '2,278644', '2,823179', '2,061952', '2,838969', '2,652958',\n",
       "       '1,27785', '1,729824', '2,303367', '2,948425', '2,291846',\n",
       "       '1,906194', '1,834155', '2,048582', '2,948248', '2,869436',\n",
       "       '2,293705', '2,510583', '2,366949', '2,615788', '2,217267',\n",
       "       '2,801514', '2,188722', '2,971351', '2,086093', '1,901611',\n",
       "       '2,446872', '2,21232', '2,427689', '2,357496', '1,078529',\n",
       "       '1,064162', '1,993101', '2,620963', '2,95118', '2,021446',\n",
       "       '2,000466', '2,5621', '2,96008', '2,53915', '2,244142', '2,253371',\n",
       "       '2,851664', '1,31415', '1,321028', '2,253998', '2,778079',\n",
       "       '2,838037', '2,814453', '2,013782', '2,459976', '2,643183',\n",
       "       '2,22399', '2,104105', '1,972545', '2,286481', '2,971588',\n",
       "       '2,872121', '2,109162', '2,178889', '1,142468', '2,843709',\n",
       "       '2,416044', '2,146598', '1,188089', '1,910176', '2,956671',\n",
       "       '2,288604', '2,277077', '2,138334', '2,048216', '2,8557',\n",
       "       '2,995599', '2,987148', '2,786008', '2,342323', '2,213135',\n",
       "       '2,273548', '2,780699', '1,687569', '1,989905', '2,162519',\n",
       "       '2,923916', '2,99448', '2,507841', '1,836554', '2,286146',\n",
       "       '2,487167', '2,185938', '2,206399', '1,952987', '2,749629',\n",
       "       '1,595746', '2,372494', '2,153639', '2,793561', '2,992329',\n",
       "       '2,927409', '2,706134', '2,010684', '2,300408', '2,119643',\n",
       "       '2,901924', '2,451009', '2,754646', '2,417635', '2,512719',\n",
       "       '1,771693', '1,57223', '2,661556', '2,097373', '2,061461',\n",
       "       '1,317729', '1,882235', '2,951591', '2,067817', '2,54527',\n",
       "       '2,694281', '2,821977', '2,252472', '2,033745', '2,595128',\n",
       "       '2,759286', '1,925064', '2,846981', '2,631565', '2,522399',\n",
       "       '2,784471', '1,650505', '1,961347', '2,133955', '2,684528',\n",
       "       '2,265973', '1,306844', '2,258795', '2,689929', '2,712747',\n",
       "       '2,353603', '2,598051', '1,718156', '2,795086', '2,030256',\n",
       "       '2,493448', '2,442536', '2,003951', '1,34138', '2,607335',\n",
       "       '2,061384', '2,696381', '1,116068', '2,116432', '2,884212',\n",
       "       '2,444599', '2,976975', '2,766036', '1,096455', '2,129969',\n",
       "       '2,735297', '2,01054', '2,689577', '2,413156', '2,923433',\n",
       "       '2,882522', '1,973499', '2,156065', '2,992205', '2,944287',\n",
       "       '1,780746', '2,164062', '2,247704', '2,011656', '2,03414',\n",
       "       '2,746408', '2,1239', '2,332074', '2,748243', '2,303656',\n",
       "       '1,904732', '1,979944', '2,734314', '2,784383', '2,009952',\n",
       "       '2,008656', '1,122127', '2,319776', '1,899116', '2,042762',\n",
       "       '2,129668', '2,182401', '2,802696', '2,492758', '2,733129',\n",
       "       '2,294067', '2,315932', '2,802128', '2,79606', '2,086898',\n",
       "       '2,333503', '2,535315', '2,765769', '2,215464', '2,63165',\n",
       "       '2,942154', '2,716909', '1,83746', '1,936479', '2,045027',\n",
       "       '2,760607', '2,09449', '2,907062', '2,399531', '1,521604',\n",
       "       '2,76802', '2,325623', '2,076689', '2,271306', '2,33361',\n",
       "       '2,13683', '2,909853', '2,490507', '1,063449', '2,699282',\n",
       "       '2,4277', '2,87599', '2,846452', '2,19011', '2,069267', '1,362441',\n",
       "       '2,09663', '2,928234', '2,496455', '1,70825', '2,262171',\n",
       "       '2,740633', '1,081585', '2,587789', '2,252653', '2,036613',\n",
       "       '2,609123', '1,036159', '1,851262', '2,031185', '2,028225',\n",
       "       '2,037585', '1,853314', '1,00876', '2,103335', '2,060922',\n",
       "       '2,533605', '2,457547', '2,983851', '2,061969', '2,450784',\n",
       "       '2,972426', '2,467002', '2,934671', '2,043359', '2,787589',\n",
       "       '2,150054', '1,557287', '2,152264', '2,08841', '2,180047',\n",
       "       '1,826885', '1,524428', '1,164062', '2,123159', '2,259679',\n",
       "       '2,044326', '2,843456', '2,871137', '2,282803', '2,020502',\n",
       "       '2,020785', '2,407817', '1,899793', '2,274164', '1,897796',\n",
       "       '2,85916', '2,340405', '2,921576', '2,92711', '2,805533',\n",
       "       '2,902469', '2,845961', '2,252698', '2,02091', '2,108163',\n",
       "       '1,518966', '2,260543', '2,522183', '2,186322', '2,76632',\n",
       "       '2,071622', '1,918251', '1,967061', '2,640801', '2,870152',\n",
       "       '2,482575', '2,290095', '2,074843', '2,14128', '2,334474',\n",
       "       '2,693859', '2,607747', '2,66889', '2,921225', '1,492834',\n",
       "       '1,220024', '2,667676', '2,569075', '2,949242', '2,871768',\n",
       "       '2,540949', '2,222282', '2,04516', '2,094184', '1,123672',\n",
       "       '2,049112', '1,880534', '1,203754', '2,73691', '2,736628',\n",
       "       '2,642744', '2,387426', '2,107854', '2,253707', '2,393837',\n",
       "       '2,348745', '2,312825', '2,490776', '2,078082', '2,805512',\n",
       "       '1,276858', '2,396265', '2,663866', '2,685484', '2,055209',\n",
       "       '2,025479', '2,385502', '2,465575', '2,818502', '2,081238',\n",
       "       '1,368978', '1,712848', '1,3307', '1,961069', '2,976509',\n",
       "       '2,319648', '1,261288', '2,76533', '2,317734', '1,588114',\n",
       "       '2,549782', '2,206276', '2,18354', '2,962415', '1,99124',\n",
       "       '2,408561', '2,758394', '2,956297', '1,369529', '1,392665',\n",
       "       '2,630401', '2,869778', '1,868212', '1,108663', '2,95801',\n",
       "       '2,197261', '2,048962', '2,139196', '2,72989', '1,994679',\n",
       "       '2,403421', '2,964319', '1,617093', '1,631144', '2,317459',\n",
       "       '2,501224', '2,983042', '2,323351', '1,428289', '1,992889',\n",
       "       '1,562804', '1,794825', '2,305349', '2,576449', '2,633855',\n",
       "       '2,200588', '2,05687', '2,247795', '2,239634', '2,09283', '2,9673',\n",
       "       '2,225731', '2,178308', '2,065752', '2,263245', '2,443538',\n",
       "       '2,744994', '2,630137', '2,113843', '2,821727', '2,312528',\n",
       "       '2,938801', '2,050619', '1,457758', '2,028571', '2,177896',\n",
       "       '2,252382', '2,668949', '2,723953', '2,736298', '2,871016',\n",
       "       '2,96405', '2,653721', '2,859097', '1,572036', '1,387489',\n",
       "       '2,941929', '2,973569', '2,041376', '2,02472', '2,133964',\n",
       "       '2,702457', '1,760038', '1,996646', '2,644094', '2,475892',\n",
       "       '2,998441', '2,397284', '2,382705', '2,176317', '2,877743',\n",
       "       '2,303041', '1,585183', '2,281963', '2,561638', '2,600217',\n",
       "       '2,79166', '2,08868', '2,328469', '2,002784', '1,975675',\n",
       "       '2,002076', '2,218599', '2,392179', '2,381164', '2,008245',\n",
       "       '2,155182', '2,969233', '2,765063', '2,195964', '2,918113',\n",
       "       '2,939727', '1,264234', '1,517912', '2,23372', '1,475906',\n",
       "       '2,032883', '2,046651', '2,667229', '2,819934', '2,954417',\n",
       "       '2,826251', '2,935157', '2,870895', '2,869833', '1,878251',\n",
       "       '1,750809', '1,168856', '1,443674', '2,826036', '2,9553',\n",
       "       '2,772027', '2,108638', '2,467548', '2,585942', '2,14961',\n",
       "       '2,938616', '2,535154', '2,611222', '1,800122', '1,482722',\n",
       "       '1,735664', '1,655684', '2,598207', '2,519592', '2,111887',\n",
       "       '2,970983', '2,907542', '1,451337', '1,537505', '1,893428',\n",
       "       '2,007845', '2,487781', '2,541785', '2,813775', '2,922511',\n",
       "       '2,836055', '2,880759', '2,766441', '2,997524', '2,181057',\n",
       "       '1,924632', '1,397468', '2,191429', '2,075321', '1,626369',\n",
       "       '1,263216', '1,067909', '2,310751', '2,294259', '2,57649',\n",
       "       '2,679664', '2,938687', '2,654792', '2,731368', '2,22259',\n",
       "       '2,432355', '2,497548', '2,671238', '2,57691', '2,341999',\n",
       "       '2,117121', '2,247037', '2,244654', '2,128574', '2,068834',\n",
       "       '2,073224', '2,145114', '2,997951', '2,911312', '2,175276',\n",
       "       '2,21965', '2,203962', '1,947495', '2,262292', '2,219186',\n",
       "       '2,314175', '2,423291', '2,637202', '2,974006', '2,347942',\n",
       "       '2,654076', '2739', '2,611847', '2,766612', '2,777165', '2,571274',\n",
       "       '2,49619', '2,151335', '2,01695', '2,927187', '1,412566',\n",
       "       '1,289315', '1,624366', '1,528331', '2,037042', '2,191108',\n",
       "       '1,431346', '1,84199', '2,499388', '2,230742', '2,240757',\n",
       "       '2,996186', '2,649406', '2,525884', '2,736647', '2,684335',\n",
       "       '2,425503', '1,469384', '2,906269', '2,808027', '2,636719',\n",
       "       '2,996717', '2,880483', '2,919526', '2,724121', '2,801992',\n",
       "       '2,748971', '2,680375'], dtype=object)"
      ]
     },
     "execution_count": 9,
     "metadata": {},
     "output_type": "execute_result"
    }
   ],
   "source": [
    "fiber_diet.unique()"
   ]
  },
  {
   "cell_type": "code",
   "execution_count": 10,
   "id": "3685b684",
   "metadata": {},
   "outputs": [
    {
     "data": {
      "text/plain": [
       "0       2\n",
       "1       3\n",
       "2       2\n",
       "3       3\n",
       "4       2\n",
       "       ..\n",
       "1916    3\n",
       "1917    3\n",
       "1918    3\n",
       "1919    3\n",
       "1920    3\n",
       "Name: Regular_fiber_diet, Length: 1921, dtype: int32"
      ]
     },
     "execution_count": 10,
     "metadata": {},
     "output_type": "execute_result"
    }
   ],
   "source": [
    "new_fiber_diet=fiber_diet.apply(lambda s: re.sub(r\",\",\"\",s)).astype(int)\n",
    "new_fiber_diet"
   ]
  },
  {
   "cell_type": "markdown",
   "id": "4b0a9b9a",
   "metadata": {},
   "source": [
    "In acest dataset observam ca dincolo de valori asteptate, precum 1,2,3 care poate reprezenta continutul de fibre (scazut,mediu,mare), observam si niste anomalii: date nepermis de mari. Sa vedem totusi distributia lor."
   ]
  },
  {
   "cell_type": "code",
   "execution_count": 11,
   "id": "3c91acf6",
   "metadata": {},
   "outputs": [
    {
     "data": {
      "text/plain": [
       "Regular_fiber_diet\n",
       "3          597\n",
       "2          551\n",
       "1           28\n",
       "2568063      2\n",
       "2630137      2\n",
       "          ... \n",
       "2119643      1\n",
       "2901924      1\n",
       "2451009      1\n",
       "2754646      1\n",
       "2680375      1\n",
       "Name: count, Length: 733, dtype: int64"
      ]
     },
     "execution_count": 11,
     "metadata": {},
     "output_type": "execute_result"
    }
   ],
   "source": [
    "new_fiber_diet.value_counts()"
   ]
  },
  {
   "cell_type": "markdown",
   "id": "30a5fb15",
   "metadata": {},
   "source": [
    "Sa facem un pie chart, considerand ca fiind valori ciudate, toate cele care apar de cel mult 2 ori"
   ]
  },
  {
   "cell_type": "code",
   "execution_count": 12,
   "id": "5532344e",
   "metadata": {},
   "outputs": [
    {
     "data": {
      "image/png": "[encoded data removed]",
      "text/plain": [
       "<Figure size 640x480 with 1 Axes>"
      ]
     },
     "metadata": {},
     "output_type": "display_data"
    }
   ],
   "source": [
    "outlier_fiber_diet=new_fiber_diet.value_counts().iloc[3:]\n",
    "total_outliers=outlier_fiber_diet.sum()\n",
    "plt.pie([new_fiber_diet.value_counts().iloc[0],new_fiber_diet.value_counts().iloc[1],\n",
    "         new_fiber_diet.value_counts().iloc[2],outlier_fiber_diet.to_numpy().sum()],labels=[\"3\",\"2\",\"1\",\"strange values\"],\n",
    "       radius=2)\n",
    "plt.legend()\n",
    "plt.show()"
   ]
  },
  {
   "cell_type": "code",
   "execution_count": 13,
   "id": "b7eeb406",
   "metadata": {},
   "outputs": [],
   "source": [
    "outlier_indexes=new_fiber_diet[(new_fiber_diet!=1) & (new_fiber_diet!=2) & (new_fiber_diet!=3)].index.to_list()"
   ]
  },
  {
   "cell_type": "code",
   "execution_count": 14,
   "id": "6177cae8",
   "metadata": {},
   "outputs": [],
   "source": [
    "def make_intervals(outlier_indexes):\n",
    "    intervals=[]\n",
    "    left=0\n",
    "    index=0\n",
    "    while index<len(outlier_indexes):\n",
    "        right=outlier_indexes[index]\n",
    "        while(index+1<len(outlier_indexes)):\n",
    "            if(outlier_indexes[index+1]-outlier_indexes[index]==1):\n",
    "                index+=1\n",
    "            else:\n",
    "                break\n",
    "        intervals.append((left,outlier_indexes[index]))\n",
    "        left=outlier_indexes[index]+1\n",
    "        index+=1\n",
    "    intervals.append((left,len(dataset)))\n",
    "    return intervals\n",
    "fiber_intervals=make_intervals(outlier_indexes)"
   ]
  },
  {
   "cell_type": "markdown",
   "id": "896e0727",
   "metadata": {},
   "source": [
    "Vazand discrepante mari in ceea ce priveste frecventa consideram inestetica o histograma. Observam ca toate valorile inexplicabil de mari pentru fiber_diet nu apar de mai mult de 2 ori, asa ca pot fi considerati outlieri"
   ]
  },
  {
   "cell_type": "code",
   "execution_count": 15,
   "id": "acf7f4f7",
   "metadata": {},
   "outputs": [
    {
     "data": {
      "text/plain": [
       "Regular_fiber_diet\n",
       "3          0.310776\n",
       "2          0.286830\n",
       "1          0.014576\n",
       "2568063    0.001041\n",
       "2630137    0.001041\n",
       "             ...   \n",
       "2119643    0.000521\n",
       "2901924    0.000521\n",
       "2451009    0.000521\n",
       "2754646    0.000521\n",
       "2680375    0.000521\n",
       "Name: proportion, Length: 733, dtype: float64"
      ]
     },
     "execution_count": 15,
     "metadata": {},
     "output_type": "execute_result"
    }
   ],
   "source": [
    "new_fiber_diet.value_counts(normalize=True)"
   ]
  },
  {
   "cell_type": "markdown",
   "id": "da2a1526",
   "metadata": {},
   "source": [
    "Uitandu-ne din punct de vedere procentual vedem ca valorile normale (1,2,3) apar aproximativ 60% din date. Pentru a gestiona aceasta situatie, consideram urmatoarea strategie. Stiind indecsii corespunzatori valorilor problema ale coloanei, punem initial un placeholder, XX. Apoi, de la indicele 0 (prima inregistrare din tabela) pana la fiecare index unde au aparut probleme, inlocuim XX cu cea mai frecventa valoare intalnita de la inceputul datasetului si pana la indexul corespunzator fiecarei situatii problema"
   ]
  },
  {
   "cell_type": "code",
   "execution_count": 16,
   "id": "596c78a6",
   "metadata": {},
   "outputs": [],
   "source": [
    "dataset.loc[outlier_indexes,\"Regular_fiber_diet\"]='XX'"
   ]
  },
  {
   "cell_type": "code",
   "execution_count": 17,
   "id": "5fa0adb2",
   "metadata": {},
   "outputs": [],
   "source": [
    "for left_side,right_side in fiber_intervals:\n",
    "    index=left_side\n",
    "    for new_row in modeImputer.fit_transform(dataset.loc[0:right_side+1])[left_side:right_side+1]:\n",
    "        dataset.loc[index]=new_row\n",
    "        index+=1"
   ]
  },
  {
   "cell_type": "code",
   "execution_count": 18,
   "id": "4821e9ab",
   "metadata": {},
   "outputs": [
    {
     "data": {
      "text/plain": [
       "Regular_fiber_diet\n",
       "2    1296\n",
       "3     597\n",
       "1      28\n",
       "Name: count, dtype: int64"
      ]
     },
     "execution_count": 18,
     "metadata": {},
     "output_type": "execute_result"
    }
   ],
   "source": [
    "dataset[\"Regular_fiber_diet\"].value_counts()"
   ]
  },
  {
   "cell_type": "code",
   "execution_count": 19,
   "id": "a52c6b13",
   "metadata": {},
   "outputs": [
    {
     "data": {
      "image/png": "[encoded data removed]",
      "text/plain": [
       "<Figure size 640x480 with 1 Axes>"
      ]
     },
     "metadata": {},
     "output_type": "display_data"
    }
   ],
   "source": [
    "plt.pie(dataset[\"Regular_fiber_diet\"].value_counts(),labels=[\"2\",\"3\",\"1\"],\n",
    "       radius=2)\n",
    "plt.legend()\n",
    "plt.show()"
   ]
  },
  {
   "cell_type": "markdown",
   "id": "15164df7",
   "metadata": {},
   "source": [
    "- ### Diagnostic_in_family_history"
   ]
  },
  {
   "cell_type": "code",
   "execution_count": 20,
   "id": "a3897630",
   "metadata": {},
   "outputs": [],
   "source": [
    "family_history=dataset[\"Diagnostic_in_family_history\"]"
   ]
  },
  {
   "cell_type": "markdown",
   "id": "c9d96f4e",
   "metadata": {},
   "source": [
    "Fiind o variabila categorica binara, sa facem o histograma"
   ]
  },
  {
   "cell_type": "code",
   "execution_count": 21,
   "id": "b14a6491",
   "metadata": {},
   "outputs": [
    {
     "data": {
      "image/png": "[encoded data removed]",
      "text/plain": [
       "<Figure size 640x480 with 1 Axes>"
      ]
     },
     "metadata": {},
     "output_type": "display_data"
    }
   ],
   "source": [
    "family_history.hist(grid=False)\n",
    "plt.title(\"Distributia istoricului medical familial\")\n",
    "plt.show()"
   ]
  },
  {
   "cell_type": "code",
   "execution_count": 22,
   "id": "3d4f7ca0",
   "metadata": {},
   "outputs": [],
   "source": [
    "dataset[\"Diagnostic_in_family_history\"].replace({\"yes\":1,\"no\":0},inplace=True)"
   ]
  },
  {
   "cell_type": "markdown",
   "id": "3669a4d8",
   "metadata": {},
   "source": [
    "- ### High_calorie_diet"
   ]
  },
  {
   "cell_type": "code",
   "execution_count": 23,
   "id": "c7f5705f",
   "metadata": {},
   "outputs": [],
   "source": [
    "high_cals=dataset[\"High_calorie_diet\"]"
   ]
  },
  {
   "cell_type": "code",
   "execution_count": 24,
   "id": "d9e5a4cd",
   "metadata": {},
   "outputs": [
    {
     "data": {
      "text/plain": [
       "array(['no', 'yes'], dtype=object)"
      ]
     },
     "execution_count": 24,
     "metadata": {},
     "output_type": "execute_result"
    }
   ],
   "source": [
    "high_cals.unique()"
   ]
  },
  {
   "cell_type": "markdown",
   "id": "7ff3b5de",
   "metadata": {},
   "source": [
    "Facem o histograma a acestei variabile categorice binare"
   ]
  },
  {
   "cell_type": "code",
   "execution_count": 25,
   "id": "3ffa12e6",
   "metadata": {},
   "outputs": [
    {
     "data": {
      "image/png": "[encoded data removed]",
      "text/plain": [
       "<Figure size 640x480 with 1 Axes>"
      ]
     },
     "metadata": {},
     "output_type": "display_data"
    }
   ],
   "source": [
    "high_cals.hist(grid=False)\n",
    "plt.title(\"Pacienti ce prefera mesele bogate in calorii\")\n",
    "plt.show()"
   ]
  },
  {
   "cell_type": "code",
   "execution_count": 26,
   "id": "6617fc63",
   "metadata": {},
   "outputs": [],
   "source": [
    "dataset[\"High_calorie_diet\"].replace({\"yes\":1,\"no\":0},inplace=True)"
   ]
  },
  {
   "cell_type": "markdown",
   "id": "ec35e10a",
   "metadata": {},
   "source": [
    "- ### Sedentary_hours_daily"
   ]
  },
  {
   "cell_type": "code",
   "execution_count": 27,
   "id": "7a69783f",
   "metadata": {},
   "outputs": [],
   "source": [
    "sedentary=dataset[\"Sedentary_hours_daily\"].apply(lambda s: re.sub(\",\",\".\",s)).astype(float)\n",
    "dataset[\"Sedentary_hours_daily\"]=sedentary"
   ]
  },
  {
   "cell_type": "markdown",
   "id": "c48bbd02",
   "metadata": {},
   "source": [
    "La prima vedere pare ca avem de-a face o valoare numerica. Am facut conversia de la . la , pentru a putea face statistici"
   ]
  },
  {
   "cell_type": "code",
   "execution_count": 28,
   "id": "b5187c06",
   "metadata": {},
   "outputs": [
    {
     "data": {
      "text/plain": [
       "array([  3.73,   2.92,   3.85,   3.01,   2.73,   3.12,   3.09,   3.53,\n",
       "         3.04,   4.47,   3.9 ,   2.78,   3.6 ,   3.37,   3.45,   2.86,\n",
       "         2.21,   2.94,   4.44,   2.97,   3.1 ,   4.29,   3.57,   3.91,\n",
       "         4.56,   3.22,   3.  ,   4.31,   2.68,   3.34,   2.29,   4.42,\n",
       "         2.81,   2.23,   3.13,   3.14,   3.07,   3.28,   2.25,   2.31,\n",
       "         2.32,   3.75,   3.18,   3.4 ,   2.99,   3.03,   4.08,   3.26,\n",
       "         3.88,   3.47,   2.45,   3.83,   4.16,   3.5 ,   2.56,   3.06,\n",
       "         3.58,   2.77,   3.19,   3.15,   2.38,   2.7 ,   2.93,   3.69,\n",
       "         2.67,   3.93,   2.41,   2.95,   2.35,   2.55,   3.35,   2.63,\n",
       "         2.72,   2.26,   3.29,   3.78,   3.08,   3.66,   2.6 ,   2.57,\n",
       "         2.59,   3.42,   4.13,   3.41,   3.31,   4.38,   3.21,   4.15,\n",
       "         3.11,   2.58,   3.65,   4.1 ,   2.24,   4.43,   3.76,   2.37,\n",
       "         2.8 ,   2.91,   3.17,   2.65,   2.46,   4.61,   4.46,   2.85,\n",
       "         3.48,   2.51,   2.49,   2.34,   4.11,   2.53,   2.48,   2.47,\n",
       "         2.76,   2.69,   2.87,   2.82,   3.97,   4.66,   3.8 ,   3.84,\n",
       "         3.05,   2.79,   3.51,   4.02,   2.42,   3.54,   3.94,   4.3 ,\n",
       "         2.83,   3.32,   3.79,   3.86,   3.92,   4.37,   2.66,   2.98,\n",
       "         3.3 ,   3.82,   4.28,   3.02,   3.56,   3.23,   3.87,   2.27,\n",
       "         2.64,   3.36,   3.2 ,   3.38,   3.71,   2.75,   4.03,   4.21,\n",
       "         2.44,   3.43,   4.49,   3.39,   3.55,   2.3 ,   3.52,   3.81,\n",
       "         2.96,   2.43,   4.57,   4.52,   4.17,   4.34,   4.09,   3.63,\n",
       "         2.74,   2.9 ,   3.44,   3.89,   4.18,   2.5 ,   4.65,   3.24,\n",
       "         2.33,   4.39,   4.4 ,   3.7 ,   2.88,   3.99,   3.49,   2.54,\n",
       "         3.74,   2.52,   2.62,   2.39,   3.64,   4.22,   3.27,   3.16,\n",
       "         2.61,   3.72,   4.27,   4.63,   3.25,   4.2 ,   4.54,   3.68,\n",
       "         3.77,   4.01,   3.98,   4.25,   4.33,   2.71,   4.23,   4.07,\n",
       "         3.46,   3.61,   4.35,   3.95,   2.36,   3.67,   4.59,   4.06,\n",
       "         4.12,   4.6 ,   2.89,   3.59,   3.62,   4.64,   2.84,   4.36,\n",
       "       956.58,   2.28,   4.5 ,   2.22,   3.33,   2.4 ,   4.05,   4.04,\n",
       "         4.32,   4.51,   4.24,   4.  ,   4.19,   4.58,   4.67])"
      ]
     },
     "execution_count": 28,
     "metadata": {},
     "output_type": "execute_result"
    }
   ],
   "source": [
    "sedentary.unique()"
   ]
  },
  {
   "cell_type": "code",
   "execution_count": 29,
   "id": "caf8eb1d",
   "metadata": {},
   "outputs": [
    {
     "data": {
      "text/plain": [
       "Sedentary_hours_daily\n",
       "3.09    26\n",
       "3.06    24\n",
       "3.01    23\n",
       "3.03    22\n",
       "3.14    21\n",
       "        ..\n",
       "4.36     1\n",
       "3.99     1\n",
       "4.63     1\n",
       "4.07     1\n",
       "4.67     1\n",
       "Name: count, Length: 239, dtype: int64"
      ]
     },
     "execution_count": 29,
     "metadata": {},
     "output_type": "execute_result"
    }
   ],
   "source": [
    "sedentary.value_counts()"
   ]
  },
  {
   "cell_type": "code",
   "execution_count": 30,
   "id": "fbfc15ef",
   "metadata": {},
   "outputs": [
    {
     "data": {
      "text/plain": [
       "1"
      ]
     },
     "execution_count": 30,
     "metadata": {},
     "output_type": "execute_result"
    }
   ],
   "source": [
    "sedentary.value_counts()[956.58]"
   ]
  },
  {
   "cell_type": "code",
   "execution_count": 31,
   "id": "2553a332",
   "metadata": {},
   "outputs": [],
   "source": [
    "dataset=dataset[dataset[\"Sedentary_hours_daily\"]!=956.58]"
   ]
  },
  {
   "cell_type": "code",
   "execution_count": 32,
   "id": "d267e461",
   "metadata": {},
   "outputs": [
    {
     "data": {
      "text/plain": [
       "count    1920.000000\n",
       "mean        3.197276\n",
       "std         0.575756\n",
       "min         2.210000\n",
       "25%         2.770000\n",
       "50%         3.130000\n",
       "75%         3.640000\n",
       "max         4.670000\n",
       "Name: Sedentary_hours_daily, dtype: float64"
      ]
     },
     "execution_count": 32,
     "metadata": {},
     "output_type": "execute_result"
    }
   ],
   "source": [
    "dataset[\"Sedentary_hours_daily\"].describe()"
   ]
  },
  {
   "cell_type": "code",
   "execution_count": 33,
   "id": "7ef62bca",
   "metadata": {},
   "outputs": [
    {
     "data": {
      "image/png": "[encoded data removed]",
      "text/plain": [
       "<Figure size 640x480 with 1 Axes>"
      ]
     },
     "metadata": {},
     "output_type": "display_data"
    }
   ],
   "source": [
    "dataset[\"Sedentary_hours_daily\"].plot.box()\n",
    "plt.ylabel(\"Sedentary_hours_daily\")\n",
    "plt.show()"
   ]
  },
  {
   "cell_type": "markdown",
   "id": "cb7f0c86",
   "metadata": {},
   "source": [
    "Box plot-ul este, din pacate foarte mic, dar se vede totusi un outlier destul de interesant, ce pare a fi cel corespunzator maximului, si anume de 956,58"
   ]
  },
  {
   "cell_type": "code",
   "execution_count": 34,
   "id": "6d327060",
   "metadata": {},
   "outputs": [
    {
     "data": {
      "text/plain": [
       "0.8700000000000001"
      ]
     },
     "execution_count": 34,
     "metadata": {},
     "output_type": "execute_result"
    }
   ],
   "source": [
    "IQR=dataset[\"Sedentary_hours_daily\"].describe()[\"75%\"]-dataset[\"Sedentary_hours_daily\"].describe()[\"25%\"]\n",
    "IQR"
   ]
  },
  {
   "cell_type": "markdown",
   "id": "ffc47a88",
   "metadata": {},
   "source": [
    "- ### Age"
   ]
  },
  {
   "cell_type": "code",
   "execution_count": 35,
   "id": "71557a2b",
   "metadata": {},
   "outputs": [],
   "source": [
    "age=dataset[\"Age\"]"
   ]
  },
  {
   "cell_type": "markdown",
   "id": "818b1569",
   "metadata": {},
   "source": [
    "Valori unice"
   ]
  },
  {
   "cell_type": "code",
   "execution_count": 36,
   "id": "a5475c62",
   "metadata": {},
   "outputs": [
    {
     "data": {
      "text/plain": [
       "array(['21', '23', '27', ..., '22,524036', '24,361936', '23,664709'],\n",
       "      dtype=object)"
      ]
     },
     "execution_count": 36,
     "metadata": {},
     "output_type": "execute_result"
    }
   ],
   "source": [
    "age.unique()"
   ]
  },
  {
   "cell_type": "markdown",
   "id": "bc6bf5c4",
   "metadata": {},
   "source": [
    "Facem putina preprocesare pentru a scoate virgula"
   ]
  },
  {
   "cell_type": "code",
   "execution_count": 37,
   "id": "ae776ca3",
   "metadata": {},
   "outputs": [],
   "source": [
    "age_ints=age.apply(lambda s:re.sub(\",\",\"\",s)).astype(int)\n",
    "dataset[\"Age\"]=age_ints"
   ]
  },
  {
   "cell_type": "code",
   "execution_count": 38,
   "id": "f8b434d7",
   "metadata": {},
   "outputs": [
    {
     "data": {
      "text/plain": [
       "array([      21,       23,       27, ..., 22524036, 24361936, 23664709])"
      ]
     },
     "execution_count": 38,
     "metadata": {},
     "output_type": "execute_result"
    }
   ],
   "source": [
    "age_ints.unique()"
   ]
  },
  {
   "cell_type": "markdown",
   "id": "1fce35ab",
   "metadata": {},
   "source": [
    "Pare ca exista niste outlieri in varsta, drept pentru care facem o sortare ca sa ne dam seama ce se intampla"
   ]
  },
  {
   "cell_type": "code",
   "execution_count": 39,
   "id": "bb5858ff",
   "metadata": {},
   "outputs": [
    {
     "data": {
      "text/plain": [
       "Age\n",
       "15            1\n",
       "16            7\n",
       "17           28\n",
       "18          116\n",
       "19           51\n",
       "           ... \n",
       "46491859      1\n",
       "47283374      1\n",
       "50832559      1\n",
       "55022494      1\n",
       "55137881      1\n",
       "Name: count, Length: 1282, dtype: int64"
      ]
     },
     "execution_count": 39,
     "metadata": {},
     "output_type": "execute_result"
    }
   ],
   "source": [
    "sorted_by_age=age_ints.value_counts().sort_index()\n",
    "sorted_by_age"
   ]
  },
  {
   "cell_type": "code",
   "execution_count": 40,
   "id": "92de12cc",
   "metadata": {},
   "outputs": [
    {
     "data": {
      "text/plain": [
       "Index([     15,      16,      17,      18,      19,      20,      21,      22,\n",
       "            23,      24,      25,      26,      27,      28,      29,      30,\n",
       "            31,      32,      33,      34,      35,      36,      37,      38,\n",
       "            39,      40,      41,      44,      45,      51,      52,      55,\n",
       "            56,      61,   19627,   19685,  176739,  203756,  209859,  210285,\n",
       "        213928,  216548,  240409,  245822,  252984,  253292,  330816,  477061,\n",
       "       1630687, 1638009, 1706713, 1708525, 1725813, 1770368, 1804892, 1810682,\n",
       "       1813782, 1820634, 1848207, 1853084, 1883919, 1888061, 1888485, 1891505,\n",
       "       1894093, 1916097, 1917614, 1921164, 1921638, 1947219, 1947554, 1959904,\n",
       "       1972925, 1986997, 1988036, 1994814, 1996247, 1997166, 1997981, 2031094,\n",
       "       2070768, 2081158, 2100829, 2101245, 2102064, 2102497, 2120563, 2128253,\n",
       "       2167315, 2167447, 2172127, 2172738, 2181119, 2182165, 2190012, 2195994,\n",
       "       2218881, 2239251, 2277789, 2287795],\n",
       "      dtype='int32', name='Age')"
      ]
     },
     "execution_count": 40,
     "metadata": {},
     "output_type": "execute_result"
    }
   ],
   "source": [
    "sorted_by_age.index[:100]"
   ]
  },
  {
   "cell_type": "code",
   "execution_count": 41,
   "id": "58abae3b",
   "metadata": {},
   "outputs": [
    {
     "data": {
      "text/html": [
       "<div>\n",
       "<style scoped>\n",
       "    .dataframe tbody tr th:only-of-type {\n",
       "        vertical-align: middle;\n",
       "    }\n",
       "\n",
       "    .dataframe tbody tr th {\n",
       "        vertical-align: top;\n",
       "    }\n",
       "\n",
       "    .dataframe thead th {\n",
       "        text-align: right;\n",
       "    }\n",
       "</style>\n",
       "<table border=\"1\" class=\"dataframe\">\n",
       "  <thead>\n",
       "    <tr style=\"text-align: right;\">\n",
       "      <th></th>\n",
       "      <th>Transportation</th>\n",
       "      <th>Regular_fiber_diet</th>\n",
       "      <th>Diagnostic_in_family_history</th>\n",
       "      <th>High_calorie_diet</th>\n",
       "      <th>Sedentary_hours_daily</th>\n",
       "      <th>Age</th>\n",
       "      <th>Alcohol</th>\n",
       "      <th>Est_avg_calorie_intake</th>\n",
       "      <th>Main_meals_daily</th>\n",
       "      <th>Snacks</th>\n",
       "      <th>Height</th>\n",
       "      <th>Smoker</th>\n",
       "      <th>Water_daily</th>\n",
       "      <th>Calorie_monitoring</th>\n",
       "      <th>Weight</th>\n",
       "      <th>Physical_activity_level</th>\n",
       "      <th>Technology_time_use</th>\n",
       "      <th>Gender</th>\n",
       "      <th>Diagnostic</th>\n",
       "    </tr>\n",
       "  </thead>\n",
       "  <tbody>\n",
       "    <tr>\n",
       "      <th>457</th>\n",
       "      <td>Public_Transportation</td>\n",
       "      <td>3</td>\n",
       "      <td>1</td>\n",
       "      <td>1</td>\n",
       "      <td>3.14</td>\n",
       "      <td>25196214</td>\n",
       "      <td>Sometimes</td>\n",
       "      <td>1654</td>\n",
       "      <td>3</td>\n",
       "      <td>Sometimes</td>\n",
       "      <td>1,69</td>\n",
       "      <td>no</td>\n",
       "      <td>1,152736</td>\n",
       "      <td>no</td>\n",
       "      <td>-1</td>\n",
       "      <td>0,319156</td>\n",
       "      <td>1</td>\n",
       "      <td>Female</td>\n",
       "      <td>D6</td>\n",
       "    </tr>\n",
       "    <tr>\n",
       "      <th>458</th>\n",
       "      <td>Public_Transportation</td>\n",
       "      <td>3</td>\n",
       "      <td>1</td>\n",
       "      <td>1</td>\n",
       "      <td>3.81</td>\n",
       "      <td>18503343</td>\n",
       "      <td>Sometimes</td>\n",
       "      <td>2152</td>\n",
       "      <td>3</td>\n",
       "      <td>Sometimes</td>\n",
       "      <td>1,68</td>\n",
       "      <td>no</td>\n",
       "      <td>1,115967</td>\n",
       "      <td>no</td>\n",
       "      <td>126,67378</td>\n",
       "      <td>1,541072</td>\n",
       "      <td>1</td>\n",
       "      <td>Female</td>\n",
       "      <td>D6</td>\n",
       "    </tr>\n",
       "    <tr>\n",
       "      <th>460</th>\n",
       "      <td>Public_Transportation</td>\n",
       "      <td>3</td>\n",
       "      <td>1</td>\n",
       "      <td>1</td>\n",
       "      <td>3.17</td>\n",
       "      <td>21853826</td>\n",
       "      <td>Sometimes</td>\n",
       "      <td>2622</td>\n",
       "      <td>3</td>\n",
       "      <td>Sometimes</td>\n",
       "      <td>1,76</td>\n",
       "      <td>no</td>\n",
       "      <td>2,184707</td>\n",
       "      <td>no</td>\n",
       "      <td>-1</td>\n",
       "      <td>1,978631</td>\n",
       "      <td>1</td>\n",
       "      <td>Female</td>\n",
       "      <td>D6</td>\n",
       "    </tr>\n",
       "    <tr>\n",
       "      <th>461</th>\n",
       "      <td>Public_Transportation</td>\n",
       "      <td>3</td>\n",
       "      <td>1</td>\n",
       "      <td>1</td>\n",
       "      <td>2.39</td>\n",
       "      <td>2190012</td>\n",
       "      <td>Sometimes</td>\n",
       "      <td>1555</td>\n",
       "      <td>3</td>\n",
       "      <td>Sometimes</td>\n",
       "      <td>1,84</td>\n",
       "      <td>no</td>\n",
       "      <td>2,406541</td>\n",
       "      <td>no</td>\n",
       "      <td>165,057269</td>\n",
       "      <td>0,10032</td>\n",
       "      <td>0</td>\n",
       "      <td>Female</td>\n",
       "      <td>D6</td>\n",
       "    </tr>\n",
       "    <tr>\n",
       "      <th>462</th>\n",
       "      <td>Public_Transportation</td>\n",
       "      <td>3</td>\n",
       "      <td>1</td>\n",
       "      <td>1</td>\n",
       "      <td>3.64</td>\n",
       "      <td>18306615</td>\n",
       "      <td>Sometimes</td>\n",
       "      <td>1734</td>\n",
       "      <td>3</td>\n",
       "      <td>Sometimes</td>\n",
       "      <td>1,75</td>\n",
       "      <td>no</td>\n",
       "      <td>2,984323</td>\n",
       "      <td>no</td>\n",
       "      <td>133,03441</td>\n",
       "      <td>1,586525</td>\n",
       "      <td>1</td>\n",
       "      <td>Female</td>\n",
       "      <td>D6</td>\n",
       "    </tr>\n",
       "    <tr>\n",
       "      <th>...</th>\n",
       "      <td>...</td>\n",
       "      <td>...</td>\n",
       "      <td>...</td>\n",
       "      <td>...</td>\n",
       "      <td>...</td>\n",
       "      <td>...</td>\n",
       "      <td>...</td>\n",
       "      <td>...</td>\n",
       "      <td>...</td>\n",
       "      <td>...</td>\n",
       "      <td>...</td>\n",
       "      <td>...</td>\n",
       "      <td>...</td>\n",
       "      <td>...</td>\n",
       "      <td>...</td>\n",
       "      <td>...</td>\n",
       "      <td>...</td>\n",
       "      <td>...</td>\n",
       "      <td>...</td>\n",
       "    </tr>\n",
       "    <tr>\n",
       "      <th>1916</th>\n",
       "      <td>Public_Transportation</td>\n",
       "      <td>3</td>\n",
       "      <td>1</td>\n",
       "      <td>1</td>\n",
       "      <td>3.08</td>\n",
       "      <td>20976842</td>\n",
       "      <td>Sometimes</td>\n",
       "      <td>2744</td>\n",
       "      <td>3</td>\n",
       "      <td>Sometimes</td>\n",
       "      <td>1,71</td>\n",
       "      <td>no</td>\n",
       "      <td>1,728139</td>\n",
       "      <td>no</td>\n",
       "      <td>131,408528</td>\n",
       "      <td>1,676269</td>\n",
       "      <td>1</td>\n",
       "      <td>Female</td>\n",
       "      <td>D6</td>\n",
       "    </tr>\n",
       "    <tr>\n",
       "      <th>1917</th>\n",
       "      <td>Public_Transportation</td>\n",
       "      <td>3</td>\n",
       "      <td>1</td>\n",
       "      <td>1</td>\n",
       "      <td>3.00</td>\n",
       "      <td>21982942</td>\n",
       "      <td>Sometimes</td>\n",
       "      <td>2977</td>\n",
       "      <td>3</td>\n",
       "      <td>Sometimes</td>\n",
       "      <td>1,75</td>\n",
       "      <td>no</td>\n",
       "      <td>2,00513</td>\n",
       "      <td>no</td>\n",
       "      <td>133,742943</td>\n",
       "      <td>1,34139</td>\n",
       "      <td>1</td>\n",
       "      <td>Female</td>\n",
       "      <td>D6</td>\n",
       "    </tr>\n",
       "    <tr>\n",
       "      <th>1918</th>\n",
       "      <td>Public_Transportation</td>\n",
       "      <td>3</td>\n",
       "      <td>1</td>\n",
       "      <td>1</td>\n",
       "      <td>3.26</td>\n",
       "      <td>22524036</td>\n",
       "      <td>Sometimes</td>\n",
       "      <td>2422</td>\n",
       "      <td>3</td>\n",
       "      <td>Sometimes</td>\n",
       "      <td>1,75</td>\n",
       "      <td>no</td>\n",
       "      <td>2,054193</td>\n",
       "      <td>no</td>\n",
       "      <td>133,689352</td>\n",
       "      <td>1,414209</td>\n",
       "      <td>1</td>\n",
       "      <td>Female</td>\n",
       "      <td>D6</td>\n",
       "    </tr>\n",
       "    <tr>\n",
       "      <th>1919</th>\n",
       "      <td>Public_Transportation</td>\n",
       "      <td>3</td>\n",
       "      <td>1</td>\n",
       "      <td>1</td>\n",
       "      <td>3.61</td>\n",
       "      <td>24361936</td>\n",
       "      <td>Sometimes</td>\n",
       "      <td>2372</td>\n",
       "      <td>3</td>\n",
       "      <td>Sometimes</td>\n",
       "      <td>1,74</td>\n",
       "      <td>no</td>\n",
       "      <td>2,852339</td>\n",
       "      <td>no</td>\n",
       "      <td>133,346641</td>\n",
       "      <td>1,139107</td>\n",
       "      <td>1</td>\n",
       "      <td>Female</td>\n",
       "      <td>D6</td>\n",
       "    </tr>\n",
       "    <tr>\n",
       "      <th>1920</th>\n",
       "      <td>Public_Transportation</td>\n",
       "      <td>3</td>\n",
       "      <td>1</td>\n",
       "      <td>1</td>\n",
       "      <td>3.83</td>\n",
       "      <td>23664709</td>\n",
       "      <td>Sometimes</td>\n",
       "      <td>2336</td>\n",
       "      <td>3</td>\n",
       "      <td>Sometimes</td>\n",
       "      <td>1,74</td>\n",
       "      <td>no</td>\n",
       "      <td>2,863513</td>\n",
       "      <td>no</td>\n",
       "      <td>133,472641</td>\n",
       "      <td>1,026452</td>\n",
       "      <td>1</td>\n",
       "      <td>Female</td>\n",
       "      <td>D6</td>\n",
       "    </tr>\n",
       "  </tbody>\n",
       "</table>\n",
       "<p>1252 rows × 19 columns</p>\n",
       "</div>"
      ],
      "text/plain": [
       "             Transportation Regular_fiber_diet  Diagnostic_in_family_history  \\\n",
       "457   Public_Transportation                  3                             1   \n",
       "458   Public_Transportation                  3                             1   \n",
       "460   Public_Transportation                  3                             1   \n",
       "461   Public_Transportation                  3                             1   \n",
       "462   Public_Transportation                  3                             1   \n",
       "...                     ...                ...                           ...   \n",
       "1916  Public_Transportation                  3                             1   \n",
       "1917  Public_Transportation                  3                             1   \n",
       "1918  Public_Transportation                  3                             1   \n",
       "1919  Public_Transportation                  3                             1   \n",
       "1920  Public_Transportation                  3                             1   \n",
       "\n",
       "      High_calorie_diet  Sedentary_hours_daily       Age    Alcohol  \\\n",
       "457                   1                   3.14  25196214  Sometimes   \n",
       "458                   1                   3.81  18503343  Sometimes   \n",
       "460                   1                   3.17  21853826  Sometimes   \n",
       "461                   1                   2.39   2190012  Sometimes   \n",
       "462                   1                   3.64  18306615  Sometimes   \n",
       "...                 ...                    ...       ...        ...   \n",
       "1916                  1                   3.08  20976842  Sometimes   \n",
       "1917                  1                   3.00  21982942  Sometimes   \n",
       "1918                  1                   3.26  22524036  Sometimes   \n",
       "1919                  1                   3.61  24361936  Sometimes   \n",
       "1920                  1                   3.83  23664709  Sometimes   \n",
       "\n",
       "      Est_avg_calorie_intake Main_meals_daily     Snacks Height Smoker  \\\n",
       "457                     1654                3  Sometimes   1,69     no   \n",
       "458                     2152                3  Sometimes   1,68     no   \n",
       "460                     2622                3  Sometimes   1,76     no   \n",
       "461                     1555                3  Sometimes   1,84     no   \n",
       "462                     1734                3  Sometimes   1,75     no   \n",
       "...                      ...              ...        ...    ...    ...   \n",
       "1916                    2744                3  Sometimes   1,71     no   \n",
       "1917                    2977                3  Sometimes   1,75     no   \n",
       "1918                    2422                3  Sometimes   1,75     no   \n",
       "1919                    2372                3  Sometimes   1,74     no   \n",
       "1920                    2336                3  Sometimes   1,74     no   \n",
       "\n",
       "     Water_daily Calorie_monitoring      Weight Physical_activity_level  \\\n",
       "457     1,152736                 no          -1                0,319156   \n",
       "458     1,115967                 no   126,67378                1,541072   \n",
       "460     2,184707                 no          -1                1,978631   \n",
       "461     2,406541                 no  165,057269                 0,10032   \n",
       "462     2,984323                 no   133,03441                1,586525   \n",
       "...          ...                ...         ...                     ...   \n",
       "1916    1,728139                 no  131,408528                1,676269   \n",
       "1917     2,00513                 no  133,742943                 1,34139   \n",
       "1918    2,054193                 no  133,689352                1,414209   \n",
       "1919    2,852339                 no  133,346641                1,139107   \n",
       "1920    2,863513                 no  133,472641                1,026452   \n",
       "\n",
       "      Technology_time_use  Gender Diagnostic  \n",
       "457                     1  Female         D6  \n",
       "458                     1  Female         D6  \n",
       "460                     1  Female         D6  \n",
       "461                     0  Female         D6  \n",
       "462                     1  Female         D6  \n",
       "...                   ...     ...        ...  \n",
       "1916                    1  Female         D6  \n",
       "1917                    1  Female         D6  \n",
       "1918                    1  Female         D6  \n",
       "1919                    1  Female         D6  \n",
       "1920                    1  Female         D6  \n",
       "\n",
       "[1252 rows x 19 columns]"
      ]
     },
     "execution_count": 41,
     "metadata": {},
     "output_type": "execute_result"
    }
   ],
   "source": [
    "abnormal_ages=dataset[dataset[\"Age\"]>61]\n",
    "abnormal_ages"
   ]
  },
  {
   "cell_type": "code",
   "execution_count": 42,
   "id": "d5860566",
   "metadata": {},
   "outputs": [],
   "source": [
    "indices_abnormal_ages=abnormal_ages.index.to_list()\n",
    "abnormal_ages_intervals=make_intervals(indices_abnormal_ages)"
   ]
  },
  {
   "cell_type": "code",
   "execution_count": 43,
   "id": "11a9dd7e",
   "metadata": {},
   "outputs": [],
   "source": [
    "dataset.loc[indices_abnormal_ages,\"Age\"]=-1"
   ]
  },
  {
   "cell_type": "code",
   "execution_count": 44,
   "id": "40d0e889",
   "metadata": {},
   "outputs": [],
   "source": [
    "new_ages=np.zeros(len(dataset))\n",
    "for left_side,right_side in abnormal_ages_intervals:\n",
    "    index=left_side\n",
    "    for new_row in avgImputer.fit_transform(dataset.loc[0:right_side+1,\"Age\"].to_numpy().reshape(-1,1))[left_side:right_side+1]:\n",
    "        new_ages[index]=math.floor(new_row[0])\n",
    "        index+=1"
   ]
  },
  {
   "cell_type": "code",
   "execution_count": 45,
   "id": "225fe666",
   "metadata": {},
   "outputs": [],
   "source": [
    "dataset.loc[:,\"Age\"]=new_ages"
   ]
  },
  {
   "cell_type": "code",
   "execution_count": 46,
   "id": "f77889a1",
   "metadata": {},
   "outputs": [
    {
     "data": {
      "text/plain": [
       "count    1920.000000\n",
       "mean       22.489062\n",
       "std         3.651991\n",
       "min        15.000000\n",
       "25%        22.000000\n",
       "50%        22.000000\n",
       "75%        23.000000\n",
       "max        61.000000\n",
       "Name: Age, dtype: float64"
      ]
     },
     "execution_count": 46,
     "metadata": {},
     "output_type": "execute_result"
    }
   ],
   "source": [
    "dataset[\"Age\"].describe()"
   ]
  },
  {
   "cell_type": "code",
   "execution_count": 47,
   "id": "611d8d82",
   "metadata": {},
   "outputs": [
    {
     "name": "stdout",
     "output_type": "stream",
     "text": [
      "1.0\n"
     ]
    },
    {
     "data": {
      "text/plain": [
       "<AxesSubplot:>"
      ]
     },
     "execution_count": 47,
     "metadata": {},
     "output_type": "execute_result"
    },
    {
     "data": {
      "image/png": "[encoded data removed]",
      "text/plain": [
       "<Figure size 640x480 with 1 Axes>"
      ]
     },
     "metadata": {},
     "output_type": "display_data"
    }
   ],
   "source": [
    "IQR=dataset[\"Age\"].describe()[\"75%\"]-dataset[\"Age\"].describe()[\"25%\"]\n",
    "print(IQR)\n",
    "dataset[\"Age\"].plot.box()"
   ]
  },
  {
   "cell_type": "markdown",
   "id": "e5492c45",
   "metadata": {},
   "source": [
    "- ### Alcohol"
   ]
  },
  {
   "cell_type": "code",
   "execution_count": 48,
   "id": "a525408e",
   "metadata": {},
   "outputs": [],
   "source": [
    "alcohol=dataset[\"Alcohol\"]"
   ]
  },
  {
   "cell_type": "code",
   "execution_count": 49,
   "id": "de34ffb4",
   "metadata": {},
   "outputs": [
    {
     "data": {
      "text/plain": [
       "array(['no', 'Sometimes', 'Frequently', 'Always'], dtype=object)"
      ]
     },
     "execution_count": 49,
     "metadata": {},
     "output_type": "execute_result"
    }
   ],
   "source": [
    "alcohol.unique()"
   ]
  },
  {
   "cell_type": "code",
   "execution_count": 50,
   "id": "63a1e8c2",
   "metadata": {},
   "outputs": [
    {
     "data": {
      "image/png": "[encoded data removed]",
      "text/plain": [
       "<Figure size 640x480 with 1 Axes>"
      ]
     },
     "metadata": {},
     "output_type": "display_data"
    }
   ],
   "source": [
    "alcohol.hist(grid=False)\n",
    "plt.show()"
   ]
  },
  {
   "cell_type": "code",
   "execution_count": 51,
   "id": "704bf8f8",
   "metadata": {},
   "outputs": [],
   "source": [
    "dataset[\"Alcohol\"].replace({\"no\":0,\"Sometimes\":1,\"Frequently\":2,\"Always\":3},inplace=True)"
   ]
  },
  {
   "cell_type": "markdown",
   "id": "78317e76",
   "metadata": {},
   "source": [
    "- ### Est_avg_calorie_intake"
   ]
  },
  {
   "cell_type": "code",
   "execution_count": 52,
   "id": "35418633",
   "metadata": {},
   "outputs": [
    {
     "data": {
      "text/plain": [
       "array([2474, 2429, 2656, ..., 2778, 1747, 2372], dtype=int64)"
      ]
     },
     "execution_count": 52,
     "metadata": {},
     "output_type": "execute_result"
    }
   ],
   "source": [
    "avg_calorie=dataset[\"Est_avg_calorie_intake\"]\n",
    "avg_calorie.unique()"
   ]
  },
  {
   "cell_type": "code",
   "execution_count": 53,
   "id": "22572c9e",
   "metadata": {},
   "outputs": [
    {
     "data": {
      "text/plain": [
       "array([1500, 1501, 1502, ..., 2996, 2998, 3000], dtype=int64)"
      ]
     },
     "execution_count": 53,
     "metadata": {},
     "output_type": "execute_result"
    }
   ],
   "source": [
    "np.sort(avg_calorie.unique())"
   ]
  },
  {
   "cell_type": "code",
   "execution_count": 54,
   "id": "70c757d5",
   "metadata": {},
   "outputs": [
    {
     "data": {
      "text/plain": [
       "count    1920.000000\n",
       "mean     2253.405208\n",
       "std       434.012263\n",
       "min      1500.000000\n",
       "25%      1870.250000\n",
       "50%      2252.500000\n",
       "75%      2628.000000\n",
       "max      3000.000000\n",
       "Name: Est_avg_calorie_intake, dtype: float64"
      ]
     },
     "execution_count": 54,
     "metadata": {},
     "output_type": "execute_result"
    }
   ],
   "source": [
    "avg_calorie_stats=avg_calorie.describe()\n",
    "avg_calorie_stats"
   ]
  },
  {
   "cell_type": "code",
   "execution_count": 55,
   "id": "b591d6b7",
   "metadata": {},
   "outputs": [
    {
     "data": {
      "text/plain": [
       "757.75"
      ]
     },
     "execution_count": 55,
     "metadata": {},
     "output_type": "execute_result"
    }
   ],
   "source": [
    "avg_calorie_stats[\"75%\"]-avg_calorie_stats[\"25%\"]"
   ]
  },
  {
   "cell_type": "code",
   "execution_count": 56,
   "id": "32626c04",
   "metadata": {},
   "outputs": [
    {
     "data": {
      "image/png": "[encoded data removed]",
      "text/plain": [
       "<Figure size 640x480 with 1 Axes>"
      ]
     },
     "metadata": {},
     "output_type": "display_data"
    }
   ],
   "source": [
    "avg_calorie.plot.box()\n",
    "plt.show()"
   ]
  },
  {
   "cell_type": "markdown",
   "id": "525587bc",
   "metadata": {},
   "source": [
    "- ### Main_meals_daily"
   ]
  },
  {
   "cell_type": "code",
   "execution_count": 57,
   "id": "5c68e540",
   "metadata": {},
   "outputs": [
    {
     "data": {
      "text/plain": [
       "array(['3', '1', '4', '3,28926', '3,995147', '2,581015', '1,600812',\n",
       "       '1,73762', '1,10548', '2,0846', '2,857787', '3,765526', '3,285167',\n",
       "       '3,691226', '3,156153', '1,07976', '3,559841', '3,891994',\n",
       "       '3,240578', '3,904858', '3,11158', '3,590039', '2,057935',\n",
       "       '3,558637', '2,000986', '3,821168', '3,897078', '3,092116',\n",
       "       '3,286431', '3,592415', '3,754599', '3,566082', '3,725797',\n",
       "       '3,520555', '3,731212', '1,259803', '1,273128', '3,647154',\n",
       "       '3,300666', '3,535016', '1,717608', '2,884479', '3,626815',\n",
       "       '3,16645', '3,494849', '2,99321', '2,127797', '3,90779',\n",
       "       '3,699594', '3,179995', '3,238258', '3,804944', '1,630846',\n",
       "       '3,762778', '2,705445', '3,34175', '2,217651', '2,893778',\n",
       "       '3,502604', '3,998766', '3,193671', '1,69608', '2,812377',\n",
       "       '1,612747', '1,082304', '1,882158', '2,326233', '1,989398',\n",
       "       '1,735493', '3,715118', '3,489918', '3,378859', '3,263201',\n",
       "       '3,994588', '3,24934', '3,087544', '1,163666', '3,409363',\n",
       "       '3,281391', '3,98525', '3,471536', '3,488342', '3,443456',\n",
       "       '3,03779', '3,642802', '2,645858', '3,420618', '2,64155',\n",
       "       '3,887906', '3,435905', '3,747163', '2,625475', '3,098399',\n",
       "       '3,12544', '3,96981', '3,712183', '3,832911', '3,576103',\n",
       "       '3,56544', '3,266644', '3,433908', '3,998618', '1,226342',\n",
       "       '1,060796', '3,595761', '3,737914', '3,697831', '3,21043',\n",
       "       '3,45259', '3,205587', '1,513835', '2,779379', '3,732126',\n",
       "       '3,937099', '3,047959', '2,975362', '1,394539', '3,131032',\n",
       "       '1,578521', '3,985442', '3,623364', '3,36313', '1,146052',\n",
       "       '3,981997', '1,9154', '3,714833', '3,292386', '1,104642',\n",
       "       '3,654061', '1,296156', '2,656588', '2,809716', '2,77684',\n",
       "       '1,999014', '2,644692', '2,449723', '2,794156', '1,146794',\n",
       "       '1,131695', '2,488189', '3,999591', '3,612941', '2,951837',\n",
       "       '2,799979', '2,228113', '3,042774', '1,198643', '1,555557',\n",
       "       '3,987707', '3,995957', '1,047197', '1,193589', '3,390143',\n",
       "       '3,546352', '3,266501', '2,372311', '3,715306', '3,376717',\n",
       "       '1,211606', '3,98955', '3,171082', '3,105007', '1,590982',\n",
       "       '1,704828', '2,725012', '2,372339', '1,097312', '1,068196',\n",
       "       '2,752318', '2,737571', '2,608055', '2,625942', '1,411808',\n",
       "       '3,30846', '3,821461', '2,658639', '2,339614', '1,713762',\n",
       "       '2,743277', '3,051804', '3,245148', '3,563744', '3,058539',\n",
       "       '3,196043', '1,391778', '1,13715', '3,269088', '2,938135',\n",
       "       '1,259628', '2,965494', '2,845307', '3,095663', '3,483449',\n",
       "       '3,156309', '3,60885', '2,39007', '1,101404', '2,756405',\n",
       "       '3,054899', '3,335876', '3,205009', '3,648194', '1,865238',\n",
       "       '2,961113', '2,400943', '2,870005', '1,030416', '2,401341',\n",
       "       '2,298612', '3,618722', '2,849848', '2,805436', '3,715148',\n",
       "       '3,788602', '1,893811', '1,010319', '2,669766', '1,322087',\n",
       "       '2,041558', '2,110937', '3,071028', '3,292956', '2,283673',\n",
       "       '1,124977', '2,9948', '2,983297', '1,890213', '1,888067',\n",
       "       '2,256119', '2,6648', '2,547086', '2,812283', '2,278652',\n",
       "       '1,240046', '1,660768', '2,597608', '2,044035', '2,038373',\n",
       "       '1,474836', '3,986652', '2,720642', '1,976744', '2,679724',\n",
       "       '1,619796', '2,59257', '1,546665', '3,339914', '2,358298',\n",
       "       '1,802305', '2,7976', '2,627173', '1,032887', '3,014808',\n",
       "       '2,271734', '2,122545', '2,902766', '2,687502', '1,178708',\n",
       "       '2,279546', '2,677693', '3,53009', '1,835543', '2,853676',\n",
       "       '2,337035', '1,631184', '1,005391', '3,250467', '2,948721',\n",
       "       '1,80993', '1,94671', '2,9796', '2,994198', '1,894384', '2,579291',\n",
       "       '2,449067', '1,532833', '2,961706', '1,152521', '1,729553',\n",
       "       '1,346987', '1,977221', '2,443812', '2,491315', '2,157164',\n",
       "       '1,171027', '3,362758', '1,672706', '2,714115', '2,521546',\n",
       "       '1,338033', '1,081805', '3,087119', '2,909117', '1,466393',\n",
       "       '1,471053', '2,983201', '2,783336', '1,863012', '3,053598',\n",
       "       '3,165837', '2,741413', '1,058123', '2,997414', '1,672958',\n",
       "       '1,680838', '3,070386', '2,608416', '1,599464', '2,815255',\n",
       "       '2,395785', '2,716106', '1,402771', '2,865657', '2,884848',\n",
       "       '2,375026', '2,9774', '2,693646', '2,832018', '2,270163',\n",
       "       '2,646717', '1,193729', '1,477581', '3,209508', '2,756622',\n",
       "       '2,658478', '1,971472', '1,818026', '1,820779', '1,724887',\n",
       "       '3,129155', '3,856434', '2,116195', '2,049908', '1,044628',\n",
       "       '2,98212', '1,009426', '2,667711', '3,000974', '2,698883',\n",
       "       '2,598079', '2,837388', '2,946063', '1,873484', '2,473911',\n",
       "       '2,623079', '2,174968', '2,676148', '2,137068', '1,313403',\n",
       "       '2,113575', '2,092179', '2,974204', '1,001633', '1,2919',\n",
       "       '1,139317', '2,029858', '2,977543', '1,476204', '2,57038',\n",
       "       '2,879541', '1,458507', '1,105617', '1,854536', '1,08687',\n",
       "       '1,25535', '2,870661', '1,482103', '1,81698', '2,582591',\n",
       "       '2,164839', '2,141839', '2,877583', '2,95833', '2,119826',\n",
       "       '2,992606', '1,923607', '2,27374', '1,418985', '1,320768',\n",
       "       '2,964024', '2,933409', '1,271624', '1,00061', '1,068443',\n",
       "       '2,952821', '1,851088', '2,119682', '2,970675', '2,966803',\n",
       "       '1,508685', '2,209314', '1,114564', '2,036794', '2,988539',\n",
       "       '2,977999', '2,733077', '2,427137', '1,867836', '1,548407',\n",
       "       '2,937989', '1,237454', '1,169173', '2,391753', '2,475444',\n",
       "       '2,478794', '2,070033', '2,282392', '1,049534', '1,66338',\n",
       "       '1,672751', '1,734762', '1,92822', '2,475228', '2,093831',\n",
       "       '1,231915', '1,374791', '1,326982', '2,900915', '1,317884',\n",
       "       '2,977909', '1,355752', '1,015488', '2,986172', '2,993623',\n",
       "       '1,001383', '1,001542', '2,590283', '1,773916', '2,989112',\n",
       "       '1,496776', '2,994046', '1,000283', '1,000414', '1,135278',\n",
       "       '2,463113', '1,782109', '2,976098', '2,968098', '1,792695',\n",
       "       '1,116401', '2,984523', '2,978103', '1,578751', '1,874532',\n",
       "       '2,735706', '1,014916', '2,622055', '2,806566', '1,355354',\n",
       "       '1,478334', '1,130751', '1,099151', '1,706551', '1,250548',\n",
       "       '1,202179', '1,194815', '2,880817', '2,918124', '1,073421',\n",
       "       '1,416309', '2,18162', '2,152733', '1,046144', '2,880794',\n",
       "       '2,765213', '2,967089', '2,37985', '2,655265', '1,941307',\n",
       "       '1,709546', '2,883984', '2,935381', '2,961192', '2,973476',\n",
       "       '2,392811', '1,293342', '2,930044', '2,129909', '2,831771',\n",
       "       '2,595126', '2,52751', '2,120936', '1,468948', '2,834253',\n",
       "       '3,734323', '2,049565', '2,272214', '1,418833', '1,109956',\n",
       "       '3,914454', '3,169089', '2,419656', '2,806298', '2,987652',\n",
       "       '2,842848', '1,134321', '1,924168', '2,701689', '2,992903',\n",
       "       '1,834472', '2,123138', '1,265463', '1,340361', '3,989492',\n",
       "       '2,650088', '2,89292', '2,938902', '2,986637', '2,701521',\n",
       "       '2,014671', '1,971659', '1,311797', '1,262831', '3,770379',\n",
       "       '2,87747', '2,175153', '2,13229', '2,993634', '2,999346',\n",
       "       '2,976211', '2,842035', '1,09749', '1,91863', '2,510135',\n",
       "       '2,65772', '2,604998', '2,567567', '1,845858', '1,627555',\n",
       "       '1,569176', '2,371658', '2,378211', '2,454432', '2,915921',\n",
       "       '2,992083', '2,849347', '2,954446', '3,755976', '2,902639',\n",
       "       '2,372705', '2,272801', '2,692889', '2,280545', '2,675411',\n",
       "       '1,487674', '1,02075', '1,240424', '1,154318', '3,219347',\n",
       "       '3,656401', '3,220181', '2,850948', '2,187145', '2,415522',\n",
       "       '2,138375', '1,077331', '2,888193', '2,574108', '2,740492',\n",
       "       '2,749334', '2,993856', '2,993084', '2,989791', '2,920373',\n",
       "       '2,911568', '1,134042', '1,120102', '2,040582', '2,015675',\n",
       "       '2,711238', '2,695396', '2,996834', '2,996444', '2,894142',\n",
       "       '2,683061', '2,806341', '2,791366', '1,703299', '2,142328',\n",
       "       '1,437959', '1,343117', '1,213431', '1,089048'], dtype=object)"
      ]
     },
     "execution_count": 57,
     "metadata": {},
     "output_type": "execute_result"
    }
   ],
   "source": [
    "meals=dataset[\"Main_meals_daily\"]\n",
    "meals.unique()"
   ]
  },
  {
   "cell_type": "markdown",
   "id": "c67f73f7",
   "metadata": {},
   "source": [
    "Se constata prezenta de date anormale pentru aceasta variabila categorica"
   ]
  },
  {
   "cell_type": "code",
   "execution_count": 58,
   "id": "7d0f0ec0",
   "metadata": {},
   "outputs": [
    {
     "data": {
      "text/plain": [
       "array([      3,       1,       4,  328926, 3995147, 2581015, 1600812,\n",
       "        173762,  110548,   20846, 2857787, 3765526, 3285167, 3691226,\n",
       "       3156153,  107976, 3559841, 3891994, 3240578, 3904858,  311158,\n",
       "       3590039, 2057935, 3558637, 2000986, 3821168, 3897078, 3092116,\n",
       "       3286431, 3592415, 3754599, 3566082, 3725797, 3520555, 3731212,\n",
       "       1259803, 1273128, 3647154, 3300666, 3535016, 1717608, 2884479,\n",
       "       3626815,  316645, 3494849,  299321, 2127797,  390779, 3699594,\n",
       "       3179995, 3238258, 3804944, 1630846, 3762778, 2705445,  334175,\n",
       "       2217651, 2893778, 3502604, 3998766, 3193671,  169608, 2812377,\n",
       "       1612747, 1082304, 1882158, 2326233, 1989398, 1735493, 3715118,\n",
       "       3489918, 3378859, 3263201, 3994588,  324934, 3087544, 1163666,\n",
       "       3409363, 3281391,  398525, 3471536, 3488342, 3443456,  303779,\n",
       "       3642802, 2645858, 3420618,  264155, 3887906, 3435905, 3747163,\n",
       "       2625475, 3098399,  312544,  396981, 3712183, 3832911, 3576103,\n",
       "        356544, 3266644, 3433908, 3998618, 1226342, 1060796, 3595761,\n",
       "       3737914, 3697831,  321043,  345259, 3205587, 1513835, 2779379,\n",
       "       3732126, 3937099, 3047959, 2975362, 1394539, 3131032, 1578521,\n",
       "       3985442, 3623364,  336313, 1146052, 3981997,   19154, 3714833,\n",
       "       3292386, 1104642, 3654061, 1296156, 2656588, 2809716,  277684,\n",
       "       1999014, 2644692, 2449723, 2794156, 1146794, 1131695, 2488189,\n",
       "       3999591, 3612941, 2951837, 2799979, 2228113, 3042774, 1198643,\n",
       "       1555557, 3987707, 3995957, 1047197, 1193589, 3390143, 3546352,\n",
       "       3266501, 2372311, 3715306, 3376717, 1211606,  398955, 3171082,\n",
       "       3105007, 1590982, 1704828, 2725012, 2372339, 1097312, 1068196,\n",
       "       2752318, 2737571, 2608055, 2625942, 1411808,  330846, 3821461,\n",
       "       2658639, 2339614, 1713762, 2743277, 3051804, 3245148, 3563744,\n",
       "       3058539, 3196043, 1391778,  113715, 3269088, 2938135, 1259628,\n",
       "       2965494, 2845307, 3095663, 3483449, 3156309,  360885,  239007,\n",
       "       1101404, 2756405, 3054899, 3335876, 3205009, 3648194, 1865238,\n",
       "       2961113, 2400943, 2870005, 1030416, 2401341, 2298612, 3618722,\n",
       "       2849848, 2805436, 3715148, 3788602, 1893811, 1010319, 2669766,\n",
       "       1322087, 2041558, 2110937, 3071028, 3292956, 2283673, 1124977,\n",
       "         29948, 2983297, 1890213, 1888067, 2256119,   26648, 2547086,\n",
       "       2812283, 2278652, 1240046, 1660768, 2597608, 2044035, 2038373,\n",
       "       1474836, 3986652, 2720642, 1976744, 2679724, 1619796,  259257,\n",
       "       1546665, 3339914, 2358298, 1802305,   27976, 2627173, 1032887,\n",
       "       3014808, 2271734, 2122545, 2902766, 2687502, 1178708, 2279546,\n",
       "       2677693,  353009, 1835543, 2853676, 2337035, 1631184, 1005391,\n",
       "       3250467, 2948721,  180993,  194671,   29796, 2994198, 1894384,\n",
       "       2579291, 2449067, 1532833, 2961706, 1152521, 1729553, 1346987,\n",
       "       1977221, 2443812, 2491315, 2157164, 1171027, 3362758, 1672706,\n",
       "       2714115, 2521546, 1338033, 1081805, 3087119, 2909117, 1466393,\n",
       "       1471053, 2983201, 2783336, 1863012, 3053598, 3165837, 2741413,\n",
       "       1058123, 2997414, 1672958, 1680838, 3070386, 2608416, 1599464,\n",
       "       2815255, 2395785, 2716106, 1402771, 2865657, 2884848, 2375026,\n",
       "         29774, 2693646, 2832018, 2270163, 2646717, 1193729, 1477581,\n",
       "       3209508, 2756622, 2658478, 1971472, 1818026, 1820779, 1724887,\n",
       "       3129155, 3856434, 2116195, 2049908, 1044628,  298212, 1009426,\n",
       "       2667711, 3000974, 2698883, 2598079, 2837388, 2946063, 1873484,\n",
       "       2473911, 2623079, 2174968, 2676148, 2137068, 1313403, 2113575,\n",
       "       2092179, 2974204, 1001633,   12919, 1139317, 2029858, 2977543,\n",
       "       1476204,  257038, 2879541, 1458507, 1105617, 1854536,  108687,\n",
       "        125535, 2870661, 1482103,  181698, 2582591, 2164839, 2141839,\n",
       "       2877583,  295833, 2119826, 2992606, 1923607,  227374, 1418985,\n",
       "       1320768, 2964024, 2933409, 1271624,  100061, 1068443, 2952821,\n",
       "       1851088, 2119682, 2970675, 2966803, 1508685, 2209314, 1114564,\n",
       "       2036794, 2988539, 2977999, 2733077, 2427137, 1867836, 1548407,\n",
       "       2937989, 1237454, 1169173, 2391753, 2475444, 2478794, 2070033,\n",
       "       2282392, 1049534,  166338, 1672751, 1734762,  192822, 2475228,\n",
       "       2093831, 1231915, 1374791, 1326982, 2900915, 1317884, 2977909,\n",
       "       1355752, 1015488, 2986172, 2993623, 1001383, 1001542, 2590283,\n",
       "       1773916, 2989112, 1496776, 2994046, 1000283, 1000414, 1135278,\n",
       "       2463113, 1782109, 2976098, 2968098, 1792695, 1116401, 2984523,\n",
       "       2978103, 1578751, 1874532, 2735706, 1014916, 2622055, 2806566,\n",
       "       1355354, 1478334, 1130751, 1099151, 1706551, 1250548, 1202179,\n",
       "       1194815, 2880817, 2918124, 1073421, 1416309,  218162, 2152733,\n",
       "       1046144, 2880794, 2765213, 2967089,  237985, 2655265, 1941307,\n",
       "       1709546, 2883984, 2935381, 2961192, 2973476, 2392811, 1293342,\n",
       "       2930044, 2129909, 2831771, 2595126,  252751, 2120936, 1468948,\n",
       "       2834253, 3734323, 2049565, 2272214, 1418833, 1109956, 3914454,\n",
       "       3169089, 2419656, 2806298, 2987652, 2842848, 1134321, 1924168,\n",
       "       2701689, 2992903, 1834472, 2123138, 1265463, 1340361, 3989492,\n",
       "       2650088,  289292, 2938902, 2986637, 2701521, 2014671, 1971659,\n",
       "       1311797, 1262831, 3770379,  287747, 2175153,  213229, 2993634,\n",
       "       2999346, 2976211, 2842035,  109749,  191863, 2510135,  265772,\n",
       "       2604998, 2567567, 1845858, 1627555, 1569176, 2371658, 2378211,\n",
       "       2454432, 2915921, 2992083, 2849347, 2954446, 3755976, 2902639,\n",
       "       2372705, 2272801, 2692889, 2280545, 2675411, 1487674,  102075,\n",
       "       1240424, 1154318, 3219347, 3656401, 3220181, 2850948, 2187145,\n",
       "       2415522, 2138375, 1077331, 2888193, 2574108, 2740492, 2749334,\n",
       "       2993856, 2993084, 2989791, 2920373, 2911568, 1134042, 1120102,\n",
       "       2040582, 2015675, 2711238, 2695396, 2996834, 2996444, 2894142,\n",
       "       2683061, 2806341, 2791366, 1703299, 2142328, 1437959, 1343117,\n",
       "       1213431, 1089048])"
      ]
     },
     "execution_count": 58,
     "metadata": {},
     "output_type": "execute_result"
    }
   ],
   "source": [
    "meals=meals.apply(lambda s:re.sub(\",\",\"\",s)).astype(int)\n",
    "meals.unique()"
   ]
  },
  {
   "cell_type": "code",
   "execution_count": 59,
   "id": "03909296",
   "metadata": {},
   "outputs": [],
   "source": [
    "dataset.loc[:,\"Main_meals_daily\"]=meals"
   ]
  },
  {
   "cell_type": "code",
   "execution_count": 60,
   "id": "875b084f",
   "metadata": {},
   "outputs": [
    {
     "data": {
      "text/plain": [
       "array([3, 1, 4, 328926, 3995147, 2581015, 1600812, 173762, 110548, 20846,\n",
       "       2857787, 3765526, 3285167, 3691226, 3156153, 107976, 3559841,\n",
       "       3891994, 3240578, 3904858, 311158, 3590039, 2057935, 3558637,\n",
       "       2000986, 3821168, 3897078, 3092116, 3286431, 3592415, 3754599,\n",
       "       3566082, 3725797, 3520555, 3731212, 1259803, 1273128, 3647154,\n",
       "       3300666, 3535016, 1717608, 2884479, 3626815, 316645, 3494849,\n",
       "       299321, 2127797, 390779, 3699594, 3179995, 3238258, 3804944,\n",
       "       1630846, 3762778, 2705445, 334175, 2217651, 2893778, 3502604,\n",
       "       3998766, 3193671, 169608, 2812377, 1612747, 1082304, 1882158,\n",
       "       2326233, 1989398, 1735493, 3715118, 3489918, 3378859, 3263201,\n",
       "       3994588, 324934, 3087544, 1163666, 3409363, 3281391, 398525,\n",
       "       3471536, 3488342, 3443456, 303779, 3642802, 2645858, 3420618,\n",
       "       264155, 3887906, 3435905, 3747163, 2625475, 3098399, 312544,\n",
       "       396981, 3712183, 3832911, 3576103, 356544, 3266644, 3433908,\n",
       "       3998618, 1226342, 1060796, 3595761, 3737914, 3697831, 321043,\n",
       "       345259, 3205587, 1513835, 2779379, 3732126, 3937099, 3047959,\n",
       "       2975362, 1394539, 3131032, 1578521, 3985442, 3623364, 336313,\n",
       "       1146052, 3981997, 19154, 3714833, 3292386, 1104642, 3654061,\n",
       "       1296156, 2656588, 2809716, 277684, 1999014, 2644692, 2449723,\n",
       "       2794156, 1146794, 1131695, 2488189, 3999591, 3612941, 2951837,\n",
       "       2799979, 2228113, 3042774, 1198643, 1555557, 3987707, 3995957,\n",
       "       1047197, 1193589, 3390143, 3546352, 3266501, 2372311, 3715306,\n",
       "       3376717, 1211606, 398955, 3171082, 3105007, 1590982, 1704828,\n",
       "       2725012, 2372339, 1097312, 1068196, 2752318, 2737571, 2608055,\n",
       "       2625942, 1411808, 330846, 3821461, 2658639, 2339614, 1713762,\n",
       "       2743277, 3051804, 3245148, 3563744, 3058539, 3196043, 1391778,\n",
       "       113715, 3269088, 2938135, 1259628, 2965494, 2845307, 3095663,\n",
       "       3483449, 3156309, 360885, 239007, 1101404, 2756405, 3054899,\n",
       "       3335876, 3205009, 3648194, 1865238, 2961113, 2400943, 2870005,\n",
       "       1030416, 2401341, 2298612, 3618722, 2849848, 2805436, 3715148,\n",
       "       3788602, 1893811, 1010319, 2669766, 1322087, 2041558, 2110937,\n",
       "       3071028, 3292956, 2283673, 1124977, 29948, 2983297, 1890213,\n",
       "       1888067, 2256119, 26648, 2547086, 2812283, 2278652, 1240046,\n",
       "       1660768, 2597608, 2044035, 2038373, 1474836, 3986652, 2720642,\n",
       "       1976744, 2679724, 1619796, 259257, 1546665, 3339914, 2358298,\n",
       "       1802305, 27976, 2627173, 1032887, 3014808, 2271734, 2122545,\n",
       "       2902766, 2687502, 1178708, 2279546, 2677693, 353009, 1835543,\n",
       "       2853676, 2337035, 1631184, 1005391, 3250467, 2948721, 180993,\n",
       "       194671, 29796, 2994198, 1894384, 2579291, 2449067, 1532833,\n",
       "       2961706, 1152521, 1729553, 1346987, 1977221, 2443812, 2491315,\n",
       "       2157164, 1171027, 3362758, 1672706, 2714115, 2521546, 1338033,\n",
       "       1081805, 3087119, 2909117, 1466393, 1471053, 2983201, 2783336,\n",
       "       1863012, 3053598, 3165837, 2741413, 1058123, 2997414, 1672958,\n",
       "       1680838, 3070386, 2608416, 1599464, 2815255, 2395785, 2716106,\n",
       "       1402771, 2865657, 2884848, 2375026, 29774, 2693646, 2832018,\n",
       "       2270163, 2646717, 1193729, 1477581, 3209508, 2756622, 2658478,\n",
       "       1971472, 1818026, 1820779, 1724887, 3129155, 3856434, 2116195,\n",
       "       2049908, 1044628, 298212, 1009426, 2667711, 3000974, 2698883,\n",
       "       2598079, 2837388, 2946063, 1873484, 2473911, 2623079, 2174968,\n",
       "       2676148, 2137068, 1313403, 2113575, 2092179, 2974204, 1001633,\n",
       "       12919, 1139317, 2029858, 2977543, 1476204, 257038, 2879541,\n",
       "       1458507, 1105617, 1854536, 108687, 125535, 2870661, 1482103,\n",
       "       181698, 2582591, 2164839, 2141839, 2877583, 295833, 2119826,\n",
       "       2992606, 1923607, 227374, 1418985, 1320768, 2964024, 2933409,\n",
       "       1271624, 100061, 1068443, 2952821, 1851088, 2119682, 2970675,\n",
       "       2966803, 1508685, 2209314, 1114564, 2036794, 2988539, 2977999,\n",
       "       2733077, 2427137, 1867836, 1548407, 2937989, 1237454, 1169173,\n",
       "       2391753, 2475444, 2478794, 2070033, 2282392, 1049534, 166338,\n",
       "       1672751, 1734762, 192822, 2475228, 2093831, 1231915, 1374791,\n",
       "       1326982, 2900915, 1317884, 2977909, 1355752, 1015488, 2986172,\n",
       "       2993623, 1001383, 1001542, 2590283, 1773916, 2989112, 1496776,\n",
       "       2994046, 1000283, 1000414, 1135278, 2463113, 1782109, 2976098,\n",
       "       2968098, 1792695, 1116401, 2984523, 2978103, 1578751, 1874532,\n",
       "       2735706, 1014916, 2622055, 2806566, 1355354, 1478334, 1130751,\n",
       "       1099151, 1706551, 1250548, 1202179, 1194815, 2880817, 2918124,\n",
       "       1073421, 1416309, 218162, 2152733, 1046144, 2880794, 2765213,\n",
       "       2967089, 237985, 2655265, 1941307, 1709546, 2883984, 2935381,\n",
       "       2961192, 2973476, 2392811, 1293342, 2930044, 2129909, 2831771,\n",
       "       2595126, 252751, 2120936, 1468948, 2834253, 3734323, 2049565,\n",
       "       2272214, 1418833, 1109956, 3914454, 3169089, 2419656, 2806298,\n",
       "       2987652, 2842848, 1134321, 1924168, 2701689, 2992903, 1834472,\n",
       "       2123138, 1265463, 1340361, 3989492, 2650088, 289292, 2938902,\n",
       "       2986637, 2701521, 2014671, 1971659, 1311797, 1262831, 3770379,\n",
       "       287747, 2175153, 213229, 2993634, 2999346, 2976211, 2842035,\n",
       "       109749, 191863, 2510135, 265772, 2604998, 2567567, 1845858,\n",
       "       1627555, 1569176, 2371658, 2378211, 2454432, 2915921, 2992083,\n",
       "       2849347, 2954446, 3755976, 2902639, 2372705, 2272801, 2692889,\n",
       "       2280545, 2675411, 1487674, 102075, 1240424, 1154318, 3219347,\n",
       "       3656401, 3220181, 2850948, 2187145, 2415522, 2138375, 1077331,\n",
       "       2888193, 2574108, 2740492, 2749334, 2993856, 2993084, 2989791,\n",
       "       2920373, 2911568, 1134042, 1120102, 2040582, 2015675, 2711238,\n",
       "       2695396, 2996834, 2996444, 2894142, 2683061, 2806341, 2791366,\n",
       "       1703299, 2142328, 1437959, 1343117, 1213431, 1089048], dtype=object)"
      ]
     },
     "execution_count": 60,
     "metadata": {},
     "output_type": "execute_result"
    }
   ],
   "source": [
    "dataset[\"Main_meals_daily\"].unique()"
   ]
  },
  {
   "cell_type": "code",
   "execution_count": 61,
   "id": "36b9689c",
   "metadata": {},
   "outputs": [],
   "source": [
    "def treat_abnormalities(condition,imputer,type_var,attribute_name,must_be_discrete=False):\n",
    "    contaminated_indexes=dataset[condition].index.to_list()\n",
    "    intervals=make_intervals(contaminated_indexes)\n",
    "    if(type_var==\"numerical\"):\n",
    "        dataset.loc[contaminated_indexes,attribute_name]=-1\n",
    "    else:\n",
    "        dataset.loc[contaminated_indexes,attribute_name]='XX'\n",
    "    new_values=np.zeros(len(dataset))\n",
    "    for left_side,right_side in intervals:\n",
    "        index=left_side\n",
    "        for new_row in imputer.fit_transform(dataset.loc[0:right_side+1,attribute_name].to_numpy().reshape(-1,1))[left_side:right_side+1]:\n",
    "            new_values[index]=new_row[0]\n",
    "            if(must_be_discrete):\n",
    "                new_values[index]=math.floor(new_values[index])\n",
    "            index+=1\n",
    "    dataset.loc[:,attribute_name]=new_values"
   ]
  },
  {
   "cell_type": "code",
   "execution_count": 62,
   "id": "9e762033",
   "metadata": {},
   "outputs": [],
   "source": [
    "treat_abnormalities(dataset[\"Main_meals_daily\"]>4,modeImputer,\"categorical\",\"Main_meals_daily\",False)"
   ]
  },
  {
   "cell_type": "code",
   "execution_count": 63,
   "id": "d332bd2e",
   "metadata": {},
   "outputs": [
    {
     "data": {
      "text/plain": [
       "array([3.0, 1.0, 4.0], dtype=object)"
      ]
     },
     "execution_count": 63,
     "metadata": {},
     "output_type": "execute_result"
    }
   ],
   "source": [
    "dataset[\"Main_meals_daily\"].unique()"
   ]
  },
  {
   "cell_type": "code",
   "execution_count": 64,
   "id": "2cb99307",
   "metadata": {},
   "outputs": [
    {
     "data": {
      "image/png": "[encoded data removed]",
      "text/plain": [
       "<Figure size 640x480 with 1 Axes>"
      ]
     },
     "metadata": {},
     "output_type": "display_data"
    }
   ],
   "source": [
    "dataset[\"Main_meals_daily\"].plot.hist()\n",
    "plt.show()"
   ]
  },
  {
   "cell_type": "markdown",
   "id": "24a19dd4",
   "metadata": {},
   "source": [
    "- ### Snacks"
   ]
  },
  {
   "cell_type": "code",
   "execution_count": 65,
   "id": "f26dee96",
   "metadata": {},
   "outputs": [],
   "source": [
    "snacks=dataset[\"Snacks\"]"
   ]
  },
  {
   "cell_type": "code",
   "execution_count": 66,
   "id": "2d4c7f34",
   "metadata": {},
   "outputs": [
    {
     "data": {
      "text/plain": [
       "array(['Sometimes', 'Frequently', 'Always', 'no'], dtype=object)"
      ]
     },
     "execution_count": 66,
     "metadata": {},
     "output_type": "execute_result"
    }
   ],
   "source": [
    "snacks.unique()"
   ]
  },
  {
   "cell_type": "code",
   "execution_count": 67,
   "id": "0ced8d85",
   "metadata": {},
   "outputs": [
    {
     "data": {
      "image/png": "[encoded data removed]",
      "text/plain": [
       "<Figure size 640x480 with 1 Axes>"
      ]
     },
     "metadata": {},
     "output_type": "display_data"
    }
   ],
   "source": [
    "snacks.hist(grid=False)\n",
    "plt.ylabel(\"Numar pacienti\")\n",
    "plt.title(\"Distributia frecventei gustarilor\")\n",
    "plt.show()"
   ]
  },
  {
   "cell_type": "code",
   "execution_count": 68,
   "id": "c4deab64",
   "metadata": {},
   "outputs": [],
   "source": [
    "dataset[\"Snacks\"].replace({\"no\":0,\"Sometimes\":1,\"Frequently\":2,\"Always\":3},inplace=True)"
   ]
  },
  {
   "cell_type": "markdown",
   "id": "b1aff89e",
   "metadata": {},
   "source": [
    "- ### Height"
   ]
  },
  {
   "cell_type": "code",
   "execution_count": 69,
   "id": "9dfb747c",
   "metadata": {},
   "outputs": [],
   "source": [
    "height=dataset[\"Height\"]"
   ]
  },
  {
   "cell_type": "code",
   "execution_count": 70,
   "id": "997649be",
   "metadata": {},
   "outputs": [
    {
     "data": {
      "text/plain": [
       "array(['1,62', '1,52', '1,8', '1,78', '1,5', '1,72', '1,85', '1,65',\n",
       "       '1,77', '1,7', '1,93', '1,53', '1,71', '1,69', '1,6', '1,75',\n",
       "       '1,68', '1,58', '1,79', '1,56', '1,67', '1,66', '1,55', '1,61',\n",
       "       '1,64', '1,63', '1,76', '1,82', '1,57', '1,88', '1,87', '1,89',\n",
       "       '1,74', '1,83', '1,92', '1,73', '1,84', '1,91', '1,48', '1,59',\n",
       "       '1,54', '1,9', '1,45', '1,98', '1,51', '1,81', '1,86', '1,46',\n",
       "       '1,49', '1,94', '1683', '1915'], dtype=object)"
      ]
     },
     "execution_count": 70,
     "metadata": {},
     "output_type": "execute_result"
    }
   ],
   "source": [
    "height.unique()"
   ]
  },
  {
   "cell_type": "code",
   "execution_count": 71,
   "id": "16ae69c2",
   "metadata": {},
   "outputs": [
    {
     "data": {
      "text/plain": [
       "0       1.62\n",
       "1       1.52\n",
       "2       1.80\n",
       "3       1.80\n",
       "4       1.78\n",
       "        ... \n",
       "1916    1.71\n",
       "1917    1.75\n",
       "1918    1.75\n",
       "1919    1.74\n",
       "1920    1.74\n",
       "Name: Height, Length: 1920, dtype: float64"
      ]
     },
     "execution_count": 71,
     "metadata": {},
     "output_type": "execute_result"
    }
   ],
   "source": [
    "new_heights=height.apply(lambda s: re.sub(\",\",\".\",s)).astype(float)\n",
    "new_heights"
   ]
  },
  {
   "cell_type": "code",
   "execution_count": 72,
   "id": "482341b4",
   "metadata": {},
   "outputs": [],
   "source": [
    "dataset.loc[:,\"Height\"]=new_heights"
   ]
  },
  {
   "cell_type": "code",
   "execution_count": 73,
   "id": "03744403",
   "metadata": {},
   "outputs": [
    {
     "data": {
      "text/plain": [
       "array([1.62, 1.52, 1.8, 1.78, 1.5, 1.72, 1.85, 1.65, 1.77, 1.7, 1.93,\n",
       "       1.53, 1.71, 1.69, 1.6, 1.75, 1.68, 1.58, 1.79, 1.56, 1.67, 1.66,\n",
       "       1.55, 1.61, 1.64, 1.63, 1.76, 1.82, 1.57, 1.88, 1.87, 1.89, 1.74,\n",
       "       1.83, 1.92, 1.73, 1.84, 1.91, 1.48, 1.59, 1.54, 1.9, 1.45, 1.98,\n",
       "       1.51, 1.81, 1.86, 1.46, 1.49, 1.94, 1683.0, 1915.0], dtype=object)"
      ]
     },
     "execution_count": 73,
     "metadata": {},
     "output_type": "execute_result"
    }
   ],
   "source": [
    "dataset[\"Height\"].unique()"
   ]
  },
  {
   "cell_type": "code",
   "execution_count": 74,
   "id": "91ccd4f9",
   "metadata": {},
   "outputs": [],
   "source": [
    "treat_abnormalities(dataset[\"Height\"]==1683.0,avgImputer,\"numerical\",\"Height\",False)"
   ]
  },
  {
   "cell_type": "code",
   "execution_count": 75,
   "id": "a228d4b2",
   "metadata": {},
   "outputs": [],
   "source": [
    "treat_abnormalities(dataset[\"Height\"]==1915.0,avgImputer,\"numerical\",\"Height\",False)"
   ]
  },
  {
   "cell_type": "code",
   "execution_count": 76,
   "id": "d0aeb00d",
   "metadata": {},
   "outputs": [
    {
     "data": {
      "text/plain": [
       "array([1.62, 1.52, 1.8, 1.78, 1.5, 1.72, 1.85, 1.65, 1.77, 1.7, 1.93,\n",
       "       1.53, 1.71, 1.69, 1.6, 1.75, 1.68, 1.58, 1.79, 1.56, 1.67, 1.66,\n",
       "       1.55, 1.61, 1.64, 1.63, 1.76, 1.82, 1.57, 1.88, 1.87, 1.89, 1.74,\n",
       "       1.83, 1.92, 1.73, 1.84, 1.91, 1.48, 1.59, 1.54, 1.9, 1.45, 1.98,\n",
       "       1.51, 1.81, 1.86, 1.46, 1.49, 1.94, 1.6911312217194567,\n",
       "       1.6997315372434139], dtype=object)"
      ]
     },
     "execution_count": 76,
     "metadata": {},
     "output_type": "execute_result"
    }
   ],
   "source": [
    "dataset[\"Height\"].unique()"
   ]
  },
  {
   "cell_type": "code",
   "execution_count": 77,
   "id": "46d46c3a",
   "metadata": {},
   "outputs": [],
   "source": [
    "dataset[\"Height\"]=dataset[\"Height\"].astype(float)"
   ]
  },
  {
   "cell_type": "code",
   "execution_count": 78,
   "id": "367bde6d",
   "metadata": {},
   "outputs": [
    {
     "data": {
      "text/plain": [
       "count    1920.000000\n",
       "mean        1.702297\n",
       "std         0.093224\n",
       "min         1.450000\n",
       "25%         1.630000\n",
       "50%         1.700000\n",
       "75%         1.770000\n",
       "max         1.980000\n",
       "Name: Height, dtype: float64"
      ]
     },
     "execution_count": 78,
     "metadata": {},
     "output_type": "execute_result"
    }
   ],
   "source": [
    "dataset[\"Height\"].describe()"
   ]
  },
  {
   "cell_type": "code",
   "execution_count": 79,
   "id": "2e283aff",
   "metadata": {},
   "outputs": [
    {
     "data": {
      "text/plain": [
       "0.14000000000000012"
      ]
     },
     "execution_count": 79,
     "metadata": {},
     "output_type": "execute_result"
    }
   ],
   "source": [
    "IQR=dataset[\"Height\"].describe()[\"75%\"]-dataset[\"Height\"].describe()[\"25%\"]\n",
    "IQR"
   ]
  },
  {
   "cell_type": "markdown",
   "id": "e02a539e",
   "metadata": {},
   "source": [
    "- ### Smoker"
   ]
  },
  {
   "cell_type": "code",
   "execution_count": 80,
   "id": "9119029d",
   "metadata": {},
   "outputs": [
    {
     "data": {
      "text/plain": [
       "array(['no', 'yes'], dtype=object)"
      ]
     },
     "execution_count": 80,
     "metadata": {},
     "output_type": "execute_result"
    }
   ],
   "source": [
    "dataset[\"Smoker\"].unique()"
   ]
  },
  {
   "cell_type": "code",
   "execution_count": 81,
   "id": "946d4a72",
   "metadata": {},
   "outputs": [
    {
     "data": {
      "image/png": "[encoded data removed]",
      "text/plain": [
       "<Figure size 640x480 with 1 Axes>"
      ]
     },
     "metadata": {},
     "output_type": "display_data"
    }
   ],
   "source": [
    "dataset[\"Smoker\"].hist(grid=False)\n",
    "plt.show()"
   ]
  },
  {
   "cell_type": "code",
   "execution_count": 82,
   "id": "d5d351f2",
   "metadata": {},
   "outputs": [],
   "source": [
    "dataset[\"Smoker\"].replace({\"yes\":1,\"no\":0},inplace=True)"
   ]
  },
  {
   "cell_type": "markdown",
   "id": "ace30cec",
   "metadata": {},
   "source": [
    "- ### Water_daily"
   ]
  },
  {
   "cell_type": "code",
   "execution_count": 83,
   "id": "43a7f8df",
   "metadata": {},
   "outputs": [
    {
     "data": {
      "text/plain": [
       "array(['2', '3', '1', ..., '2,054193', '2,852339', '2,863513'],\n",
       "      dtype=object)"
      ]
     },
     "execution_count": 83,
     "metadata": {},
     "output_type": "execute_result"
    }
   ],
   "source": [
    "dataset[\"Water_daily\"].unique()"
   ]
  },
  {
   "cell_type": "code",
   "execution_count": 84,
   "id": "8f9e8658",
   "metadata": {},
   "outputs": [],
   "source": [
    "new_water=dataset[\"Water_daily\"].apply(lambda s: re.sub(r\",\",\"\",s)).astype(int)\n",
    "dataset.loc[:,\"Water_daily\"]=new_water"
   ]
  },
  {
   "cell_type": "code",
   "execution_count": 85,
   "id": "91aa349f",
   "metadata": {},
   "outputs": [
    {
     "data": {
      "text/plain": [
       "array([1, 2, 3, 12751, 13954, 15197, 16213, 18924, 27305, 101378],\n",
       "      dtype=object)"
      ]
     },
     "execution_count": 85,
     "metadata": {},
     "output_type": "execute_result"
    }
   ],
   "source": [
    "np.sort(dataset[\"Water_daily\"].unique())[:10]"
   ]
  },
  {
   "cell_type": "code",
   "execution_count": 86,
   "id": "d2d37e81",
   "metadata": {},
   "outputs": [],
   "source": [
    "treat_abnormalities(dataset[\"Water_daily\"]>3,modeImputer,\"categorical\",\"Water_daily\",False)"
   ]
  },
  {
   "cell_type": "code",
   "execution_count": 87,
   "id": "6a0b8846",
   "metadata": {},
   "outputs": [
    {
     "data": {
      "text/plain": [
       "array([2.0, 3.0, 1.0], dtype=object)"
      ]
     },
     "execution_count": 87,
     "metadata": {},
     "output_type": "execute_result"
    }
   ],
   "source": [
    "dataset[\"Water_daily\"].unique()"
   ]
  },
  {
   "cell_type": "code",
   "execution_count": 88,
   "id": "932afc07",
   "metadata": {},
   "outputs": [
    {
     "data": {
      "image/png": "[encoded data removed]",
      "text/plain": [
       "<Figure size 640x480 with 1 Axes>"
      ]
     },
     "metadata": {},
     "output_type": "display_data"
    }
   ],
   "source": [
    "dataset[\"Water_daily\"].hist(grid=False)\n",
    "plt.show()"
   ]
  },
  {
   "cell_type": "markdown",
   "id": "58e8e8b6",
   "metadata": {},
   "source": [
    "- ### Calorie_monitoring"
   ]
  },
  {
   "cell_type": "code",
   "execution_count": 89,
   "id": "0c8182aa",
   "metadata": {},
   "outputs": [
    {
     "data": {
      "text/plain": [
       "array(['no', 'yes'], dtype=object)"
      ]
     },
     "execution_count": 89,
     "metadata": {},
     "output_type": "execute_result"
    }
   ],
   "source": [
    "dataset[\"Calorie_monitoring\"].unique()"
   ]
  },
  {
   "cell_type": "code",
   "execution_count": 90,
   "id": "7d044a27",
   "metadata": {},
   "outputs": [
    {
     "data": {
      "image/png": "[encoded data removed]",
      "text/plain": [
       "<Figure size 640x480 with 1 Axes>"
      ]
     },
     "metadata": {},
     "output_type": "display_data"
    }
   ],
   "source": [
    "dataset[\"Calorie_monitoring\"].hist(grid=False)\n",
    "plt.show()"
   ]
  },
  {
   "cell_type": "code",
   "execution_count": 91,
   "id": "51b49138",
   "metadata": {},
   "outputs": [],
   "source": [
    "dataset.replace({\"yes\":1,\"no\":0},inplace=True)"
   ]
  },
  {
   "cell_type": "markdown",
   "id": "d207f079",
   "metadata": {},
   "source": [
    "- ### Weight"
   ]
  },
  {
   "cell_type": "code",
   "execution_count": 92,
   "id": "35bcebc1",
   "metadata": {},
   "outputs": [
    {
     "data": {
      "text/plain": [
       "array(['64', '56', '77', ..., '133,689352', '133,346641', '133,472641'],\n",
       "      dtype=object)"
      ]
     },
     "execution_count": 92,
     "metadata": {},
     "output_type": "execute_result"
    }
   ],
   "source": [
    "dataset[\"Weight\"].unique()"
   ]
  },
  {
   "cell_type": "code",
   "execution_count": 93,
   "id": "4f613974",
   "metadata": {},
   "outputs": [],
   "source": [
    "new_weights=dataset[\"Weight\"].apply(lambda s: float(re.sub(r\",\",\".\",s)) if s!='-1' else -1)\n",
    "dataset.loc[:,\"Weight\"]=new_weights"
   ]
  },
  {
   "cell_type": "code",
   "execution_count": 94,
   "id": "992a80ab",
   "metadata": {},
   "outputs": [],
   "source": [
    "treat_abnormalities(dataset[\"Weight\"]==-1,avgImputer,\"numerical\",\"Weight\",False)"
   ]
  },
  {
   "cell_type": "code",
   "execution_count": 95,
   "id": "09abfc70",
   "metadata": {},
   "outputs": [
    {
     "data": {
      "text/plain": [
       "<AxesSubplot:>"
      ]
     },
     "execution_count": 95,
     "metadata": {},
     "output_type": "execute_result"
    },
    {
     "data": {
      "image/png": "[encoded data removed]",
      "text/plain": [
       "<Figure size 640x480 with 1 Axes>"
      ]
     },
     "metadata": {},
     "output_type": "display_data"
    }
   ],
   "source": [
    "dataset[\"Weight\"].plot.box()"
   ]
  },
  {
   "cell_type": "code",
   "execution_count": 96,
   "id": "1723a06c",
   "metadata": {},
   "outputs": [
    {
     "data": {
      "text/plain": [
       "count     1920.000000\n",
       "mean       219.709445\n",
       "std       3225.965542\n",
       "min         39.000000\n",
       "25%         66.739474\n",
       "50%         83.364352\n",
       "75%        110.817784\n",
       "max      82628.000000\n",
       "Name: Weight, dtype: float64"
      ]
     },
     "execution_count": 96,
     "metadata": {},
     "output_type": "execute_result"
    }
   ],
   "source": [
    "dataset[\"Weight\"].astype(float).describe()"
   ]
  },
  {
   "cell_type": "code",
   "execution_count": 97,
   "id": "1dc7e7ae",
   "metadata": {},
   "outputs": [],
   "source": [
    "treat_abnormalities(dataset[\"Weight\"]>300.0,avgImputer,\"numerical\",\"Weight\",False)"
   ]
  },
  {
   "cell_type": "code",
   "execution_count": 98,
   "id": "06d7fce9",
   "metadata": {},
   "outputs": [
    {
     "data": {
      "text/plain": [
       "<AxesSubplot:>"
      ]
     },
     "execution_count": 98,
     "metadata": {},
     "output_type": "execute_result"
    },
    {
     "data": {
      "image/png": "[encoded data removed]",
      "text/plain": [
       "<Figure size 640x480 with 1 Axes>"
      ]
     },
     "metadata": {},
     "output_type": "display_data"
    }
   ],
   "source": [
    "dataset[\"Weight\"].plot.box()"
   ]
  },
  {
   "cell_type": "code",
   "execution_count": 99,
   "id": "ce51fa01",
   "metadata": {},
   "outputs": [
    {
     "data": {
      "text/plain": [
       "<AxesSubplot:>"
      ]
     },
     "execution_count": 99,
     "metadata": {},
     "output_type": "execute_result"
    },
    {
     "data": {
      "image/png": "[encoded data removed]",
      "text/plain": [
       "<Figure size 640x480 with 1 Axes>"
      ]
     },
     "metadata": {},
     "output_type": "display_data"
    }
   ],
   "source": [
    "treat_abnormalities(dataset[\"Weight\"]>200.0,avgImputer,\"numerical\",\"Weight\",False)\n",
    "dataset[\"Weight\"].plot.box()"
   ]
  },
  {
   "cell_type": "code",
   "execution_count": 100,
   "id": "af3247bf",
   "metadata": {},
   "outputs": [
    {
     "data": {
      "text/plain": [
       "count    1920.000000\n",
       "mean       86.582119\n",
       "std        26.596913\n",
       "min        39.000000\n",
       "25%        66.739474\n",
       "50%        82.015473\n",
       "75%       105.984787\n",
       "max       165.057269\n",
       "Name: Weight, dtype: float64"
      ]
     },
     "execution_count": 100,
     "metadata": {},
     "output_type": "execute_result"
    }
   ],
   "source": [
    "dataset[\"Weight\"].astype(float).describe()"
   ]
  },
  {
   "cell_type": "code",
   "execution_count": 101,
   "id": "09b95897",
   "metadata": {},
   "outputs": [
    {
     "data": {
      "text/plain": [
       "<AxesSubplot:>"
      ]
     },
     "execution_count": 101,
     "metadata": {},
     "output_type": "execute_result"
    },
    {
     "data": {
      "image/png": "[encoded data removed]",
      "text/plain": [
       "<Figure size 640x480 with 1 Axes>"
      ]
     },
     "metadata": {},
     "output_type": "display_data"
    }
   ],
   "source": [
    "treat_abnormalities(dataset[\"Weight\"]>165,avgImputer,\"numerical\",\"Weight\",False)\n",
    "dataset[\"Weight\"].plot.box()"
   ]
  },
  {
   "cell_type": "code",
   "execution_count": 102,
   "id": "cb71e649",
   "metadata": {},
   "outputs": [
    {
     "data": {
      "text/plain": [
       "count    1920.000000\n",
       "mean       86.532428\n",
       "std        26.539283\n",
       "min        39.000000\n",
       "25%        66.739474\n",
       "50%        82.012299\n",
       "75%       105.841842\n",
       "max       163.249211\n",
       "Name: Weight, dtype: float64"
      ]
     },
     "execution_count": 102,
     "metadata": {},
     "output_type": "execute_result"
    }
   ],
   "source": [
    "dataset[\"Weight\"].astype(float).describe()"
   ]
  },
  {
   "cell_type": "code",
   "execution_count": 103,
   "id": "f9dd96dd",
   "metadata": {},
   "outputs": [
    {
     "data": {
      "text/plain": [
       "39.102368"
      ]
     },
     "execution_count": 103,
     "metadata": {},
     "output_type": "execute_result"
    }
   ],
   "source": [
    "IQR=dataset[\"Weight\"].astype(float).describe()[\"75%\"]-dataset[\"Weight\"].astype(float).describe()[\"25%\"]\n",
    "IQR"
   ]
  },
  {
   "cell_type": "markdown",
   "id": "17219cb0",
   "metadata": {},
   "source": [
    "- ### Physical_activity_level"
   ]
  },
  {
   "cell_type": "code",
   "execution_count": 104,
   "id": "974fb82e",
   "metadata": {},
   "outputs": [
    {
     "data": {
      "text/plain": [
       "array(['0', '3', '2', ..., '1,414209', '1,139107', '1,026452'],\n",
       "      dtype=object)"
      ]
     },
     "execution_count": 104,
     "metadata": {},
     "output_type": "execute_result"
    }
   ],
   "source": [
    "dataset[\"Physical_activity_level\"].unique()"
   ]
  },
  {
   "cell_type": "code",
   "execution_count": 105,
   "id": "2736cc41",
   "metadata": {},
   "outputs": [],
   "source": [
    "new_phys_label=dataset[\"Physical_activity_level\"].apply(lambda s: re.sub(r\",\",\"\",s)).astype(int)\n",
    "dataset.loc[:,\"Physical_activity_level\"]=new_phys_label"
   ]
  },
  {
   "cell_type": "code",
   "execution_count": 106,
   "id": "01ba01de",
   "metadata": {},
   "outputs": [
    {
     "data": {
      "text/plain": [
       "array([  0,   1,   2,   3,  96, 203, 272, 342, 454, 705])"
      ]
     },
     "execution_count": 106,
     "metadata": {},
     "output_type": "execute_result"
    }
   ],
   "source": [
    "np.sort(new_phys_label.unique())[:10]"
   ]
  },
  {
   "cell_type": "code",
   "execution_count": 107,
   "id": "76ab042a",
   "metadata": {},
   "outputs": [],
   "source": [
    "treat_abnormalities(dataset[\"Physical_activity_level\"]>3,modeImputer,\"categorical\",\"Physical_activity_level\",False)"
   ]
  },
  {
   "cell_type": "code",
   "execution_count": 108,
   "id": "3a53d4b6",
   "metadata": {},
   "outputs": [
    {
     "data": {
      "text/plain": [
       "array([0.0, 3.0, 2.0, 1.0], dtype=object)"
      ]
     },
     "execution_count": 108,
     "metadata": {},
     "output_type": "execute_result"
    }
   ],
   "source": [
    "dataset[\"Physical_activity_level\"].unique()"
   ]
  },
  {
   "cell_type": "code",
   "execution_count": 109,
   "id": "2580ef05",
   "metadata": {},
   "outputs": [
    {
     "data": {
      "image/png": "[encoded data removed]",
      "text/plain": [
       "<Figure size 640x480 with 1 Axes>"
      ]
     },
     "metadata": {},
     "output_type": "display_data"
    }
   ],
   "source": [
    "dataset[\"Physical_activity_level\"].hist(grid=False)\n",
    "plt.show()"
   ]
  },
  {
   "cell_type": "markdown",
   "id": "73034928",
   "metadata": {},
   "source": [
    "- ### Technology_time_use"
   ]
  },
  {
   "cell_type": "code",
   "execution_count": 110,
   "id": "a600afef",
   "metadata": {},
   "outputs": [
    {
     "data": {
      "text/plain": [
       "array([1, 0, 2], dtype=int64)"
      ]
     },
     "execution_count": 110,
     "metadata": {},
     "output_type": "execute_result"
    }
   ],
   "source": [
    "dataset[\"Technology_time_use\"].unique()"
   ]
  },
  {
   "cell_type": "code",
   "execution_count": 111,
   "id": "30c5473e",
   "metadata": {},
   "outputs": [
    {
     "data": {
      "image/png": "[encoded data removed]",
      "text/plain": [
       "<Figure size 640x480 with 1 Axes>"
      ]
     },
     "metadata": {},
     "output_type": "display_data"
    }
   ],
   "source": [
    "dataset[\"Technology_time_use\"].hist(grid=False)\n",
    "plt.show()"
   ]
  },
  {
   "cell_type": "markdown",
   "id": "72d8f1f1",
   "metadata": {},
   "source": [
    "- ### Gender"
   ]
  },
  {
   "cell_type": "code",
   "execution_count": 112,
   "id": "9d0b45c9",
   "metadata": {},
   "outputs": [
    {
     "data": {
      "text/plain": [
       "array(['Female', 'Male'], dtype=object)"
      ]
     },
     "execution_count": 112,
     "metadata": {},
     "output_type": "execute_result"
    }
   ],
   "source": [
    "dataset[\"Gender\"].unique()"
   ]
  },
  {
   "cell_type": "code",
   "execution_count": 113,
   "id": "7a92b480",
   "metadata": {},
   "outputs": [
    {
     "data": {
      "image/png": "[encoded data removed]",
      "text/plain": [
       "<Figure size 640x480 with 1 Axes>"
      ]
     },
     "metadata": {},
     "output_type": "display_data"
    }
   ],
   "source": [
    "dataset[\"Gender\"].hist(grid=False)\n",
    "plt.show()"
   ]
  },
  {
   "cell_type": "markdown",
   "id": "32c5a4f1",
   "metadata": {},
   "source": [
    "# Clasa ce trebuie prezisa - Diagnostic"
   ]
  },
  {
   "cell_type": "code",
   "execution_count": 114,
   "id": "1de6afed",
   "metadata": {},
   "outputs": [
    {
     "data": {
      "text/plain": [
       "array(['D1', 'D2', 'D3', 'D4', 'D0', 'D5', 'D6'], dtype=object)"
      ]
     },
     "execution_count": 114,
     "metadata": {},
     "output_type": "execute_result"
    }
   ],
   "source": [
    "dataset[\"Diagnostic\"].unique()"
   ]
  },
  {
   "cell_type": "code",
   "execution_count": 115,
   "id": "d2464276",
   "metadata": {},
   "outputs": [
    {
     "data": {
      "image/png": "[encoded data removed]",
      "text/plain": [
       "<Figure size 640x480 with 1 Axes>"
      ]
     },
     "metadata": {},
     "output_type": "display_data"
    }
   ],
   "source": [
    "pd.DataFrame(dataset[\"Diagnostic\"].value_counts()).plot.bar()\n",
    "plt.ylabel(\"Frecventa diagnostic\")\n",
    "plt.show()"
   ]
  },
  {
   "cell_type": "code",
   "execution_count": 116,
   "id": "3edf53a3",
   "metadata": {},
   "outputs": [],
   "source": [
    "dataset.replace({\"D0\":0,\"D1\":1,\"D2\":2,\"D3\":3,\"D4\":4,\"D5\":5,\"D6\":6},inplace=True)"
   ]
  },
  {
   "cell_type": "markdown",
   "id": "a05989c5",
   "metadata": {},
   "source": [
    "## Covarianta atributelor"
   ]
  },
  {
   "cell_type": "code",
   "execution_count": 117,
   "id": "2b81d0ae",
   "metadata": {},
   "outputs": [
    {
     "data": {
      "text/html": [
       "<div>\n",
       "<style scoped>\n",
       "    .dataframe tbody tr th:only-of-type {\n",
       "        vertical-align: middle;\n",
       "    }\n",
       "\n",
       "    .dataframe tbody tr th {\n",
       "        vertical-align: top;\n",
       "    }\n",
       "\n",
       "    .dataframe thead th {\n",
       "        text-align: right;\n",
       "    }\n",
       "</style>\n",
       "<table border=\"1\" class=\"dataframe\">\n",
       "  <thead>\n",
       "    <tr style=\"text-align: right;\">\n",
       "      <th></th>\n",
       "      <th>Transportation</th>\n",
       "      <th>Regular_fiber_diet</th>\n",
       "      <th>Diagnostic_in_family_history</th>\n",
       "      <th>High_calorie_diet</th>\n",
       "      <th>Sedentary_hours_daily</th>\n",
       "      <th>Age</th>\n",
       "      <th>Alcohol</th>\n",
       "      <th>Est_avg_calorie_intake</th>\n",
       "      <th>Main_meals_daily</th>\n",
       "      <th>Snacks</th>\n",
       "      <th>Height</th>\n",
       "      <th>Smoker</th>\n",
       "      <th>Water_daily</th>\n",
       "      <th>Calorie_monitoring</th>\n",
       "      <th>Weight</th>\n",
       "      <th>Physical_activity_level</th>\n",
       "      <th>Technology_time_use</th>\n",
       "      <th>Gender</th>\n",
       "      <th>Diagnostic</th>\n",
       "    </tr>\n",
       "  </thead>\n",
       "  <tbody>\n",
       "    <tr>\n",
       "      <th>0</th>\n",
       "      <td>Public_Transportation</td>\n",
       "      <td>2</td>\n",
       "      <td>1</td>\n",
       "      <td>0</td>\n",
       "      <td>3.73</td>\n",
       "      <td>21</td>\n",
       "      <td>0</td>\n",
       "      <td>2474</td>\n",
       "      <td>3.0</td>\n",
       "      <td>1</td>\n",
       "      <td>1.62</td>\n",
       "      <td>0</td>\n",
       "      <td>2.0</td>\n",
       "      <td>0</td>\n",
       "      <td>64.000000</td>\n",
       "      <td>0.0</td>\n",
       "      <td>1</td>\n",
       "      <td>Female</td>\n",
       "      <td>1</td>\n",
       "    </tr>\n",
       "    <tr>\n",
       "      <th>1</th>\n",
       "      <td>Public_Transportation</td>\n",
       "      <td>3</td>\n",
       "      <td>1</td>\n",
       "      <td>0</td>\n",
       "      <td>2.92</td>\n",
       "      <td>21</td>\n",
       "      <td>1</td>\n",
       "      <td>2429</td>\n",
       "      <td>3.0</td>\n",
       "      <td>1</td>\n",
       "      <td>1.52</td>\n",
       "      <td>1</td>\n",
       "      <td>3.0</td>\n",
       "      <td>1</td>\n",
       "      <td>56.000000</td>\n",
       "      <td>3.0</td>\n",
       "      <td>0</td>\n",
       "      <td>Female</td>\n",
       "      <td>1</td>\n",
       "    </tr>\n",
       "    <tr>\n",
       "      <th>2</th>\n",
       "      <td>Public_Transportation</td>\n",
       "      <td>2</td>\n",
       "      <td>1</td>\n",
       "      <td>0</td>\n",
       "      <td>3.85</td>\n",
       "      <td>23</td>\n",
       "      <td>2</td>\n",
       "      <td>2656</td>\n",
       "      <td>3.0</td>\n",
       "      <td>1</td>\n",
       "      <td>1.80</td>\n",
       "      <td>0</td>\n",
       "      <td>2.0</td>\n",
       "      <td>0</td>\n",
       "      <td>77.000000</td>\n",
       "      <td>2.0</td>\n",
       "      <td>1</td>\n",
       "      <td>Male</td>\n",
       "      <td>1</td>\n",
       "    </tr>\n",
       "    <tr>\n",
       "      <th>3</th>\n",
       "      <td>Walking</td>\n",
       "      <td>3</td>\n",
       "      <td>0</td>\n",
       "      <td>0</td>\n",
       "      <td>3.01</td>\n",
       "      <td>27</td>\n",
       "      <td>2</td>\n",
       "      <td>2260</td>\n",
       "      <td>3.0</td>\n",
       "      <td>1</td>\n",
       "      <td>1.80</td>\n",
       "      <td>0</td>\n",
       "      <td>2.0</td>\n",
       "      <td>0</td>\n",
       "      <td>71.700000</td>\n",
       "      <td>2.0</td>\n",
       "      <td>0</td>\n",
       "      <td>Male</td>\n",
       "      <td>2</td>\n",
       "    </tr>\n",
       "    <tr>\n",
       "      <th>4</th>\n",
       "      <td>Public_Transportation</td>\n",
       "      <td>2</td>\n",
       "      <td>0</td>\n",
       "      <td>0</td>\n",
       "      <td>2.73</td>\n",
       "      <td>22</td>\n",
       "      <td>1</td>\n",
       "      <td>1895</td>\n",
       "      <td>1.0</td>\n",
       "      <td>1</td>\n",
       "      <td>1.78</td>\n",
       "      <td>0</td>\n",
       "      <td>2.0</td>\n",
       "      <td>0</td>\n",
       "      <td>89.800000</td>\n",
       "      <td>0.0</td>\n",
       "      <td>0</td>\n",
       "      <td>Male</td>\n",
       "      <td>3</td>\n",
       "    </tr>\n",
       "    <tr>\n",
       "      <th>...</th>\n",
       "      <td>...</td>\n",
       "      <td>...</td>\n",
       "      <td>...</td>\n",
       "      <td>...</td>\n",
       "      <td>...</td>\n",
       "      <td>...</td>\n",
       "      <td>...</td>\n",
       "      <td>...</td>\n",
       "      <td>...</td>\n",
       "      <td>...</td>\n",
       "      <td>...</td>\n",
       "      <td>...</td>\n",
       "      <td>...</td>\n",
       "      <td>...</td>\n",
       "      <td>...</td>\n",
       "      <td>...</td>\n",
       "      <td>...</td>\n",
       "      <td>...</td>\n",
       "      <td>...</td>\n",
       "    </tr>\n",
       "    <tr>\n",
       "      <th>1916</th>\n",
       "      <td>Public_Transportation</td>\n",
       "      <td>3</td>\n",
       "      <td>1</td>\n",
       "      <td>1</td>\n",
       "      <td>3.08</td>\n",
       "      <td>23</td>\n",
       "      <td>1</td>\n",
       "      <td>2744</td>\n",
       "      <td>3.0</td>\n",
       "      <td>1</td>\n",
       "      <td>1.71</td>\n",
       "      <td>0</td>\n",
       "      <td>2.0</td>\n",
       "      <td>0</td>\n",
       "      <td>131.408528</td>\n",
       "      <td>0.0</td>\n",
       "      <td>1</td>\n",
       "      <td>Female</td>\n",
       "      <td>6</td>\n",
       "    </tr>\n",
       "    <tr>\n",
       "      <th>1917</th>\n",
       "      <td>Public_Transportation</td>\n",
       "      <td>3</td>\n",
       "      <td>1</td>\n",
       "      <td>1</td>\n",
       "      <td>3.00</td>\n",
       "      <td>23</td>\n",
       "      <td>1</td>\n",
       "      <td>2977</td>\n",
       "      <td>3.0</td>\n",
       "      <td>1</td>\n",
       "      <td>1.75</td>\n",
       "      <td>0</td>\n",
       "      <td>2.0</td>\n",
       "      <td>0</td>\n",
       "      <td>133.742943</td>\n",
       "      <td>0.0</td>\n",
       "      <td>1</td>\n",
       "      <td>Female</td>\n",
       "      <td>6</td>\n",
       "    </tr>\n",
       "    <tr>\n",
       "      <th>1918</th>\n",
       "      <td>Public_Transportation</td>\n",
       "      <td>3</td>\n",
       "      <td>1</td>\n",
       "      <td>1</td>\n",
       "      <td>3.26</td>\n",
       "      <td>23</td>\n",
       "      <td>1</td>\n",
       "      <td>2422</td>\n",
       "      <td>3.0</td>\n",
       "      <td>1</td>\n",
       "      <td>1.75</td>\n",
       "      <td>0</td>\n",
       "      <td>2.0</td>\n",
       "      <td>0</td>\n",
       "      <td>133.689352</td>\n",
       "      <td>0.0</td>\n",
       "      <td>1</td>\n",
       "      <td>Female</td>\n",
       "      <td>6</td>\n",
       "    </tr>\n",
       "    <tr>\n",
       "      <th>1919</th>\n",
       "      <td>Public_Transportation</td>\n",
       "      <td>3</td>\n",
       "      <td>1</td>\n",
       "      <td>1</td>\n",
       "      <td>3.61</td>\n",
       "      <td>23</td>\n",
       "      <td>1</td>\n",
       "      <td>2372</td>\n",
       "      <td>3.0</td>\n",
       "      <td>1</td>\n",
       "      <td>1.74</td>\n",
       "      <td>0</td>\n",
       "      <td>2.0</td>\n",
       "      <td>0</td>\n",
       "      <td>133.346641</td>\n",
       "      <td>0.0</td>\n",
       "      <td>1</td>\n",
       "      <td>Female</td>\n",
       "      <td>6</td>\n",
       "    </tr>\n",
       "    <tr>\n",
       "      <th>1920</th>\n",
       "      <td>Public_Transportation</td>\n",
       "      <td>3</td>\n",
       "      <td>1</td>\n",
       "      <td>1</td>\n",
       "      <td>3.83</td>\n",
       "      <td>23</td>\n",
       "      <td>1</td>\n",
       "      <td>2336</td>\n",
       "      <td>3.0</td>\n",
       "      <td>1</td>\n",
       "      <td>1.74</td>\n",
       "      <td>0</td>\n",
       "      <td>2.0</td>\n",
       "      <td>0</td>\n",
       "      <td>133.472641</td>\n",
       "      <td>0.0</td>\n",
       "      <td>1</td>\n",
       "      <td>Female</td>\n",
       "      <td>6</td>\n",
       "    </tr>\n",
       "  </tbody>\n",
       "</table>\n",
       "<p>1920 rows × 19 columns</p>\n",
       "</div>"
      ],
      "text/plain": [
       "             Transportation Regular_fiber_diet  Diagnostic_in_family_history  \\\n",
       "0     Public_Transportation                  2                             1   \n",
       "1     Public_Transportation                  3                             1   \n",
       "2     Public_Transportation                  2                             1   \n",
       "3                   Walking                  3                             0   \n",
       "4     Public_Transportation                  2                             0   \n",
       "...                     ...                ...                           ...   \n",
       "1916  Public_Transportation                  3                             1   \n",
       "1917  Public_Transportation                  3                             1   \n",
       "1918  Public_Transportation                  3                             1   \n",
       "1919  Public_Transportation                  3                             1   \n",
       "1920  Public_Transportation                  3                             1   \n",
       "\n",
       "      High_calorie_diet  Sedentary_hours_daily  Age  Alcohol  \\\n",
       "0                     0                   3.73   21        0   \n",
       "1                     0                   2.92   21        1   \n",
       "2                     0                   3.85   23        2   \n",
       "3                     0                   3.01   27        2   \n",
       "4                     0                   2.73   22        1   \n",
       "...                 ...                    ...  ...      ...   \n",
       "1916                  1                   3.08   23        1   \n",
       "1917                  1                   3.00   23        1   \n",
       "1918                  1                   3.26   23        1   \n",
       "1919                  1                   3.61   23        1   \n",
       "1920                  1                   3.83   23        1   \n",
       "\n",
       "      Est_avg_calorie_intake  Main_meals_daily  Snacks  Height  Smoker  \\\n",
       "0                       2474               3.0       1    1.62       0   \n",
       "1                       2429               3.0       1    1.52       1   \n",
       "2                       2656               3.0       1    1.80       0   \n",
       "3                       2260               3.0       1    1.80       0   \n",
       "4                       1895               1.0       1    1.78       0   \n",
       "...                      ...               ...     ...     ...     ...   \n",
       "1916                    2744               3.0       1    1.71       0   \n",
       "1917                    2977               3.0       1    1.75       0   \n",
       "1918                    2422               3.0       1    1.75       0   \n",
       "1919                    2372               3.0       1    1.74       0   \n",
       "1920                    2336               3.0       1    1.74       0   \n",
       "\n",
       "      Water_daily  Calorie_monitoring      Weight  Physical_activity_level  \\\n",
       "0             2.0                   0   64.000000                      0.0   \n",
       "1             3.0                   1   56.000000                      3.0   \n",
       "2             2.0                   0   77.000000                      2.0   \n",
       "3             2.0                   0   71.700000                      2.0   \n",
       "4             2.0                   0   89.800000                      0.0   \n",
       "...           ...                 ...         ...                      ...   \n",
       "1916          2.0                   0  131.408528                      0.0   \n",
       "1917          2.0                   0  133.742943                      0.0   \n",
       "1918          2.0                   0  133.689352                      0.0   \n",
       "1919          2.0                   0  133.346641                      0.0   \n",
       "1920          2.0                   0  133.472641                      0.0   \n",
       "\n",
       "      Technology_time_use  Gender  Diagnostic  \n",
       "0                       1  Female           1  \n",
       "1                       0  Female           1  \n",
       "2                       1    Male           1  \n",
       "3                       0    Male           2  \n",
       "4                       0    Male           3  \n",
       "...                   ...     ...         ...  \n",
       "1916                    1  Female           6  \n",
       "1917                    1  Female           6  \n",
       "1918                    1  Female           6  \n",
       "1919                    1  Female           6  \n",
       "1920                    1  Female           6  \n",
       "\n",
       "[1920 rows x 19 columns]"
      ]
     },
     "execution_count": 117,
     "metadata": {},
     "output_type": "execute_result"
    }
   ],
   "source": [
    "dataset"
   ]
  },
  {
   "cell_type": "code",
   "execution_count": 118,
   "id": "9c94b8bc",
   "metadata": {},
   "outputs": [],
   "source": [
    "new_transportation=OrdinalEncoder().fit_transform(dataset[\"Transportation\"].to_numpy().reshape(-1,1))\n",
    "dataset.loc[:,\"Transportation\"]=new_transportation"
   ]
  },
  {
   "cell_type": "code",
   "execution_count": 119,
   "id": "fde4c715",
   "metadata": {},
   "outputs": [],
   "source": [
    "ord_enc=OrdinalEncoder()"
   ]
  },
  {
   "cell_type": "code",
   "execution_count": 120,
   "id": "4477d96e",
   "metadata": {},
   "outputs": [],
   "source": [
    "dataset.loc[:,\"Gender\"]=ord_enc.fit_transform(dataset[\"Gender\"].to_numpy().reshape(-1,1))"
   ]
  },
  {
   "cell_type": "code",
   "execution_count": 121,
   "id": "b4c12f6b",
   "metadata": {},
   "outputs": [
    {
     "data": {
      "text/html": [
       "<div>\n",
       "<style scoped>\n",
       "    .dataframe tbody tr th:only-of-type {\n",
       "        vertical-align: middle;\n",
       "    }\n",
       "\n",
       "    .dataframe tbody tr th {\n",
       "        vertical-align: top;\n",
       "    }\n",
       "\n",
       "    .dataframe thead th {\n",
       "        text-align: right;\n",
       "    }\n",
       "</style>\n",
       "<table border=\"1\" class=\"dataframe\">\n",
       "  <thead>\n",
       "    <tr style=\"text-align: right;\">\n",
       "      <th></th>\n",
       "      <th>Transportation</th>\n",
       "      <th>Regular_fiber_diet</th>\n",
       "      <th>Diagnostic_in_family_history</th>\n",
       "      <th>High_calorie_diet</th>\n",
       "      <th>Sedentary_hours_daily</th>\n",
       "      <th>Age</th>\n",
       "      <th>Alcohol</th>\n",
       "      <th>Est_avg_calorie_intake</th>\n",
       "      <th>Main_meals_daily</th>\n",
       "      <th>Snacks</th>\n",
       "      <th>Height</th>\n",
       "      <th>Smoker</th>\n",
       "      <th>Water_daily</th>\n",
       "      <th>Calorie_monitoring</th>\n",
       "      <th>Weight</th>\n",
       "      <th>Physical_activity_level</th>\n",
       "      <th>Technology_time_use</th>\n",
       "      <th>Gender</th>\n",
       "      <th>Diagnostic</th>\n",
       "    </tr>\n",
       "  </thead>\n",
       "  <tbody>\n",
       "    <tr>\n",
       "      <th>Transportation</th>\n",
       "      <td>1.000000</td>\n",
       "      <td>0.157949</td>\n",
       "      <td>-0.099996</td>\n",
       "      <td>-0.072539</td>\n",
       "      <td>0.139600</td>\n",
       "      <td>-0.181074</td>\n",
       "      <td>0.024129</td>\n",
       "      <td>0.014332</td>\n",
       "      <td>-0.105175</td>\n",
       "      <td>0.044093</td>\n",
       "      <td>-0.077044</td>\n",
       "      <td>-0.009033</td>\n",
       "      <td>0.029567</td>\n",
       "      <td>0.033569</td>\n",
       "      <td>-0.001065</td>\n",
       "      <td>0.020417</td>\n",
       "      <td>0.170513</td>\n",
       "      <td>-0.138235</td>\n",
       "      <td>0.012614</td>\n",
       "    </tr>\n",
       "    <tr>\n",
       "      <th>Regular_fiber_diet</th>\n",
       "      <td>0.157949</td>\n",
       "      <td>1.000000</td>\n",
       "      <td>0.011457</td>\n",
       "      <td>-0.045313</td>\n",
       "      <td>-0.057646</td>\n",
       "      <td>0.128077</td>\n",
       "      <td>0.142114</td>\n",
       "      <td>-0.014232</td>\n",
       "      <td>-0.003245</td>\n",
       "      <td>0.077487</td>\n",
       "      <td>-0.067710</td>\n",
       "      <td>0.016050</td>\n",
       "      <td>0.016561</td>\n",
       "      <td>0.086161</td>\n",
       "      <td>0.203269</td>\n",
       "      <td>0.004639</td>\n",
       "      <td>-0.071270</td>\n",
       "      <td>-0.355877</td>\n",
       "      <td>0.249408</td>\n",
       "    </tr>\n",
       "    <tr>\n",
       "      <th>Diagnostic_in_family_history</th>\n",
       "      <td>-0.099996</td>\n",
       "      <td>0.011457</td>\n",
       "      <td>1.000000</td>\n",
       "      <td>0.199630</td>\n",
       "      <td>0.022366</td>\n",
       "      <td>0.037473</td>\n",
       "      <td>-0.032687</td>\n",
       "      <td>-0.041374</td>\n",
       "      <td>0.135410</td>\n",
       "      <td>-0.175068</td>\n",
       "      <td>0.246172</td>\n",
       "      <td>0.011833</td>\n",
       "      <td>0.125730</td>\n",
       "      <td>-0.159261</td>\n",
       "      <td>0.471279</td>\n",
       "      <td>-0.240608</td>\n",
       "      <td>0.025673</td>\n",
       "      <td>0.100285</td>\n",
       "      <td>0.504692</td>\n",
       "    </tr>\n",
       "    <tr>\n",
       "      <th>High_calorie_diet</th>\n",
       "      <td>-0.072539</td>\n",
       "      <td>-0.045313</td>\n",
       "      <td>0.199630</td>\n",
       "      <td>1.000000</td>\n",
       "      <td>0.075933</td>\n",
       "      <td>-0.092185</td>\n",
       "      <td>0.087060</td>\n",
       "      <td>0.019768</td>\n",
       "      <td>0.007109</td>\n",
       "      <td>-0.146350</td>\n",
       "      <td>0.179557</td>\n",
       "      <td>-0.060583</td>\n",
       "      <td>-0.033619</td>\n",
       "      <td>-0.186010</td>\n",
       "      <td>0.245851</td>\n",
       "      <td>-0.224175</td>\n",
       "      <td>0.060603</td>\n",
       "      <td>0.068098</td>\n",
       "      <td>0.243489</td>\n",
       "    </tr>\n",
       "    <tr>\n",
       "      <th>Sedentary_hours_daily</th>\n",
       "      <td>0.139600</td>\n",
       "      <td>-0.057646</td>\n",
       "      <td>0.022366</td>\n",
       "      <td>0.075933</td>\n",
       "      <td>1.000000</td>\n",
       "      <td>-0.137287</td>\n",
       "      <td>-0.044669</td>\n",
       "      <td>0.017743</td>\n",
       "      <td>0.058870</td>\n",
       "      <td>0.029353</td>\n",
       "      <td>0.050546</td>\n",
       "      <td>0.008103</td>\n",
       "      <td>0.057769</td>\n",
       "      <td>-0.021640</td>\n",
       "      <td>-0.034284</td>\n",
       "      <td>0.007013</td>\n",
       "      <td>0.865755</td>\n",
       "      <td>0.001613</td>\n",
       "      <td>-0.072140</td>\n",
       "    </tr>\n",
       "    <tr>\n",
       "      <th>Age</th>\n",
       "      <td>-0.181074</td>\n",
       "      <td>0.128077</td>\n",
       "      <td>0.037473</td>\n",
       "      <td>-0.092185</td>\n",
       "      <td>-0.137287</td>\n",
       "      <td>1.000000</td>\n",
       "      <td>0.100603</td>\n",
       "      <td>-0.010835</td>\n",
       "      <td>-0.049825</td>\n",
       "      <td>0.042246</td>\n",
       "      <td>-0.055687</td>\n",
       "      <td>0.142265</td>\n",
       "      <td>-0.001030</td>\n",
       "      <td>0.000987</td>\n",
       "      <td>0.070072</td>\n",
       "      <td>-0.012666</td>\n",
       "      <td>-0.165778</td>\n",
       "      <td>-0.074709</td>\n",
       "      <td>0.123400</td>\n",
       "    </tr>\n",
       "    <tr>\n",
       "      <th>Alcohol</th>\n",
       "      <td>0.024129</td>\n",
       "      <td>0.142114</td>\n",
       "      <td>-0.032687</td>\n",
       "      <td>0.087060</td>\n",
       "      <td>-0.044669</td>\n",
       "      <td>0.100603</td>\n",
       "      <td>1.000000</td>\n",
       "      <td>0.002224</td>\n",
       "      <td>-0.008178</td>\n",
       "      <td>-0.046089</td>\n",
       "      <td>0.132737</td>\n",
       "      <td>0.082706</td>\n",
       "      <td>0.049785</td>\n",
       "      <td>0.006457</td>\n",
       "      <td>0.159337</td>\n",
       "      <td>-0.057361</td>\n",
       "      <td>-0.034652</td>\n",
       "      <td>-0.010922</td>\n",
       "      <td>0.149777</td>\n",
       "    </tr>\n",
       "    <tr>\n",
       "      <th>Est_avg_calorie_intake</th>\n",
       "      <td>0.014332</td>\n",
       "      <td>-0.014232</td>\n",
       "      <td>-0.041374</td>\n",
       "      <td>0.019768</td>\n",
       "      <td>0.017743</td>\n",
       "      <td>-0.010835</td>\n",
       "      <td>0.002224</td>\n",
       "      <td>1.000000</td>\n",
       "      <td>-0.011111</td>\n",
       "      <td>-0.002823</td>\n",
       "      <td>-0.054224</td>\n",
       "      <td>-0.042074</td>\n",
       "      <td>-0.014941</td>\n",
       "      <td>-0.013874</td>\n",
       "      <td>-0.035913</td>\n",
       "      <td>0.009344</td>\n",
       "      <td>0.008607</td>\n",
       "      <td>-0.025783</td>\n",
       "      <td>-0.037949</td>\n",
       "    </tr>\n",
       "    <tr>\n",
       "      <th>Main_meals_daily</th>\n",
       "      <td>-0.105175</td>\n",
       "      <td>-0.003245</td>\n",
       "      <td>0.135410</td>\n",
       "      <td>0.007109</td>\n",
       "      <td>0.058870</td>\n",
       "      <td>-0.049825</td>\n",
       "      <td>-0.008178</td>\n",
       "      <td>-0.011111</td>\n",
       "      <td>1.000000</td>\n",
       "      <td>0.047084</td>\n",
       "      <td>0.226058</td>\n",
       "      <td>-0.022933</td>\n",
       "      <td>0.035158</td>\n",
       "      <td>-0.017833</td>\n",
       "      <td>0.162320</td>\n",
       "      <td>0.020284</td>\n",
       "      <td>0.056153</td>\n",
       "      <td>0.119375</td>\n",
       "      <td>0.112517</td>\n",
       "    </tr>\n",
       "    <tr>\n",
       "      <th>Snacks</th>\n",
       "      <td>0.044093</td>\n",
       "      <td>0.077487</td>\n",
       "      <td>-0.175068</td>\n",
       "      <td>-0.146350</td>\n",
       "      <td>0.029353</td>\n",
       "      <td>0.042246</td>\n",
       "      <td>-0.046089</td>\n",
       "      <td>-0.002823</td>\n",
       "      <td>0.047084</td>\n",
       "      <td>1.000000</td>\n",
       "      <td>-0.052762</td>\n",
       "      <td>0.064889</td>\n",
       "      <td>-0.151473</td>\n",
       "      <td>0.110772</td>\n",
       "      <td>-0.275814</td>\n",
       "      <td>0.186127</td>\n",
       "      <td>0.043836</td>\n",
       "      <td>-0.092620</td>\n",
       "      <td>-0.326052</td>\n",
       "    </tr>\n",
       "    <tr>\n",
       "      <th>Height</th>\n",
       "      <td>-0.077044</td>\n",
       "      <td>-0.067710</td>\n",
       "      <td>0.246172</td>\n",
       "      <td>0.179557</td>\n",
       "      <td>0.050546</td>\n",
       "      <td>-0.055687</td>\n",
       "      <td>0.132737</td>\n",
       "      <td>-0.054224</td>\n",
       "      <td>0.226058</td>\n",
       "      <td>-0.052762</td>\n",
       "      <td>1.000000</td>\n",
       "      <td>0.024957</td>\n",
       "      <td>0.164235</td>\n",
       "      <td>-0.118176</td>\n",
       "      <td>0.406775</td>\n",
       "      <td>0.092933</td>\n",
       "      <td>0.054163</td>\n",
       "      <td>0.614541</td>\n",
       "      <td>0.130190</td>\n",
       "    </tr>\n",
       "    <tr>\n",
       "      <th>Smoker</th>\n",
       "      <td>-0.009033</td>\n",
       "      <td>0.016050</td>\n",
       "      <td>0.011833</td>\n",
       "      <td>-0.060583</td>\n",
       "      <td>0.008103</td>\n",
       "      <td>0.142265</td>\n",
       "      <td>0.082706</td>\n",
       "      <td>-0.042074</td>\n",
       "      <td>-0.022933</td>\n",
       "      <td>0.064889</td>\n",
       "      <td>0.024957</td>\n",
       "      <td>1.000000</td>\n",
       "      <td>0.008849</td>\n",
       "      <td>0.058649</td>\n",
       "      <td>0.005204</td>\n",
       "      <td>0.079941</td>\n",
       "      <td>0.007315</td>\n",
       "      <td>0.033889</td>\n",
       "      <td>-0.005093</td>\n",
       "    </tr>\n",
       "    <tr>\n",
       "      <th>Water_daily</th>\n",
       "      <td>0.029567</td>\n",
       "      <td>0.016561</td>\n",
       "      <td>0.125730</td>\n",
       "      <td>-0.033619</td>\n",
       "      <td>0.057769</td>\n",
       "      <td>-0.001030</td>\n",
       "      <td>0.049785</td>\n",
       "      <td>-0.014941</td>\n",
       "      <td>0.035158</td>\n",
       "      <td>-0.151473</td>\n",
       "      <td>0.164235</td>\n",
       "      <td>0.008849</td>\n",
       "      <td>1.000000</td>\n",
       "      <td>0.067688</td>\n",
       "      <td>0.106082</td>\n",
       "      <td>0.119126</td>\n",
       "      <td>0.059866</td>\n",
       "      <td>0.121193</td>\n",
       "      <td>0.070431</td>\n",
       "    </tr>\n",
       "    <tr>\n",
       "      <th>Calorie_monitoring</th>\n",
       "      <td>0.033569</td>\n",
       "      <td>0.086161</td>\n",
       "      <td>-0.159261</td>\n",
       "      <td>-0.186010</td>\n",
       "      <td>-0.021640</td>\n",
       "      <td>0.000987</td>\n",
       "      <td>0.006457</td>\n",
       "      <td>-0.013874</td>\n",
       "      <td>-0.017833</td>\n",
       "      <td>0.110772</td>\n",
       "      <td>-0.118176</td>\n",
       "      <td>0.058649</td>\n",
       "      <td>0.067688</td>\n",
       "      <td>1.000000</td>\n",
       "      <td>-0.188276</td>\n",
       "      <td>0.186127</td>\n",
       "      <td>-0.012481</td>\n",
       "      <td>-0.088290</td>\n",
       "      <td>-0.189645</td>\n",
       "    </tr>\n",
       "    <tr>\n",
       "      <th>Weight</th>\n",
       "      <td>-0.001065</td>\n",
       "      <td>0.203269</td>\n",
       "      <td>0.471279</td>\n",
       "      <td>0.245851</td>\n",
       "      <td>-0.034284</td>\n",
       "      <td>0.070072</td>\n",
       "      <td>0.159337</td>\n",
       "      <td>-0.035913</td>\n",
       "      <td>0.162320</td>\n",
       "      <td>-0.275814</td>\n",
       "      <td>0.406775</td>\n",
       "      <td>0.005204</td>\n",
       "      <td>0.106082</td>\n",
       "      <td>-0.188276</td>\n",
       "      <td>1.000000</td>\n",
       "      <td>-0.279385</td>\n",
       "      <td>-0.039659</td>\n",
       "      <td>0.148049</td>\n",
       "      <td>0.837253</td>\n",
       "    </tr>\n",
       "    <tr>\n",
       "      <th>Physical_activity_level</th>\n",
       "      <td>0.020417</td>\n",
       "      <td>0.004639</td>\n",
       "      <td>-0.240608</td>\n",
       "      <td>-0.224175</td>\n",
       "      <td>0.007013</td>\n",
       "      <td>-0.012666</td>\n",
       "      <td>-0.057361</td>\n",
       "      <td>0.009344</td>\n",
       "      <td>0.020284</td>\n",
       "      <td>0.186127</td>\n",
       "      <td>0.092933</td>\n",
       "      <td>0.079941</td>\n",
       "      <td>0.119126</td>\n",
       "      <td>0.186127</td>\n",
       "      <td>-0.279385</td>\n",
       "      <td>1.000000</td>\n",
       "      <td>0.030918</td>\n",
       "      <td>0.135356</td>\n",
       "      <td>-0.371642</td>\n",
       "    </tr>\n",
       "    <tr>\n",
       "      <th>Technology_time_use</th>\n",
       "      <td>0.170513</td>\n",
       "      <td>-0.071270</td>\n",
       "      <td>0.025673</td>\n",
       "      <td>0.060603</td>\n",
       "      <td>0.865755</td>\n",
       "      <td>-0.165778</td>\n",
       "      <td>-0.034652</td>\n",
       "      <td>0.008607</td>\n",
       "      <td>0.056153</td>\n",
       "      <td>0.043836</td>\n",
       "      <td>0.054163</td>\n",
       "      <td>0.007315</td>\n",
       "      <td>0.059866</td>\n",
       "      <td>-0.012481</td>\n",
       "      <td>-0.039659</td>\n",
       "      <td>0.030918</td>\n",
       "      <td>1.000000</td>\n",
       "      <td>-0.001272</td>\n",
       "      <td>-0.083830</td>\n",
       "    </tr>\n",
       "    <tr>\n",
       "      <th>Gender</th>\n",
       "      <td>-0.138235</td>\n",
       "      <td>-0.355877</td>\n",
       "      <td>0.100285</td>\n",
       "      <td>0.068098</td>\n",
       "      <td>0.001613</td>\n",
       "      <td>-0.074709</td>\n",
       "      <td>-0.010922</td>\n",
       "      <td>-0.025783</td>\n",
       "      <td>0.119375</td>\n",
       "      <td>-0.092620</td>\n",
       "      <td>0.614541</td>\n",
       "      <td>0.033889</td>\n",
       "      <td>0.121193</td>\n",
       "      <td>-0.088290</td>\n",
       "      <td>0.148049</td>\n",
       "      <td>0.135356</td>\n",
       "      <td>-0.001272</td>\n",
       "      <td>1.000000</td>\n",
       "      <td>-0.036515</td>\n",
       "    </tr>\n",
       "    <tr>\n",
       "      <th>Diagnostic</th>\n",
       "      <td>0.012614</td>\n",
       "      <td>0.249408</td>\n",
       "      <td>0.504692</td>\n",
       "      <td>0.243489</td>\n",
       "      <td>-0.072140</td>\n",
       "      <td>0.123400</td>\n",
       "      <td>0.149777</td>\n",
       "      <td>-0.037949</td>\n",
       "      <td>0.112517</td>\n",
       "      <td>-0.326052</td>\n",
       "      <td>0.130190</td>\n",
       "      <td>-0.005093</td>\n",
       "      <td>0.070431</td>\n",
       "      <td>-0.189645</td>\n",
       "      <td>0.837253</td>\n",
       "      <td>-0.371642</td>\n",
       "      <td>-0.083830</td>\n",
       "      <td>-0.036515</td>\n",
       "      <td>1.000000</td>\n",
       "    </tr>\n",
       "  </tbody>\n",
       "</table>\n",
       "</div>"
      ],
      "text/plain": [
       "                              Transportation  Regular_fiber_diet  \\\n",
       "Transportation                      1.000000            0.157949   \n",
       "Regular_fiber_diet                  0.157949            1.000000   \n",
       "Diagnostic_in_family_history       -0.099996            0.011457   \n",
       "High_calorie_diet                  -0.072539           -0.045313   \n",
       "Sedentary_hours_daily               0.139600           -0.057646   \n",
       "Age                                -0.181074            0.128077   \n",
       "Alcohol                             0.024129            0.142114   \n",
       "Est_avg_calorie_intake              0.014332           -0.014232   \n",
       "Main_meals_daily                   -0.105175           -0.003245   \n",
       "Snacks                              0.044093            0.077487   \n",
       "Height                             -0.077044           -0.067710   \n",
       "Smoker                             -0.009033            0.016050   \n",
       "Water_daily                         0.029567            0.016561   \n",
       "Calorie_monitoring                  0.033569            0.086161   \n",
       "Weight                             -0.001065            0.203269   \n",
       "Physical_activity_level             0.020417            0.004639   \n",
       "Technology_time_use                 0.170513           -0.071270   \n",
       "Gender                             -0.138235           -0.355877   \n",
       "Diagnostic                          0.012614            0.249408   \n",
       "\n",
       "                              Diagnostic_in_family_history  High_calorie_diet  \\\n",
       "Transportation                                   -0.099996          -0.072539   \n",
       "Regular_fiber_diet                                0.011457          -0.045313   \n",
       "Diagnostic_in_family_history                      1.000000           0.199630   \n",
       "High_calorie_diet                                 0.199630           1.000000   \n",
       "Sedentary_hours_daily                             0.022366           0.075933   \n",
       "Age                                               0.037473          -0.092185   \n",
       "Alcohol                                          -0.032687           0.087060   \n",
       "Est_avg_calorie_intake                           -0.041374           0.019768   \n",
       "Main_meals_daily                                  0.135410           0.007109   \n",
       "Snacks                                           -0.175068          -0.146350   \n",
       "Height                                            0.246172           0.179557   \n",
       "Smoker                                            0.011833          -0.060583   \n",
       "Water_daily                                       0.125730          -0.033619   \n",
       "Calorie_monitoring                               -0.159261          -0.186010   \n",
       "Weight                                            0.471279           0.245851   \n",
       "Physical_activity_level                          -0.240608          -0.224175   \n",
       "Technology_time_use                               0.025673           0.060603   \n",
       "Gender                                            0.100285           0.068098   \n",
       "Diagnostic                                        0.504692           0.243489   \n",
       "\n",
       "                              Sedentary_hours_daily       Age   Alcohol  \\\n",
       "Transportation                             0.139600 -0.181074  0.024129   \n",
       "Regular_fiber_diet                        -0.057646  0.128077  0.142114   \n",
       "Diagnostic_in_family_history               0.022366  0.037473 -0.032687   \n",
       "High_calorie_diet                          0.075933 -0.092185  0.087060   \n",
       "Sedentary_hours_daily                      1.000000 -0.137287 -0.044669   \n",
       "Age                                       -0.137287  1.000000  0.100603   \n",
       "Alcohol                                   -0.044669  0.100603  1.000000   \n",
       "Est_avg_calorie_intake                     0.017743 -0.010835  0.002224   \n",
       "Main_meals_daily                           0.058870 -0.049825 -0.008178   \n",
       "Snacks                                     0.029353  0.042246 -0.046089   \n",
       "Height                                     0.050546 -0.055687  0.132737   \n",
       "Smoker                                     0.008103  0.142265  0.082706   \n",
       "Water_daily                                0.057769 -0.001030  0.049785   \n",
       "Calorie_monitoring                        -0.021640  0.000987  0.006457   \n",
       "Weight                                    -0.034284  0.070072  0.159337   \n",
       "Physical_activity_level                    0.007013 -0.012666 -0.057361   \n",
       "Technology_time_use                        0.865755 -0.165778 -0.034652   \n",
       "Gender                                     0.001613 -0.074709 -0.010922   \n",
       "Diagnostic                                -0.072140  0.123400  0.149777   \n",
       "\n",
       "                              Est_avg_calorie_intake  Main_meals_daily  \\\n",
       "Transportation                              0.014332         -0.105175   \n",
       "Regular_fiber_diet                         -0.014232         -0.003245   \n",
       "Diagnostic_in_family_history               -0.041374          0.135410   \n",
       "High_calorie_diet                           0.019768          0.007109   \n",
       "Sedentary_hours_daily                       0.017743          0.058870   \n",
       "Age                                        -0.010835         -0.049825   \n",
       "Alcohol                                     0.002224         -0.008178   \n",
       "Est_avg_calorie_intake                      1.000000         -0.011111   \n",
       "Main_meals_daily                           -0.011111          1.000000   \n",
       "Snacks                                     -0.002823          0.047084   \n",
       "Height                                     -0.054224          0.226058   \n",
       "Smoker                                     -0.042074         -0.022933   \n",
       "Water_daily                                -0.014941          0.035158   \n",
       "Calorie_monitoring                         -0.013874         -0.017833   \n",
       "Weight                                     -0.035913          0.162320   \n",
       "Physical_activity_level                     0.009344          0.020284   \n",
       "Technology_time_use                         0.008607          0.056153   \n",
       "Gender                                     -0.025783          0.119375   \n",
       "Diagnostic                                 -0.037949          0.112517   \n",
       "\n",
       "                                Snacks    Height    Smoker  Water_daily  \\\n",
       "Transportation                0.044093 -0.077044 -0.009033     0.029567   \n",
       "Regular_fiber_diet            0.077487 -0.067710  0.016050     0.016561   \n",
       "Diagnostic_in_family_history -0.175068  0.246172  0.011833     0.125730   \n",
       "High_calorie_diet            -0.146350  0.179557 -0.060583    -0.033619   \n",
       "Sedentary_hours_daily         0.029353  0.050546  0.008103     0.057769   \n",
       "Age                           0.042246 -0.055687  0.142265    -0.001030   \n",
       "Alcohol                      -0.046089  0.132737  0.082706     0.049785   \n",
       "Est_avg_calorie_intake       -0.002823 -0.054224 -0.042074    -0.014941   \n",
       "Main_meals_daily              0.047084  0.226058 -0.022933     0.035158   \n",
       "Snacks                        1.000000 -0.052762  0.064889    -0.151473   \n",
       "Height                       -0.052762  1.000000  0.024957     0.164235   \n",
       "Smoker                        0.064889  0.024957  1.000000     0.008849   \n",
       "Water_daily                  -0.151473  0.164235  0.008849     1.000000   \n",
       "Calorie_monitoring            0.110772 -0.118176  0.058649     0.067688   \n",
       "Weight                       -0.275814  0.406775  0.005204     0.106082   \n",
       "Physical_activity_level       0.186127  0.092933  0.079941     0.119126   \n",
       "Technology_time_use           0.043836  0.054163  0.007315     0.059866   \n",
       "Gender                       -0.092620  0.614541  0.033889     0.121193   \n",
       "Diagnostic                   -0.326052  0.130190 -0.005093     0.070431   \n",
       "\n",
       "                              Calorie_monitoring    Weight  \\\n",
       "Transportation                          0.033569 -0.001065   \n",
       "Regular_fiber_diet                      0.086161  0.203269   \n",
       "Diagnostic_in_family_history           -0.159261  0.471279   \n",
       "High_calorie_diet                      -0.186010  0.245851   \n",
       "Sedentary_hours_daily                  -0.021640 -0.034284   \n",
       "Age                                     0.000987  0.070072   \n",
       "Alcohol                                 0.006457  0.159337   \n",
       "Est_avg_calorie_intake                 -0.013874 -0.035913   \n",
       "Main_meals_daily                       -0.017833  0.162320   \n",
       "Snacks                                  0.110772 -0.275814   \n",
       "Height                                 -0.118176  0.406775   \n",
       "Smoker                                  0.058649  0.005204   \n",
       "Water_daily                             0.067688  0.106082   \n",
       "Calorie_monitoring                      1.000000 -0.188276   \n",
       "Weight                                 -0.188276  1.000000   \n",
       "Physical_activity_level                 0.186127 -0.279385   \n",
       "Technology_time_use                    -0.012481 -0.039659   \n",
       "Gender                                 -0.088290  0.148049   \n",
       "Diagnostic                             -0.189645  0.837253   \n",
       "\n",
       "                              Physical_activity_level  Technology_time_use  \\\n",
       "Transportation                               0.020417             0.170513   \n",
       "Regular_fiber_diet                           0.004639            -0.071270   \n",
       "Diagnostic_in_family_history                -0.240608             0.025673   \n",
       "High_calorie_diet                           -0.224175             0.060603   \n",
       "Sedentary_hours_daily                        0.007013             0.865755   \n",
       "Age                                         -0.012666            -0.165778   \n",
       "Alcohol                                     -0.057361            -0.034652   \n",
       "Est_avg_calorie_intake                       0.009344             0.008607   \n",
       "Main_meals_daily                             0.020284             0.056153   \n",
       "Snacks                                       0.186127             0.043836   \n",
       "Height                                       0.092933             0.054163   \n",
       "Smoker                                       0.079941             0.007315   \n",
       "Water_daily                                  0.119126             0.059866   \n",
       "Calorie_monitoring                           0.186127            -0.012481   \n",
       "Weight                                      -0.279385            -0.039659   \n",
       "Physical_activity_level                      1.000000             0.030918   \n",
       "Technology_time_use                          0.030918             1.000000   \n",
       "Gender                                       0.135356            -0.001272   \n",
       "Diagnostic                                  -0.371642            -0.083830   \n",
       "\n",
       "                                Gender  Diagnostic  \n",
       "Transportation               -0.138235    0.012614  \n",
       "Regular_fiber_diet           -0.355877    0.249408  \n",
       "Diagnostic_in_family_history  0.100285    0.504692  \n",
       "High_calorie_diet             0.068098    0.243489  \n",
       "Sedentary_hours_daily         0.001613   -0.072140  \n",
       "Age                          -0.074709    0.123400  \n",
       "Alcohol                      -0.010922    0.149777  \n",
       "Est_avg_calorie_intake       -0.025783   -0.037949  \n",
       "Main_meals_daily              0.119375    0.112517  \n",
       "Snacks                       -0.092620   -0.326052  \n",
       "Height                        0.614541    0.130190  \n",
       "Smoker                        0.033889   -0.005093  \n",
       "Water_daily                   0.121193    0.070431  \n",
       "Calorie_monitoring           -0.088290   -0.189645  \n",
       "Weight                        0.148049    0.837253  \n",
       "Physical_activity_level       0.135356   -0.371642  \n",
       "Technology_time_use          -0.001272   -0.083830  \n",
       "Gender                        1.000000   -0.036515  \n",
       "Diagnostic                   -0.036515    1.000000  "
      ]
     },
     "execution_count": 121,
     "metadata": {},
     "output_type": "execute_result"
    }
   ],
   "source": [
    "dataset.corr()"
   ]
  },
  {
   "cell_type": "code",
   "execution_count": 122,
   "id": "14fffd28",
   "metadata": {},
   "outputs": [
    {
     "data": {
      "image/png": "[encoded data removed]",
      "text/plain": [
       "<Figure size 1000x1000 with 2 Axes>"
      ]
     },
     "metadata": {},
     "output_type": "display_data"
    }
   ],
   "source": [
    "plt.figure(figsize=(10,10))\n",
    "sns.heatmap(dataset.corr())\n",
    "plt.show()"
   ]
  },
  {
   "cell_type": "markdown",
   "id": "b28f25cc",
   "metadata": {},
   "source": [
    "- ## Selectia atributelor: Variance Threshold"
   ]
  },
  {
   "cell_type": "code",
   "execution_count": 123,
   "id": "3b363584",
   "metadata": {},
   "outputs": [],
   "source": [
    "features=dataset.iloc[:,:-1].to_numpy()\n",
    "labels=dataset.iloc[:,-1].to_numpy()"
   ]
  },
  {
   "cell_type": "code",
   "execution_count": null,
   "id": "e177816c",
   "metadata": {},
   "outputs": [],
   "source": []
  },
  {
   "cell_type": "code",
   "execution_count": 124,
   "id": "1f58e694",
   "metadata": {},
   "outputs": [
    {
     "name": "stdout",
     "output_type": "stream",
     "text": [
      "Excluded features Index(['Height', 'Smoker', 'Calorie_monitoring'], dtype='object')\n",
      "Correlation of excluded features with the target variable\n",
      "Corr between Diagnostic and Height is 0.13019007655111536\n",
      "Corr between Diagnostic and Smoker is -0.005093486025003062\n",
      "Corr between Diagnostic and Calorie_monitoring is -0.18964450668598895\n",
      "Considered columns for prediction:  Index(['Transportation', 'Regular_fiber_diet', 'Diagnostic_in_family_history',\n",
      "       'High_calorie_diet', 'Sedentary_hours_daily', 'Age', 'Alcohol',\n",
      "       'Est_avg_calorie_intake', 'Main_meals_daily', 'Snacks', 'Water_daily',\n",
      "       'Weight', 'Physical_activity_level', 'Technology_time_use', 'Gender'],\n",
      "      dtype='object')\n"
     ]
    }
   ],
   "source": [
    "variance_threshold=VarianceThreshold(threshold=0.1025)\n",
    "variance_threshold.fit(features)\n",
    "new_features_indexes=variance_threshold.get_support(indices=True)\n",
    "new_dataset=dataset.iloc[:,new_features_indexes]\n",
    "#print(dataset.columns[new_features_indexes])\n",
    "all_features_indexes=np.arange(0,features.shape[1])\n",
    "excluded_feature_indexes=np.array(list(set(all_features_indexes)-set(new_features_indexes)))\n",
    "print(\"Excluded features\",dataset.columns[excluded_feature_indexes])\n",
    "print(\"Correlation of excluded features with the target variable\")\n",
    "for col in dataset.columns[excluded_feature_indexes]:\n",
    "    print(\"Corr between Diagnostic and {} is {}\".format(col,dataset.corr()[\"Diagnostic\"][col]))\n",
    "print(\"Considered columns for prediction: \",dataset.columns[new_features_indexes])\n",
    "#new_dataset.to_numpy()\n",
    "train_val_features,test_features,train_val_y,test_y=train_test_split(new_dataset.to_numpy(),labels,\n",
    "                                                                     random_state=42,test_size=0.2)"
   ]
  },
  {
   "cell_type": "code",
   "execution_count": 125,
   "id": "90f2e7b1",
   "metadata": {},
   "outputs": [
    {
     "data": {
      "text/html": [
       "<div>\n",
       "<style scoped>\n",
       "    .dataframe tbody tr th:only-of-type {\n",
       "        vertical-align: middle;\n",
       "    }\n",
       "\n",
       "    .dataframe tbody tr th {\n",
       "        vertical-align: top;\n",
       "    }\n",
       "\n",
       "    .dataframe thead th {\n",
       "        text-align: right;\n",
       "    }\n",
       "</style>\n",
       "<table border=\"1\" class=\"dataframe\">\n",
       "  <thead>\n",
       "    <tr style=\"text-align: right;\">\n",
       "      <th></th>\n",
       "      <th>Transportation</th>\n",
       "      <th>Regular_fiber_diet</th>\n",
       "      <th>Diagnostic_in_family_history</th>\n",
       "      <th>High_calorie_diet</th>\n",
       "      <th>Sedentary_hours_daily</th>\n",
       "      <th>Age</th>\n",
       "      <th>Alcohol</th>\n",
       "      <th>Est_avg_calorie_intake</th>\n",
       "      <th>Main_meals_daily</th>\n",
       "      <th>Snacks</th>\n",
       "      <th>Water_daily</th>\n",
       "      <th>Weight</th>\n",
       "      <th>Physical_activity_level</th>\n",
       "      <th>Technology_time_use</th>\n",
       "      <th>Gender</th>\n",
       "    </tr>\n",
       "  </thead>\n",
       "  <tbody>\n",
       "    <tr>\n",
       "      <th>0</th>\n",
       "      <td>3.0</td>\n",
       "      <td>2</td>\n",
       "      <td>1</td>\n",
       "      <td>0</td>\n",
       "      <td>3.73</td>\n",
       "      <td>21</td>\n",
       "      <td>0</td>\n",
       "      <td>2474</td>\n",
       "      <td>3.0</td>\n",
       "      <td>1</td>\n",
       "      <td>2.0</td>\n",
       "      <td>64.000000</td>\n",
       "      <td>0.0</td>\n",
       "      <td>1</td>\n",
       "      <td>0.0</td>\n",
       "    </tr>\n",
       "    <tr>\n",
       "      <th>1</th>\n",
       "      <td>3.0</td>\n",
       "      <td>3</td>\n",
       "      <td>1</td>\n",
       "      <td>0</td>\n",
       "      <td>2.92</td>\n",
       "      <td>21</td>\n",
       "      <td>1</td>\n",
       "      <td>2429</td>\n",
       "      <td>3.0</td>\n",
       "      <td>1</td>\n",
       "      <td>3.0</td>\n",
       "      <td>56.000000</td>\n",
       "      <td>3.0</td>\n",
       "      <td>0</td>\n",
       "      <td>0.0</td>\n",
       "    </tr>\n",
       "    <tr>\n",
       "      <th>2</th>\n",
       "      <td>3.0</td>\n",
       "      <td>2</td>\n",
       "      <td>1</td>\n",
       "      <td>0</td>\n",
       "      <td>3.85</td>\n",
       "      <td>23</td>\n",
       "      <td>2</td>\n",
       "      <td>2656</td>\n",
       "      <td>3.0</td>\n",
       "      <td>1</td>\n",
       "      <td>2.0</td>\n",
       "      <td>77.000000</td>\n",
       "      <td>2.0</td>\n",
       "      <td>1</td>\n",
       "      <td>1.0</td>\n",
       "    </tr>\n",
       "    <tr>\n",
       "      <th>3</th>\n",
       "      <td>4.0</td>\n",
       "      <td>3</td>\n",
       "      <td>0</td>\n",
       "      <td>0</td>\n",
       "      <td>3.01</td>\n",
       "      <td>27</td>\n",
       "      <td>2</td>\n",
       "      <td>2260</td>\n",
       "      <td>3.0</td>\n",
       "      <td>1</td>\n",
       "      <td>2.0</td>\n",
       "      <td>71.700000</td>\n",
       "      <td>2.0</td>\n",
       "      <td>0</td>\n",
       "      <td>1.0</td>\n",
       "    </tr>\n",
       "    <tr>\n",
       "      <th>4</th>\n",
       "      <td>3.0</td>\n",
       "      <td>2</td>\n",
       "      <td>0</td>\n",
       "      <td>0</td>\n",
       "      <td>2.73</td>\n",
       "      <td>22</td>\n",
       "      <td>1</td>\n",
       "      <td>1895</td>\n",
       "      <td>1.0</td>\n",
       "      <td>1</td>\n",
       "      <td>2.0</td>\n",
       "      <td>89.800000</td>\n",
       "      <td>0.0</td>\n",
       "      <td>0</td>\n",
       "      <td>1.0</td>\n",
       "    </tr>\n",
       "    <tr>\n",
       "      <th>...</th>\n",
       "      <td>...</td>\n",
       "      <td>...</td>\n",
       "      <td>...</td>\n",
       "      <td>...</td>\n",
       "      <td>...</td>\n",
       "      <td>...</td>\n",
       "      <td>...</td>\n",
       "      <td>...</td>\n",
       "      <td>...</td>\n",
       "      <td>...</td>\n",
       "      <td>...</td>\n",
       "      <td>...</td>\n",
       "      <td>...</td>\n",
       "      <td>...</td>\n",
       "      <td>...</td>\n",
       "    </tr>\n",
       "    <tr>\n",
       "      <th>1916</th>\n",
       "      <td>3.0</td>\n",
       "      <td>3</td>\n",
       "      <td>1</td>\n",
       "      <td>1</td>\n",
       "      <td>3.08</td>\n",
       "      <td>23</td>\n",
       "      <td>1</td>\n",
       "      <td>2744</td>\n",
       "      <td>3.0</td>\n",
       "      <td>1</td>\n",
       "      <td>2.0</td>\n",
       "      <td>131.408528</td>\n",
       "      <td>0.0</td>\n",
       "      <td>1</td>\n",
       "      <td>0.0</td>\n",
       "    </tr>\n",
       "    <tr>\n",
       "      <th>1917</th>\n",
       "      <td>3.0</td>\n",
       "      <td>3</td>\n",
       "      <td>1</td>\n",
       "      <td>1</td>\n",
       "      <td>3.00</td>\n",
       "      <td>23</td>\n",
       "      <td>1</td>\n",
       "      <td>2977</td>\n",
       "      <td>3.0</td>\n",
       "      <td>1</td>\n",
       "      <td>2.0</td>\n",
       "      <td>133.742943</td>\n",
       "      <td>0.0</td>\n",
       "      <td>1</td>\n",
       "      <td>0.0</td>\n",
       "    </tr>\n",
       "    <tr>\n",
       "      <th>1918</th>\n",
       "      <td>3.0</td>\n",
       "      <td>3</td>\n",
       "      <td>1</td>\n",
       "      <td>1</td>\n",
       "      <td>3.26</td>\n",
       "      <td>23</td>\n",
       "      <td>1</td>\n",
       "      <td>2422</td>\n",
       "      <td>3.0</td>\n",
       "      <td>1</td>\n",
       "      <td>2.0</td>\n",
       "      <td>133.689352</td>\n",
       "      <td>0.0</td>\n",
       "      <td>1</td>\n",
       "      <td>0.0</td>\n",
       "    </tr>\n",
       "    <tr>\n",
       "      <th>1919</th>\n",
       "      <td>3.0</td>\n",
       "      <td>3</td>\n",
       "      <td>1</td>\n",
       "      <td>1</td>\n",
       "      <td>3.61</td>\n",
       "      <td>23</td>\n",
       "      <td>1</td>\n",
       "      <td>2372</td>\n",
       "      <td>3.0</td>\n",
       "      <td>1</td>\n",
       "      <td>2.0</td>\n",
       "      <td>133.346641</td>\n",
       "      <td>0.0</td>\n",
       "      <td>1</td>\n",
       "      <td>0.0</td>\n",
       "    </tr>\n",
       "    <tr>\n",
       "      <th>1920</th>\n",
       "      <td>3.0</td>\n",
       "      <td>3</td>\n",
       "      <td>1</td>\n",
       "      <td>1</td>\n",
       "      <td>3.83</td>\n",
       "      <td>23</td>\n",
       "      <td>1</td>\n",
       "      <td>2336</td>\n",
       "      <td>3.0</td>\n",
       "      <td>1</td>\n",
       "      <td>2.0</td>\n",
       "      <td>133.472641</td>\n",
       "      <td>0.0</td>\n",
       "      <td>1</td>\n",
       "      <td>0.0</td>\n",
       "    </tr>\n",
       "  </tbody>\n",
       "</table>\n",
       "<p>1920 rows × 15 columns</p>\n",
       "</div>"
      ],
      "text/plain": [
       "     Transportation Regular_fiber_diet  Diagnostic_in_family_history  \\\n",
       "0               3.0                  2                             1   \n",
       "1               3.0                  3                             1   \n",
       "2               3.0                  2                             1   \n",
       "3               4.0                  3                             0   \n",
       "4               3.0                  2                             0   \n",
       "...             ...                ...                           ...   \n",
       "1916            3.0                  3                             1   \n",
       "1917            3.0                  3                             1   \n",
       "1918            3.0                  3                             1   \n",
       "1919            3.0                  3                             1   \n",
       "1920            3.0                  3                             1   \n",
       "\n",
       "      High_calorie_diet  Sedentary_hours_daily  Age  Alcohol  \\\n",
       "0                     0                   3.73   21        0   \n",
       "1                     0                   2.92   21        1   \n",
       "2                     0                   3.85   23        2   \n",
       "3                     0                   3.01   27        2   \n",
       "4                     0                   2.73   22        1   \n",
       "...                 ...                    ...  ...      ...   \n",
       "1916                  1                   3.08   23        1   \n",
       "1917                  1                   3.00   23        1   \n",
       "1918                  1                   3.26   23        1   \n",
       "1919                  1                   3.61   23        1   \n",
       "1920                  1                   3.83   23        1   \n",
       "\n",
       "      Est_avg_calorie_intake  Main_meals_daily  Snacks  Water_daily  \\\n",
       "0                       2474               3.0       1          2.0   \n",
       "1                       2429               3.0       1          3.0   \n",
       "2                       2656               3.0       1          2.0   \n",
       "3                       2260               3.0       1          2.0   \n",
       "4                       1895               1.0       1          2.0   \n",
       "...                      ...               ...     ...          ...   \n",
       "1916                    2744               3.0       1          2.0   \n",
       "1917                    2977               3.0       1          2.0   \n",
       "1918                    2422               3.0       1          2.0   \n",
       "1919                    2372               3.0       1          2.0   \n",
       "1920                    2336               3.0       1          2.0   \n",
       "\n",
       "          Weight  Physical_activity_level  Technology_time_use Gender  \n",
       "0      64.000000                      0.0                    1    0.0  \n",
       "1      56.000000                      3.0                    0    0.0  \n",
       "2      77.000000                      2.0                    1    1.0  \n",
       "3      71.700000                      2.0                    0    1.0  \n",
       "4      89.800000                      0.0                    0    1.0  \n",
       "...          ...                      ...                  ...    ...  \n",
       "1916  131.408528                      0.0                    1    0.0  \n",
       "1917  133.742943                      0.0                    1    0.0  \n",
       "1918  133.689352                      0.0                    1    0.0  \n",
       "1919  133.346641                      0.0                    1    0.0  \n",
       "1920  133.472641                      0.0                    1    0.0  \n",
       "\n",
       "[1920 rows x 15 columns]"
      ]
     },
     "execution_count": 125,
     "metadata": {},
     "output_type": "execute_result"
    }
   ],
   "source": [
    "new_dataset"
   ]
  },
  {
   "cell_type": "code",
   "execution_count": 126,
   "id": "90c59d7b",
   "metadata": {},
   "outputs": [
    {
     "data": {
      "text/plain": [
       "(array([[ 0.49642675,  1.44037316, -2.1850483 , ..., -0.50287565,\n",
       "         -1.00245883, -1.01310672],\n",
       "        [-1.88394209,  1.44037316,  0.45765579, ...,  0.73101732,\n",
       "         -1.00245883,  0.98706284],\n",
       "        [-1.88394209,  1.44037316,  0.45765579, ...,  0.73101732,\n",
       "          0.4738372 , -1.01310672],\n",
       "        ...,\n",
       "        [-1.88394209, -0.6176856 ,  0.45765579, ..., -0.50287565,\n",
       "          0.4738372 , -1.01310672],\n",
       "        [ 0.49642675, -0.6176856 ,  0.45765579, ..., -0.50287565,\n",
       "          0.4738372 ,  0.98706284],\n",
       "        [-1.88394209, -0.6176856 ,  0.45765579, ..., -0.50287565,\n",
       "         -1.00245883,  0.98706284]]),\n",
       " array([0, 1, 1, ..., 2, 5, 4], dtype=int64))"
      ]
     },
     "execution_count": 126,
     "metadata": {},
     "output_type": "execute_result"
    }
   ],
   "source": [
    "standardized_features=StandardScaler().fit_transform(train_val_features)\n",
    "standardized_features,train_val_y"
   ]
  },
  {
   "cell_type": "code",
   "execution_count": 142,
   "id": "a43d29af",
   "metadata": {},
   "outputs": [
    {
     "data": {
      "text/plain": [
       "array([[-1.74027285,  1.45561846,  0.52107886, ..., -0.45998491,\n",
       "        -0.92652381, -1.03714786],\n",
       "       [ 0.55880321, -0.56958983,  0.52107886, ..., -0.45998491,\n",
       "        -0.92652381,  0.96418268],\n",
       "       [ 0.55880321, -0.56958983,  0.52107886, ..., -0.45998491,\n",
       "        -0.92652381, -1.03714786],\n",
       "       ...,\n",
       "       [ 0.55880321, -0.56958983, -1.91909532, ...,  0.95308873,\n",
       "        -0.92652381,  0.96418268],\n",
       "       [ 0.55880321, -0.56958983, -1.91909532, ..., -0.45998491,\n",
       "         0.58104035,  0.96418268],\n",
       "       [ 0.55880321, -0.56958983,  0.52107886, ..., -0.45998491,\n",
       "        -0.92652381,  0.96418268]])"
      ]
     },
     "execution_count": 142,
     "metadata": {},
     "output_type": "execute_result"
    }
   ],
   "source": [
    "standardized_test_features=StandardScaler().fit_transform(test_features)\n",
    "standardized_test_features"
   ]
  },
  {
   "cell_type": "code",
   "execution_count": 177,
   "id": "7bdce055",
   "metadata": {},
   "outputs": [
    {
     "name": "stderr",
     "output_type": "stream",
     "text": [
      "F:\\Anaconda_folder\\lib\\site-packages\\sklearn\\metrics\\_classification.py:1469: UndefinedMetricWarning: Precision is ill-defined and being set to 0.0 in labels with no predicted samples. Use `zero_division` parameter to control this behavior.\n",
      "  _warn_prf(average, modifier, msg_start, len(result))\n"
     ]
    },
    {
     "data": {
      "text/html": [
       "<style>#sk-container-id-7 {color: black;}#sk-container-id-7 pre{padding: 0;}#sk-container-id-7 div.sk-toggleable {background-color: white;}#sk-container-id-7 label.sk-toggleable__label {cursor: pointer;display: block;width: 100%;margin-bottom: 0;padding: 0.3em;box-sizing: border-box;text-align: center;}#sk-container-id-7 label.sk-toggleable__label-arrow:before {content: \"▸\";float: left;margin-right: 0.25em;color: #696969;}#sk-container-id-7 label.sk-toggleable__label-arrow:hover:before {color: black;}#sk-container-id-7 div.sk-estimator:hover label.sk-toggleable__label-arrow:before {color: black;}#sk-container-id-7 div.sk-toggleable__content {max-height: 0;max-width: 0;overflow: hidden;text-align: left;background-color: #f0f8ff;}#sk-container-id-7 div.sk-toggleable__content pre {margin: 0.2em;color: black;border-radius: 0.25em;background-color: #f0f8ff;}#sk-container-id-7 input.sk-toggleable__control:checked~div.sk-toggleable__content {max-height: 200px;max-width: 100%;overflow: auto;}#sk-container-id-7 input.sk-toggleable__control:checked~label.sk-toggleable__label-arrow:before {content: \"▾\";}#sk-container-id-7 div.sk-estimator input.sk-toggleable__control:checked~label.sk-toggleable__label {background-color: #d4ebff;}#sk-container-id-7 div.sk-label input.sk-toggleable__control:checked~label.sk-toggleable__label {background-color: #d4ebff;}#sk-container-id-7 input.sk-hidden--visually {border: 0;clip: rect(1px 1px 1px 1px);clip: rect(1px, 1px, 1px, 1px);height: 1px;margin: -1px;overflow: hidden;padding: 0;position: absolute;width: 1px;}#sk-container-id-7 div.sk-estimator {font-family: monospace;background-color: #f0f8ff;border: 1px dotted black;border-radius: 0.25em;box-sizing: border-box;margin-bottom: 0.5em;}#sk-container-id-7 div.sk-estimator:hover {background-color: #d4ebff;}#sk-container-id-7 div.sk-parallel-item::after {content: \"\";width: 100%;border-bottom: 1px solid gray;flex-grow: 1;}#sk-container-id-7 div.sk-label:hover label.sk-toggleable__label {background-color: #d4ebff;}#sk-container-id-7 div.sk-serial::before {content: \"\";position: absolute;border-left: 1px solid gray;box-sizing: border-box;top: 0;bottom: 0;left: 50%;z-index: 0;}#sk-container-id-7 div.sk-serial {display: flex;flex-direction: column;align-items: center;background-color: white;padding-right: 0.2em;padding-left: 0.2em;position: relative;}#sk-container-id-7 div.sk-item {position: relative;z-index: 1;}#sk-container-id-7 div.sk-parallel {display: flex;align-items: stretch;justify-content: center;background-color: white;position: relative;}#sk-container-id-7 div.sk-item::before, #sk-container-id-7 div.sk-parallel-item::before {content: \"\";position: absolute;border-left: 1px solid gray;box-sizing: border-box;top: 0;bottom: 0;left: 50%;z-index: -1;}#sk-container-id-7 div.sk-parallel-item {display: flex;flex-direction: column;z-index: 1;position: relative;background-color: white;}#sk-container-id-7 div.sk-parallel-item:first-child::after {align-self: flex-end;width: 50%;}#sk-container-id-7 div.sk-parallel-item:last-child::after {align-self: flex-start;width: 50%;}#sk-container-id-7 div.sk-parallel-item:only-child::after {width: 0;}#sk-container-id-7 div.sk-dashed-wrapped {border: 1px dashed gray;margin: 0 0.4em 0.5em 0.4em;box-sizing: border-box;padding-bottom: 0.4em;background-color: white;}#sk-container-id-7 div.sk-label label {font-family: monospace;font-weight: bold;display: inline-block;line-height: 1.2em;}#sk-container-id-7 div.sk-label-container {text-align: center;}#sk-container-id-7 div.sk-container {/* jupyter's `normalize.less` sets `[hidden] { display: none; }` but bootstrap.min.css set `[hidden] { display: none !important; }` so we also need the `!important` here to be able to override the default hidden behavior on the sphinx rendered scikit-learn.org. See: https://github.com/scikit-learn/scikit-learn/issues/21755 */display: inline-block !important;position: relative;}#sk-container-id-7 div.sk-text-repr-fallback {display: none;}</style><div id=\"sk-container-id-7\" class=\"sk-top-container\"><div class=\"sk-text-repr-fallback\"><pre>GridSearchCV(estimator=SVC(random_state=42),\n",
       "             param_grid={&#x27;C&#x27;: [0.1, 0.2, 0.30000000000000004, 0.4, 0.5, 0.6,\n",
       "                               0.7000000000000001, 0.8, 0.9, 1.0, 1.1,\n",
       "                               1.2000000000000002, 1.3000000000000003,\n",
       "                               1.4000000000000001],\n",
       "                         &#x27;kernel&#x27;: [&#x27;linear&#x27;, &#x27;rbf&#x27;, &#x27;poly&#x27;, &#x27;sigmoid&#x27;]},\n",
       "             refit=False, return_train_score=True,\n",
       "             scoring=[&#x27;accuracy&#x27;, &#x27;f1_macro&#x27;, &#x27;precision_macro&#x27;,\n",
       "                      &#x27;recall_macro&#x27;])</pre><b>In a Jupyter environment, please rerun this cell to show the HTML representation or trust the notebook. <br />On GitHub, the HTML representation is unable to render, please try loading this page with nbviewer.org.</b></div><div class=\"sk-container\" hidden><div class=\"sk-item sk-dashed-wrapped\"><div class=\"sk-label-container\"><div class=\"sk-label sk-toggleable\"><input class=\"sk-toggleable__control sk-hidden--visually\" id=\"sk-estimator-id-19\" type=\"checkbox\" ><label for=\"sk-estimator-id-19\" class=\"sk-toggleable__label sk-toggleable__label-arrow\">GridSearchCV</label><div class=\"sk-toggleable__content\"><pre>GridSearchCV(estimator=SVC(random_state=42),\n",
       "             param_grid={&#x27;C&#x27;: [0.1, 0.2, 0.30000000000000004, 0.4, 0.5, 0.6,\n",
       "                               0.7000000000000001, 0.8, 0.9, 1.0, 1.1,\n",
       "                               1.2000000000000002, 1.3000000000000003,\n",
       "                               1.4000000000000001],\n",
       "                         &#x27;kernel&#x27;: [&#x27;linear&#x27;, &#x27;rbf&#x27;, &#x27;poly&#x27;, &#x27;sigmoid&#x27;]},\n",
       "             refit=False, return_train_score=True,\n",
       "             scoring=[&#x27;accuracy&#x27;, &#x27;f1_macro&#x27;, &#x27;precision_macro&#x27;,\n",
       "                      &#x27;recall_macro&#x27;])</pre></div></div></div><div class=\"sk-parallel\"><div class=\"sk-parallel-item\"><div class=\"sk-item\"><div class=\"sk-label-container\"><div class=\"sk-label sk-toggleable\"><input class=\"sk-toggleable__control sk-hidden--visually\" id=\"sk-estimator-id-20\" type=\"checkbox\" ><label for=\"sk-estimator-id-20\" class=\"sk-toggleable__label sk-toggleable__label-arrow\">estimator: SVC</label><div class=\"sk-toggleable__content\"><pre>SVC(random_state=42)</pre></div></div></div><div class=\"sk-serial\"><div class=\"sk-item\"><div class=\"sk-estimator sk-toggleable\"><input class=\"sk-toggleable__control sk-hidden--visually\" id=\"sk-estimator-id-21\" type=\"checkbox\" ><label for=\"sk-estimator-id-21\" class=\"sk-toggleable__label sk-toggleable__label-arrow\">SVC</label><div class=\"sk-toggleable__content\"><pre>SVC(random_state=42)</pre></div></div></div></div></div></div></div></div></div></div>"
      ],
      "text/plain": [
       "GridSearchCV(estimator=SVC(random_state=42),\n",
       "             param_grid={'C': [0.1, 0.2, 0.30000000000000004, 0.4, 0.5, 0.6,\n",
       "                               0.7000000000000001, 0.8, 0.9, 1.0, 1.1,\n",
       "                               1.2000000000000002, 1.3000000000000003,\n",
       "                               1.4000000000000001],\n",
       "                         'kernel': ['linear', 'rbf', 'poly', 'sigmoid']},\n",
       "             refit=False, return_train_score=True,\n",
       "             scoring=['accuracy', 'f1_macro', 'precision_macro',\n",
       "                      'recall_macro'])"
      ]
     },
     "execution_count": 177,
     "metadata": {},
     "output_type": "execute_result"
    }
   ],
   "source": [
    "svm_class=SVC(random_state=42)\n",
    "param_dict={\n",
    "    'C':list(np.arange(0.1,1.5,0.1)),\n",
    "    'kernel':['linear','rbf','poly','sigmoid']\n",
    "}\n",
    "grid_SVM=GridSearchCV(svm_class,param_grid=param_dict,scoring=['accuracy','f1_macro','precision_macro','recall_macro'],refit=False,return_train_score=True)\n",
    "grid_SVM.fit(standardized_features,train_val_y)"
   ]
  },
  {
   "cell_type": "code",
   "execution_count": 178,
   "id": "65ba6118",
   "metadata": {},
   "outputs": [
    {
     "data": {
      "text/html": [
       "<div>\n",
       "<style scoped>\n",
       "    .dataframe tbody tr th:only-of-type {\n",
       "        vertical-align: middle;\n",
       "    }\n",
       "\n",
       "    .dataframe tbody tr th {\n",
       "        vertical-align: top;\n",
       "    }\n",
       "\n",
       "    .dataframe thead th {\n",
       "        text-align: right;\n",
       "    }\n",
       "</style>\n",
       "<table border=\"1\" class=\"dataframe\">\n",
       "  <thead>\n",
       "    <tr style=\"text-align: right;\">\n",
       "      <th></th>\n",
       "      <th>params</th>\n",
       "      <th>mean_test_accuracy</th>\n",
       "      <th>std_test_accuracy</th>\n",
       "      <th>mean_test_f1_macro</th>\n",
       "      <th>std_test_f1_macro</th>\n",
       "      <th>mean_test_recall_macro</th>\n",
       "      <th>std_test_recall_macro</th>\n",
       "      <th>mean_test_precision_macro</th>\n",
       "      <th>std_test_precision_macro</th>\n",
       "    </tr>\n",
       "  </thead>\n",
       "  <tbody>\n",
       "    <tr>\n",
       "      <th>0</th>\n",
       "      <td>{'C': 0.1, 'kernel': 'linear'}</td>\n",
       "      <td>0.695328</td>\n",
       "      <td>0.029655</td>\n",
       "      <td>0.683906</td>\n",
       "      <td>0.032502</td>\n",
       "      <td>0.693294</td>\n",
       "      <td>0.030358</td>\n",
       "      <td>0.695192</td>\n",
       "      <td>0.033622</td>\n",
       "    </tr>\n",
       "    <tr>\n",
       "      <th>1</th>\n",
       "      <td>{'C': 0.1, 'kernel': 'rbf'}</td>\n",
       "      <td>0.620464</td>\n",
       "      <td>0.021148</td>\n",
       "      <td>0.596664</td>\n",
       "      <td>0.022106</td>\n",
       "      <td>0.615792</td>\n",
       "      <td>0.021064</td>\n",
       "      <td>0.657735</td>\n",
       "      <td>0.030955</td>\n",
       "    </tr>\n",
       "    <tr>\n",
       "      <th>2</th>\n",
       "      <td>{'C': 0.1, 'kernel': 'poly'}</td>\n",
       "      <td>0.476564</td>\n",
       "      <td>0.020485</td>\n",
       "      <td>0.442577</td>\n",
       "      <td>0.020589</td>\n",
       "      <td>0.456377</td>\n",
       "      <td>0.020123</td>\n",
       "      <td>0.622949</td>\n",
       "      <td>0.067397</td>\n",
       "    </tr>\n",
       "    <tr>\n",
       "      <th>3</th>\n",
       "      <td>{'C': 0.1, 'kernel': 'sigmoid'}</td>\n",
       "      <td>0.552750</td>\n",
       "      <td>0.018781</td>\n",
       "      <td>0.523108</td>\n",
       "      <td>0.022351</td>\n",
       "      <td>0.545805</td>\n",
       "      <td>0.018722</td>\n",
       "      <td>0.553722</td>\n",
       "      <td>0.041579</td>\n",
       "    </tr>\n",
       "    <tr>\n",
       "      <th>4</th>\n",
       "      <td>{'C': 0.2, 'kernel': 'linear'}</td>\n",
       "      <td>0.708994</td>\n",
       "      <td>0.022869</td>\n",
       "      <td>0.700979</td>\n",
       "      <td>0.025177</td>\n",
       "      <td>0.707543</td>\n",
       "      <td>0.024024</td>\n",
       "      <td>0.710019</td>\n",
       "      <td>0.026383</td>\n",
       "    </tr>\n",
       "    <tr>\n",
       "      <th>5</th>\n",
       "      <td>{'C': 0.2, 'kernel': 'rbf'}</td>\n",
       "      <td>0.648447</td>\n",
       "      <td>0.021824</td>\n",
       "      <td>0.635099</td>\n",
       "      <td>0.025377</td>\n",
       "      <td>0.645044</td>\n",
       "      <td>0.022296</td>\n",
       "      <td>0.656938</td>\n",
       "      <td>0.025113</td>\n",
       "    </tr>\n",
       "    <tr>\n",
       "      <th>6</th>\n",
       "      <td>{'C': 0.2, 'kernel': 'poly'}</td>\n",
       "      <td>0.576837</td>\n",
       "      <td>0.022937</td>\n",
       "      <td>0.572216</td>\n",
       "      <td>0.020981</td>\n",
       "      <td>0.566025</td>\n",
       "      <td>0.023618</td>\n",
       "      <td>0.681741</td>\n",
       "      <td>0.024214</td>\n",
       "    </tr>\n",
       "    <tr>\n",
       "      <th>7</th>\n",
       "      <td>{'C': 0.2, 'kernel': 'sigmoid'}</td>\n",
       "      <td>0.574883</td>\n",
       "      <td>0.024535</td>\n",
       "      <td>0.552298</td>\n",
       "      <td>0.023397</td>\n",
       "      <td>0.567605</td>\n",
       "      <td>0.023526</td>\n",
       "      <td>0.567038</td>\n",
       "      <td>0.028776</td>\n",
       "    </tr>\n",
       "    <tr>\n",
       "      <th>8</th>\n",
       "      <td>{'C': 0.30000000000000004, 'kernel': 'linear'}</td>\n",
       "      <td>0.718104</td>\n",
       "      <td>0.022562</td>\n",
       "      <td>0.709323</td>\n",
       "      <td>0.025615</td>\n",
       "      <td>0.717038</td>\n",
       "      <td>0.023477</td>\n",
       "      <td>0.717466</td>\n",
       "      <td>0.026742</td>\n",
       "    </tr>\n",
       "    <tr>\n",
       "      <th>9</th>\n",
       "      <td>{'C': 0.30000000000000004, 'kernel': 'rbf'}</td>\n",
       "      <td>0.681645</td>\n",
       "      <td>0.022353</td>\n",
       "      <td>0.675877</td>\n",
       "      <td>0.023309</td>\n",
       "      <td>0.680415</td>\n",
       "      <td>0.022418</td>\n",
       "      <td>0.690451</td>\n",
       "      <td>0.024761</td>\n",
       "    </tr>\n",
       "    <tr>\n",
       "      <th>10</th>\n",
       "      <td>{'C': 0.30000000000000004, 'kernel': 'poly'}</td>\n",
       "      <td>0.595067</td>\n",
       "      <td>0.015880</td>\n",
       "      <td>0.590843</td>\n",
       "      <td>0.014578</td>\n",
       "      <td>0.587632</td>\n",
       "      <td>0.015298</td>\n",
       "      <td>0.665356</td>\n",
       "      <td>0.013580</td>\n",
       "    </tr>\n",
       "    <tr>\n",
       "      <th>11</th>\n",
       "      <td>{'C': 0.30000000000000004, 'kernel': 'sigmoid'}</td>\n",
       "      <td>0.597663</td>\n",
       "      <td>0.025835</td>\n",
       "      <td>0.580726</td>\n",
       "      <td>0.026793</td>\n",
       "      <td>0.590842</td>\n",
       "      <td>0.025675</td>\n",
       "      <td>0.595269</td>\n",
       "      <td>0.033528</td>\n",
       "    </tr>\n",
       "    <tr>\n",
       "      <th>12</th>\n",
       "      <td>{'C': 0.4, 'kernel': 'linear'}</td>\n",
       "      <td>0.717454</td>\n",
       "      <td>0.017781</td>\n",
       "      <td>0.710958</td>\n",
       "      <td>0.017753</td>\n",
       "      <td>0.716408</td>\n",
       "      <td>0.018868</td>\n",
       "      <td>0.716710</td>\n",
       "      <td>0.021208</td>\n",
       "    </tr>\n",
       "    <tr>\n",
       "      <th>13</th>\n",
       "      <td>{'C': 0.4, 'kernel': 'rbf'}</td>\n",
       "      <td>0.700522</td>\n",
       "      <td>0.021083</td>\n",
       "      <td>0.696642</td>\n",
       "      <td>0.020534</td>\n",
       "      <td>0.700928</td>\n",
       "      <td>0.020805</td>\n",
       "      <td>0.708058</td>\n",
       "      <td>0.023847</td>\n",
       "    </tr>\n",
       "    <tr>\n",
       "      <th>14</th>\n",
       "      <td>{'C': 0.4, 'kernel': 'poly'}</td>\n",
       "      <td>0.616549</td>\n",
       "      <td>0.023756</td>\n",
       "      <td>0.613002</td>\n",
       "      <td>0.021874</td>\n",
       "      <td>0.609844</td>\n",
       "      <td>0.022882</td>\n",
       "      <td>0.666555</td>\n",
       "      <td>0.019582</td>\n",
       "    </tr>\n",
       "    <tr>\n",
       "      <th>15</th>\n",
       "      <td>{'C': 0.4, 'kernel': 'sigmoid'}</td>\n",
       "      <td>0.600905</td>\n",
       "      <td>0.023907</td>\n",
       "      <td>0.584872</td>\n",
       "      <td>0.024447</td>\n",
       "      <td>0.594253</td>\n",
       "      <td>0.023200</td>\n",
       "      <td>0.597234</td>\n",
       "      <td>0.032464</td>\n",
       "    </tr>\n",
       "    <tr>\n",
       "      <th>16</th>\n",
       "      <td>{'C': 0.5, 'kernel': 'linear'}</td>\n",
       "      <td>0.719404</td>\n",
       "      <td>0.022466</td>\n",
       "      <td>0.714872</td>\n",
       "      <td>0.024248</td>\n",
       "      <td>0.718354</td>\n",
       "      <td>0.023518</td>\n",
       "      <td>0.719809</td>\n",
       "      <td>0.026400</td>\n",
       "    </tr>\n",
       "    <tr>\n",
       "      <th>17</th>\n",
       "      <td>{'C': 0.5, 'kernel': 'rbf'}</td>\n",
       "      <td>0.707031</td>\n",
       "      <td>0.019871</td>\n",
       "      <td>0.703100</td>\n",
       "      <td>0.019671</td>\n",
       "      <td>0.708021</td>\n",
       "      <td>0.019634</td>\n",
       "      <td>0.710841</td>\n",
       "      <td>0.020820</td>\n",
       "    </tr>\n",
       "    <tr>\n",
       "      <th>18</th>\n",
       "      <td>{'C': 0.5, 'kernel': 'poly'}</td>\n",
       "      <td>0.626306</td>\n",
       "      <td>0.017915</td>\n",
       "      <td>0.623698</td>\n",
       "      <td>0.016256</td>\n",
       "      <td>0.619800</td>\n",
       "      <td>0.017584</td>\n",
       "      <td>0.669451</td>\n",
       "      <td>0.015974</td>\n",
       "    </tr>\n",
       "    <tr>\n",
       "      <th>19</th>\n",
       "      <td>{'C': 0.5, 'kernel': 'sigmoid'}</td>\n",
       "      <td>0.599611</td>\n",
       "      <td>0.031084</td>\n",
       "      <td>0.584793</td>\n",
       "      <td>0.034038</td>\n",
       "      <td>0.591978</td>\n",
       "      <td>0.031038</td>\n",
       "      <td>0.595488</td>\n",
       "      <td>0.043836</td>\n",
       "    </tr>\n",
       "    <tr>\n",
       "      <th>20</th>\n",
       "      <td>{'C': 0.6, 'kernel': 'linear'}</td>\n",
       "      <td>0.720714</td>\n",
       "      <td>0.021986</td>\n",
       "      <td>0.716772</td>\n",
       "      <td>0.023726</td>\n",
       "      <td>0.720086</td>\n",
       "      <td>0.022652</td>\n",
       "      <td>0.721017</td>\n",
       "      <td>0.026217</td>\n",
       "    </tr>\n",
       "    <tr>\n",
       "      <th>21</th>\n",
       "      <td>{'C': 0.6, 'kernel': 'rbf'}</td>\n",
       "      <td>0.712234</td>\n",
       "      <td>0.020735</td>\n",
       "      <td>0.708693</td>\n",
       "      <td>0.020393</td>\n",
       "      <td>0.713830</td>\n",
       "      <td>0.020367</td>\n",
       "      <td>0.715255</td>\n",
       "      <td>0.020558</td>\n",
       "    </tr>\n",
       "    <tr>\n",
       "      <th>22</th>\n",
       "      <td>{'C': 0.6, 'kernel': 'poly'}</td>\n",
       "      <td>0.644537</td>\n",
       "      <td>0.015476</td>\n",
       "      <td>0.643596</td>\n",
       "      <td>0.015247</td>\n",
       "      <td>0.639155</td>\n",
       "      <td>0.015483</td>\n",
       "      <td>0.680288</td>\n",
       "      <td>0.019210</td>\n",
       "    </tr>\n",
       "    <tr>\n",
       "      <th>23</th>\n",
       "      <td>{'C': 0.6, 'kernel': 'sigmoid'}</td>\n",
       "      <td>0.602215</td>\n",
       "      <td>0.025075</td>\n",
       "      <td>0.589453</td>\n",
       "      <td>0.029478</td>\n",
       "      <td>0.595069</td>\n",
       "      <td>0.025697</td>\n",
       "      <td>0.597507</td>\n",
       "      <td>0.034316</td>\n",
       "    </tr>\n",
       "    <tr>\n",
       "      <th>24</th>\n",
       "      <td>{'C': 0.7000000000000001, 'kernel': 'linear'}</td>\n",
       "      <td>0.723322</td>\n",
       "      <td>0.021305</td>\n",
       "      <td>0.719303</td>\n",
       "      <td>0.022465</td>\n",
       "      <td>0.722636</td>\n",
       "      <td>0.021697</td>\n",
       "      <td>0.724079</td>\n",
       "      <td>0.025280</td>\n",
       "    </tr>\n",
       "    <tr>\n",
       "      <th>25</th>\n",
       "      <td>{'C': 0.7000000000000001, 'kernel': 'rbf'}</td>\n",
       "      <td>0.719392</td>\n",
       "      <td>0.024073</td>\n",
       "      <td>0.716221</td>\n",
       "      <td>0.023608</td>\n",
       "      <td>0.720901</td>\n",
       "      <td>0.024412</td>\n",
       "      <td>0.722776</td>\n",
       "      <td>0.022467</td>\n",
       "    </tr>\n",
       "    <tr>\n",
       "      <th>26</th>\n",
       "      <td>{'C': 0.7000000000000001, 'kernel': 'poly'}</td>\n",
       "      <td>0.653649</td>\n",
       "      <td>0.011111</td>\n",
       "      <td>0.653447</td>\n",
       "      <td>0.012057</td>\n",
       "      <td>0.648841</td>\n",
       "      <td>0.011701</td>\n",
       "      <td>0.683980</td>\n",
       "      <td>0.015238</td>\n",
       "    </tr>\n",
       "    <tr>\n",
       "      <th>27</th>\n",
       "      <td>{'C': 0.7000000000000001, 'kernel': 'sigmoid'}</td>\n",
       "      <td>0.598310</td>\n",
       "      <td>0.022849</td>\n",
       "      <td>0.584739</td>\n",
       "      <td>0.026343</td>\n",
       "      <td>0.590846</td>\n",
       "      <td>0.023652</td>\n",
       "      <td>0.592338</td>\n",
       "      <td>0.031128</td>\n",
       "    </tr>\n",
       "    <tr>\n",
       "      <th>28</th>\n",
       "      <td>{'C': 0.8, 'kernel': 'linear'}</td>\n",
       "      <td>0.721367</td>\n",
       "      <td>0.020156</td>\n",
       "      <td>0.717353</td>\n",
       "      <td>0.021407</td>\n",
       "      <td>0.720735</td>\n",
       "      <td>0.020741</td>\n",
       "      <td>0.722581</td>\n",
       "      <td>0.024237</td>\n",
       "    </tr>\n",
       "    <tr>\n",
       "      <th>29</th>\n",
       "      <td>{'C': 0.8, 'kernel': 'rbf'}</td>\n",
       "      <td>0.723292</td>\n",
       "      <td>0.024532</td>\n",
       "      <td>0.720385</td>\n",
       "      <td>0.024076</td>\n",
       "      <td>0.724752</td>\n",
       "      <td>0.025236</td>\n",
       "      <td>0.725673</td>\n",
       "      <td>0.022072</td>\n",
       "    </tr>\n",
       "    <tr>\n",
       "      <th>30</th>\n",
       "      <td>{'C': 0.8, 'kernel': 'poly'}</td>\n",
       "      <td>0.662118</td>\n",
       "      <td>0.014120</td>\n",
       "      <td>0.660835</td>\n",
       "      <td>0.014541</td>\n",
       "      <td>0.657557</td>\n",
       "      <td>0.015323</td>\n",
       "      <td>0.688292</td>\n",
       "      <td>0.015084</td>\n",
       "    </tr>\n",
       "    <tr>\n",
       "      <th>31</th>\n",
       "      <td>{'C': 0.8, 'kernel': 'sigmoid'}</td>\n",
       "      <td>0.595715</td>\n",
       "      <td>0.027870</td>\n",
       "      <td>0.581385</td>\n",
       "      <td>0.028911</td>\n",
       "      <td>0.588355</td>\n",
       "      <td>0.028337</td>\n",
       "      <td>0.586487</td>\n",
       "      <td>0.030006</td>\n",
       "    </tr>\n",
       "    <tr>\n",
       "      <th>32</th>\n",
       "      <td>{'C': 0.9, 'kernel': 'linear'}</td>\n",
       "      <td>0.721363</td>\n",
       "      <td>0.020222</td>\n",
       "      <td>0.717720</td>\n",
       "      <td>0.021366</td>\n",
       "      <td>0.720907</td>\n",
       "      <td>0.020590</td>\n",
       "      <td>0.722625</td>\n",
       "      <td>0.023747</td>\n",
       "    </tr>\n",
       "    <tr>\n",
       "      <th>33</th>\n",
       "      <td>{'C': 0.9, 'kernel': 'rbf'}</td>\n",
       "      <td>0.726545</td>\n",
       "      <td>0.022755</td>\n",
       "      <td>0.724225</td>\n",
       "      <td>0.022151</td>\n",
       "      <td>0.727912</td>\n",
       "      <td>0.022868</td>\n",
       "      <td>0.729372</td>\n",
       "      <td>0.020860</td>\n",
       "    </tr>\n",
       "    <tr>\n",
       "      <th>34</th>\n",
       "      <td>{'C': 0.9, 'kernel': 'poly'}</td>\n",
       "      <td>0.666029</td>\n",
       "      <td>0.015469</td>\n",
       "      <td>0.663945</td>\n",
       "      <td>0.016360</td>\n",
       "      <td>0.662014</td>\n",
       "      <td>0.016758</td>\n",
       "      <td>0.686423</td>\n",
       "      <td>0.015983</td>\n",
       "    </tr>\n",
       "    <tr>\n",
       "      <th>35</th>\n",
       "      <td>{'C': 0.9, 'kernel': 'sigmoid'}</td>\n",
       "      <td>0.583335</td>\n",
       "      <td>0.012472</td>\n",
       "      <td>0.569533</td>\n",
       "      <td>0.011839</td>\n",
       "      <td>0.576615</td>\n",
       "      <td>0.011703</td>\n",
       "      <td>0.572801</td>\n",
       "      <td>0.012514</td>\n",
       "    </tr>\n",
       "    <tr>\n",
       "      <th>36</th>\n",
       "      <td>{'C': 1.0, 'kernel': 'linear'}</td>\n",
       "      <td>0.722014</td>\n",
       "      <td>0.020215</td>\n",
       "      <td>0.718191</td>\n",
       "      <td>0.021273</td>\n",
       "      <td>0.721588</td>\n",
       "      <td>0.020512</td>\n",
       "      <td>0.722540</td>\n",
       "      <td>0.023762</td>\n",
       "    </tr>\n",
       "    <tr>\n",
       "      <th>37</th>\n",
       "      <td>{'C': 1.0, 'kernel': 'rbf'}</td>\n",
       "      <td>0.727848</td>\n",
       "      <td>0.023981</td>\n",
       "      <td>0.726110</td>\n",
       "      <td>0.023677</td>\n",
       "      <td>0.728999</td>\n",
       "      <td>0.024251</td>\n",
       "      <td>0.731385</td>\n",
       "      <td>0.022871</td>\n",
       "    </tr>\n",
       "    <tr>\n",
       "      <th>38</th>\n",
       "      <td>{'C': 1.0, 'kernel': 'poly'}</td>\n",
       "      <td>0.668628</td>\n",
       "      <td>0.014421</td>\n",
       "      <td>0.666020</td>\n",
       "      <td>0.015959</td>\n",
       "      <td>0.664819</td>\n",
       "      <td>0.015779</td>\n",
       "      <td>0.688176</td>\n",
       "      <td>0.015069</td>\n",
       "    </tr>\n",
       "    <tr>\n",
       "      <th>39</th>\n",
       "      <td>{'C': 1.0, 'kernel': 'sigmoid'}</td>\n",
       "      <td>0.584633</td>\n",
       "      <td>0.018531</td>\n",
       "      <td>0.571263</td>\n",
       "      <td>0.018183</td>\n",
       "      <td>0.577719</td>\n",
       "      <td>0.018082</td>\n",
       "      <td>0.574668</td>\n",
       "      <td>0.020031</td>\n",
       "    </tr>\n",
       "    <tr>\n",
       "      <th>40</th>\n",
       "      <td>{'C': 1.1, 'kernel': 'linear'}</td>\n",
       "      <td>0.724618</td>\n",
       "      <td>0.023431</td>\n",
       "      <td>0.721350</td>\n",
       "      <td>0.025201</td>\n",
       "      <td>0.724310</td>\n",
       "      <td>0.023774</td>\n",
       "      <td>0.725382</td>\n",
       "      <td>0.027325</td>\n",
       "    </tr>\n",
       "    <tr>\n",
       "      <th>41</th>\n",
       "      <td>{'C': 1.1, 'kernel': 'rbf'}</td>\n",
       "      <td>0.732408</td>\n",
       "      <td>0.027405</td>\n",
       "      <td>0.730691</td>\n",
       "      <td>0.026984</td>\n",
       "      <td>0.733304</td>\n",
       "      <td>0.027184</td>\n",
       "      <td>0.735188</td>\n",
       "      <td>0.025132</td>\n",
       "    </tr>\n",
       "    <tr>\n",
       "      <th>42</th>\n",
       "      <td>{'C': 1.1, 'kernel': 'poly'}</td>\n",
       "      <td>0.680995</td>\n",
       "      <td>0.015006</td>\n",
       "      <td>0.678231</td>\n",
       "      <td>0.015961</td>\n",
       "      <td>0.677314</td>\n",
       "      <td>0.015669</td>\n",
       "      <td>0.700814</td>\n",
       "      <td>0.015083</td>\n",
       "    </tr>\n",
       "    <tr>\n",
       "      <th>43</th>\n",
       "      <td>{'C': 1.1, 'kernel': 'sigmoid'}</td>\n",
       "      <td>0.572266</td>\n",
       "      <td>0.019805</td>\n",
       "      <td>0.561145</td>\n",
       "      <td>0.018951</td>\n",
       "      <td>0.566562</td>\n",
       "      <td>0.019891</td>\n",
       "      <td>0.563078</td>\n",
       "      <td>0.020558</td>\n",
       "    </tr>\n",
       "    <tr>\n",
       "      <th>44</th>\n",
       "      <td>{'C': 1.2000000000000002, 'kernel': 'linear'}</td>\n",
       "      <td>0.723969</td>\n",
       "      <td>0.021988</td>\n",
       "      <td>0.721119</td>\n",
       "      <td>0.023378</td>\n",
       "      <td>0.723543</td>\n",
       "      <td>0.022420</td>\n",
       "      <td>0.725607</td>\n",
       "      <td>0.025200</td>\n",
       "    </tr>\n",
       "    <tr>\n",
       "      <th>45</th>\n",
       "      <td>{'C': 1.2000000000000002, 'kernel': 'rbf'}</td>\n",
       "      <td>0.738267</td>\n",
       "      <td>0.025412</td>\n",
       "      <td>0.736529</td>\n",
       "      <td>0.025045</td>\n",
       "      <td>0.739077</td>\n",
       "      <td>0.025650</td>\n",
       "      <td>0.741423</td>\n",
       "      <td>0.023441</td>\n",
       "    </tr>\n",
       "    <tr>\n",
       "      <th>46</th>\n",
       "      <td>{'C': 1.2000000000000002, 'kernel': 'poly'}</td>\n",
       "      <td>0.686856</td>\n",
       "      <td>0.015985</td>\n",
       "      <td>0.684266</td>\n",
       "      <td>0.016516</td>\n",
       "      <td>0.683492</td>\n",
       "      <td>0.015985</td>\n",
       "      <td>0.704824</td>\n",
       "      <td>0.017738</td>\n",
       "    </tr>\n",
       "    <tr>\n",
       "      <th>47</th>\n",
       "      <td>{'C': 1.2000000000000002, 'kernel': 'sigmoid'}</td>\n",
       "      <td>0.574876</td>\n",
       "      <td>0.015026</td>\n",
       "      <td>0.562704</td>\n",
       "      <td>0.014296</td>\n",
       "      <td>0.568529</td>\n",
       "      <td>0.015611</td>\n",
       "      <td>0.565228</td>\n",
       "      <td>0.014846</td>\n",
       "    </tr>\n",
       "    <tr>\n",
       "      <th>48</th>\n",
       "      <td>{'C': 1.3000000000000003, 'kernel': 'linear'}</td>\n",
       "      <td>0.724620</td>\n",
       "      <td>0.021612</td>\n",
       "      <td>0.721551</td>\n",
       "      <td>0.023408</td>\n",
       "      <td>0.724237</td>\n",
       "      <td>0.022197</td>\n",
       "      <td>0.725783</td>\n",
       "      <td>0.025341</td>\n",
       "    </tr>\n",
       "    <tr>\n",
       "      <th>49</th>\n",
       "      <td>{'C': 1.3000000000000003, 'kernel': 'rbf'}</td>\n",
       "      <td>0.739572</td>\n",
       "      <td>0.025915</td>\n",
       "      <td>0.737834</td>\n",
       "      <td>0.025428</td>\n",
       "      <td>0.740318</td>\n",
       "      <td>0.025944</td>\n",
       "      <td>0.743117</td>\n",
       "      <td>0.024279</td>\n",
       "    </tr>\n",
       "    <tr>\n",
       "      <th>50</th>\n",
       "      <td>{'C': 1.3000000000000003, 'kernel': 'poly'}</td>\n",
       "      <td>0.690105</td>\n",
       "      <td>0.016887</td>\n",
       "      <td>0.687317</td>\n",
       "      <td>0.017657</td>\n",
       "      <td>0.686786</td>\n",
       "      <td>0.016798</td>\n",
       "      <td>0.704510</td>\n",
       "      <td>0.017474</td>\n",
       "    </tr>\n",
       "    <tr>\n",
       "      <th>51</th>\n",
       "      <td>{'C': 1.3000000000000003, 'kernel': 'sigmoid'}</td>\n",
       "      <td>0.568359</td>\n",
       "      <td>0.011190</td>\n",
       "      <td>0.556286</td>\n",
       "      <td>0.009857</td>\n",
       "      <td>0.562375</td>\n",
       "      <td>0.011221</td>\n",
       "      <td>0.557326</td>\n",
       "      <td>0.009202</td>\n",
       "    </tr>\n",
       "    <tr>\n",
       "      <th>52</th>\n",
       "      <td>{'C': 1.4000000000000001, 'kernel': 'linear'}</td>\n",
       "      <td>0.723315</td>\n",
       "      <td>0.018641</td>\n",
       "      <td>0.719775</td>\n",
       "      <td>0.020538</td>\n",
       "      <td>0.722814</td>\n",
       "      <td>0.019490</td>\n",
       "      <td>0.723572</td>\n",
       "      <td>0.021834</td>\n",
       "    </tr>\n",
       "    <tr>\n",
       "      <th>53</th>\n",
       "      <td>{'C': 1.4000000000000001, 'kernel': 'rbf'}</td>\n",
       "      <td>0.744126</td>\n",
       "      <td>0.027266</td>\n",
       "      <td>0.742186</td>\n",
       "      <td>0.026732</td>\n",
       "      <td>0.744969</td>\n",
       "      <td>0.027473</td>\n",
       "      <td>0.747999</td>\n",
       "      <td>0.025906</td>\n",
       "    </tr>\n",
       "    <tr>\n",
       "      <th>54</th>\n",
       "      <td>{'C': 1.4000000000000001, 'kernel': 'poly'}</td>\n",
       "      <td>0.692060</td>\n",
       "      <td>0.014597</td>\n",
       "      <td>0.689154</td>\n",
       "      <td>0.015042</td>\n",
       "      <td>0.688811</td>\n",
       "      <td>0.014296</td>\n",
       "      <td>0.705571</td>\n",
       "      <td>0.016291</td>\n",
       "    </tr>\n",
       "    <tr>\n",
       "      <th>55</th>\n",
       "      <td>{'C': 1.4000000000000001, 'kernel': 'sigmoid'}</td>\n",
       "      <td>0.555984</td>\n",
       "      <td>0.015920</td>\n",
       "      <td>0.544764</td>\n",
       "      <td>0.012505</td>\n",
       "      <td>0.549989</td>\n",
       "      <td>0.014802</td>\n",
       "      <td>0.546694</td>\n",
       "      <td>0.011198</td>\n",
       "    </tr>\n",
       "  </tbody>\n",
       "</table>\n",
       "</div>"
      ],
      "text/plain": [
       "                                             params  mean_test_accuracy  \\\n",
       "0                    {'C': 0.1, 'kernel': 'linear'}            0.695328   \n",
       "1                       {'C': 0.1, 'kernel': 'rbf'}            0.620464   \n",
       "2                      {'C': 0.1, 'kernel': 'poly'}            0.476564   \n",
       "3                   {'C': 0.1, 'kernel': 'sigmoid'}            0.552750   \n",
       "4                    {'C': 0.2, 'kernel': 'linear'}            0.708994   \n",
       "5                       {'C': 0.2, 'kernel': 'rbf'}            0.648447   \n",
       "6                      {'C': 0.2, 'kernel': 'poly'}            0.576837   \n",
       "7                   {'C': 0.2, 'kernel': 'sigmoid'}            0.574883   \n",
       "8    {'C': 0.30000000000000004, 'kernel': 'linear'}            0.718104   \n",
       "9       {'C': 0.30000000000000004, 'kernel': 'rbf'}            0.681645   \n",
       "10     {'C': 0.30000000000000004, 'kernel': 'poly'}            0.595067   \n",
       "11  {'C': 0.30000000000000004, 'kernel': 'sigmoid'}            0.597663   \n",
       "12                   {'C': 0.4, 'kernel': 'linear'}            0.717454   \n",
       "13                      {'C': 0.4, 'kernel': 'rbf'}            0.700522   \n",
       "14                     {'C': 0.4, 'kernel': 'poly'}            0.616549   \n",
       "15                  {'C': 0.4, 'kernel': 'sigmoid'}            0.600905   \n",
       "16                   {'C': 0.5, 'kernel': 'linear'}            0.719404   \n",
       "17                      {'C': 0.5, 'kernel': 'rbf'}            0.707031   \n",
       "18                     {'C': 0.5, 'kernel': 'poly'}            0.626306   \n",
       "19                  {'C': 0.5, 'kernel': 'sigmoid'}            0.599611   \n",
       "20                   {'C': 0.6, 'kernel': 'linear'}            0.720714   \n",
       "21                      {'C': 0.6, 'kernel': 'rbf'}            0.712234   \n",
       "22                     {'C': 0.6, 'kernel': 'poly'}            0.644537   \n",
       "23                  {'C': 0.6, 'kernel': 'sigmoid'}            0.602215   \n",
       "24    {'C': 0.7000000000000001, 'kernel': 'linear'}            0.723322   \n",
       "25       {'C': 0.7000000000000001, 'kernel': 'rbf'}            0.719392   \n",
       "26      {'C': 0.7000000000000001, 'kernel': 'poly'}            0.653649   \n",
       "27   {'C': 0.7000000000000001, 'kernel': 'sigmoid'}            0.598310   \n",
       "28                   {'C': 0.8, 'kernel': 'linear'}            0.721367   \n",
       "29                      {'C': 0.8, 'kernel': 'rbf'}            0.723292   \n",
       "30                     {'C': 0.8, 'kernel': 'poly'}            0.662118   \n",
       "31                  {'C': 0.8, 'kernel': 'sigmoid'}            0.595715   \n",
       "32                   {'C': 0.9, 'kernel': 'linear'}            0.721363   \n",
       "33                      {'C': 0.9, 'kernel': 'rbf'}            0.726545   \n",
       "34                     {'C': 0.9, 'kernel': 'poly'}            0.666029   \n",
       "35                  {'C': 0.9, 'kernel': 'sigmoid'}            0.583335   \n",
       "36                   {'C': 1.0, 'kernel': 'linear'}            0.722014   \n",
       "37                      {'C': 1.0, 'kernel': 'rbf'}            0.727848   \n",
       "38                     {'C': 1.0, 'kernel': 'poly'}            0.668628   \n",
       "39                  {'C': 1.0, 'kernel': 'sigmoid'}            0.584633   \n",
       "40                   {'C': 1.1, 'kernel': 'linear'}            0.724618   \n",
       "41                      {'C': 1.1, 'kernel': 'rbf'}            0.732408   \n",
       "42                     {'C': 1.1, 'kernel': 'poly'}            0.680995   \n",
       "43                  {'C': 1.1, 'kernel': 'sigmoid'}            0.572266   \n",
       "44    {'C': 1.2000000000000002, 'kernel': 'linear'}            0.723969   \n",
       "45       {'C': 1.2000000000000002, 'kernel': 'rbf'}            0.738267   \n",
       "46      {'C': 1.2000000000000002, 'kernel': 'poly'}            0.686856   \n",
       "47   {'C': 1.2000000000000002, 'kernel': 'sigmoid'}            0.574876   \n",
       "48    {'C': 1.3000000000000003, 'kernel': 'linear'}            0.724620   \n",
       "49       {'C': 1.3000000000000003, 'kernel': 'rbf'}            0.739572   \n",
       "50      {'C': 1.3000000000000003, 'kernel': 'poly'}            0.690105   \n",
       "51   {'C': 1.3000000000000003, 'kernel': 'sigmoid'}            0.568359   \n",
       "52    {'C': 1.4000000000000001, 'kernel': 'linear'}            0.723315   \n",
       "53       {'C': 1.4000000000000001, 'kernel': 'rbf'}            0.744126   \n",
       "54      {'C': 1.4000000000000001, 'kernel': 'poly'}            0.692060   \n",
       "55   {'C': 1.4000000000000001, 'kernel': 'sigmoid'}            0.555984   \n",
       "\n",
       "    std_test_accuracy  mean_test_f1_macro  std_test_f1_macro  \\\n",
       "0            0.029655            0.683906           0.032502   \n",
       "1            0.021148            0.596664           0.022106   \n",
       "2            0.020485            0.442577           0.020589   \n",
       "3            0.018781            0.523108           0.022351   \n",
       "4            0.022869            0.700979           0.025177   \n",
       "5            0.021824            0.635099           0.025377   \n",
       "6            0.022937            0.572216           0.020981   \n",
       "7            0.024535            0.552298           0.023397   \n",
       "8            0.022562            0.709323           0.025615   \n",
       "9            0.022353            0.675877           0.023309   \n",
       "10           0.015880            0.590843           0.014578   \n",
       "11           0.025835            0.580726           0.026793   \n",
       "12           0.017781            0.710958           0.017753   \n",
       "13           0.021083            0.696642           0.020534   \n",
       "14           0.023756            0.613002           0.021874   \n",
       "15           0.023907            0.584872           0.024447   \n",
       "16           0.022466            0.714872           0.024248   \n",
       "17           0.019871            0.703100           0.019671   \n",
       "18           0.017915            0.623698           0.016256   \n",
       "19           0.031084            0.584793           0.034038   \n",
       "20           0.021986            0.716772           0.023726   \n",
       "21           0.020735            0.708693           0.020393   \n",
       "22           0.015476            0.643596           0.015247   \n",
       "23           0.025075            0.589453           0.029478   \n",
       "24           0.021305            0.719303           0.022465   \n",
       "25           0.024073            0.716221           0.023608   \n",
       "26           0.011111            0.653447           0.012057   \n",
       "27           0.022849            0.584739           0.026343   \n",
       "28           0.020156            0.717353           0.021407   \n",
       "29           0.024532            0.720385           0.024076   \n",
       "30           0.014120            0.660835           0.014541   \n",
       "31           0.027870            0.581385           0.028911   \n",
       "32           0.020222            0.717720           0.021366   \n",
       "33           0.022755            0.724225           0.022151   \n",
       "34           0.015469            0.663945           0.016360   \n",
       "35           0.012472            0.569533           0.011839   \n",
       "36           0.020215            0.718191           0.021273   \n",
       "37           0.023981            0.726110           0.023677   \n",
       "38           0.014421            0.666020           0.015959   \n",
       "39           0.018531            0.571263           0.018183   \n",
       "40           0.023431            0.721350           0.025201   \n",
       "41           0.027405            0.730691           0.026984   \n",
       "42           0.015006            0.678231           0.015961   \n",
       "43           0.019805            0.561145           0.018951   \n",
       "44           0.021988            0.721119           0.023378   \n",
       "45           0.025412            0.736529           0.025045   \n",
       "46           0.015985            0.684266           0.016516   \n",
       "47           0.015026            0.562704           0.014296   \n",
       "48           0.021612            0.721551           0.023408   \n",
       "49           0.025915            0.737834           0.025428   \n",
       "50           0.016887            0.687317           0.017657   \n",
       "51           0.011190            0.556286           0.009857   \n",
       "52           0.018641            0.719775           0.020538   \n",
       "53           0.027266            0.742186           0.026732   \n",
       "54           0.014597            0.689154           0.015042   \n",
       "55           0.015920            0.544764           0.012505   \n",
       "\n",
       "    mean_test_recall_macro  std_test_recall_macro  mean_test_precision_macro  \\\n",
       "0                 0.693294               0.030358                   0.695192   \n",
       "1                 0.615792               0.021064                   0.657735   \n",
       "2                 0.456377               0.020123                   0.622949   \n",
       "3                 0.545805               0.018722                   0.553722   \n",
       "4                 0.707543               0.024024                   0.710019   \n",
       "5                 0.645044               0.022296                   0.656938   \n",
       "6                 0.566025               0.023618                   0.681741   \n",
       "7                 0.567605               0.023526                   0.567038   \n",
       "8                 0.717038               0.023477                   0.717466   \n",
       "9                 0.680415               0.022418                   0.690451   \n",
       "10                0.587632               0.015298                   0.665356   \n",
       "11                0.590842               0.025675                   0.595269   \n",
       "12                0.716408               0.018868                   0.716710   \n",
       "13                0.700928               0.020805                   0.708058   \n",
       "14                0.609844               0.022882                   0.666555   \n",
       "15                0.594253               0.023200                   0.597234   \n",
       "16                0.718354               0.023518                   0.719809   \n",
       "17                0.708021               0.019634                   0.710841   \n",
       "18                0.619800               0.017584                   0.669451   \n",
       "19                0.591978               0.031038                   0.595488   \n",
       "20                0.720086               0.022652                   0.721017   \n",
       "21                0.713830               0.020367                   0.715255   \n",
       "22                0.639155               0.015483                   0.680288   \n",
       "23                0.595069               0.025697                   0.597507   \n",
       "24                0.722636               0.021697                   0.724079   \n",
       "25                0.720901               0.024412                   0.722776   \n",
       "26                0.648841               0.011701                   0.683980   \n",
       "27                0.590846               0.023652                   0.592338   \n",
       "28                0.720735               0.020741                   0.722581   \n",
       "29                0.724752               0.025236                   0.725673   \n",
       "30                0.657557               0.015323                   0.688292   \n",
       "31                0.588355               0.028337                   0.586487   \n",
       "32                0.720907               0.020590                   0.722625   \n",
       "33                0.727912               0.022868                   0.729372   \n",
       "34                0.662014               0.016758                   0.686423   \n",
       "35                0.576615               0.011703                   0.572801   \n",
       "36                0.721588               0.020512                   0.722540   \n",
       "37                0.728999               0.024251                   0.731385   \n",
       "38                0.664819               0.015779                   0.688176   \n",
       "39                0.577719               0.018082                   0.574668   \n",
       "40                0.724310               0.023774                   0.725382   \n",
       "41                0.733304               0.027184                   0.735188   \n",
       "42                0.677314               0.015669                   0.700814   \n",
       "43                0.566562               0.019891                   0.563078   \n",
       "44                0.723543               0.022420                   0.725607   \n",
       "45                0.739077               0.025650                   0.741423   \n",
       "46                0.683492               0.015985                   0.704824   \n",
       "47                0.568529               0.015611                   0.565228   \n",
       "48                0.724237               0.022197                   0.725783   \n",
       "49                0.740318               0.025944                   0.743117   \n",
       "50                0.686786               0.016798                   0.704510   \n",
       "51                0.562375               0.011221                   0.557326   \n",
       "52                0.722814               0.019490                   0.723572   \n",
       "53                0.744969               0.027473                   0.747999   \n",
       "54                0.688811               0.014296                   0.705571   \n",
       "55                0.549989               0.014802                   0.546694   \n",
       "\n",
       "    std_test_precision_macro  \n",
       "0                   0.033622  \n",
       "1                   0.030955  \n",
       "2                   0.067397  \n",
       "3                   0.041579  \n",
       "4                   0.026383  \n",
       "5                   0.025113  \n",
       "6                   0.024214  \n",
       "7                   0.028776  \n",
       "8                   0.026742  \n",
       "9                   0.024761  \n",
       "10                  0.013580  \n",
       "11                  0.033528  \n",
       "12                  0.021208  \n",
       "13                  0.023847  \n",
       "14                  0.019582  \n",
       "15                  0.032464  \n",
       "16                  0.026400  \n",
       "17                  0.020820  \n",
       "18                  0.015974  \n",
       "19                  0.043836  \n",
       "20                  0.026217  \n",
       "21                  0.020558  \n",
       "22                  0.019210  \n",
       "23                  0.034316  \n",
       "24                  0.025280  \n",
       "25                  0.022467  \n",
       "26                  0.015238  \n",
       "27                  0.031128  \n",
       "28                  0.024237  \n",
       "29                  0.022072  \n",
       "30                  0.015084  \n",
       "31                  0.030006  \n",
       "32                  0.023747  \n",
       "33                  0.020860  \n",
       "34                  0.015983  \n",
       "35                  0.012514  \n",
       "36                  0.023762  \n",
       "37                  0.022871  \n",
       "38                  0.015069  \n",
       "39                  0.020031  \n",
       "40                  0.027325  \n",
       "41                  0.025132  \n",
       "42                  0.015083  \n",
       "43                  0.020558  \n",
       "44                  0.025200  \n",
       "45                  0.023441  \n",
       "46                  0.017738  \n",
       "47                  0.014846  \n",
       "48                  0.025341  \n",
       "49                  0.024279  \n",
       "50                  0.017474  \n",
       "51                  0.009202  \n",
       "52                  0.021834  \n",
       "53                  0.025906  \n",
       "54                  0.016291  \n",
       "55                  0.011198  "
      ]
     },
     "execution_count": 178,
     "metadata": {},
     "output_type": "execute_result"
    }
   ],
   "source": [
    "table=pd.DataFrame.from_dict(grid_SVM.cv_results_)\n",
    "def get_index_list(table):\n",
    "    columns=[]\n",
    "    columns.append(np.argwhere(np.array(table.columns)==\"params\")[0])\n",
    "    for metric in [\"accuracy\",\"f1\",\"recall\",\"precision\"]:\n",
    "        if(metric==\"accuracy\"):\n",
    "            tmp=[\"mean_test_{}\".format(metric),\"std_test_{}\".format(metric)]\n",
    "        else:\n",
    "            tmp=[\"mean_test_{}_macro\".format(metric),\"std_test_{}_macro\".format(metric)]\n",
    "        for x in tmp:\n",
    "            columns.extend(np.argwhere(np.array(table.columns)==x))\n",
    "    indexes=np.array(columns).flatten()\n",
    "    return indexes\n",
    "indexes=get_index_list(table)\n",
    "final_table=table.iloc[:,indexes]\n",
    "final_table"
   ]
  },
  {
   "cell_type": "code",
   "execution_count": 179,
   "id": "d72e25c3",
   "metadata": {},
   "outputs": [
    {
     "data": {
      "text/plain": [
       "mean_test_accuracy           53\n",
       "std_test_accuracy            19\n",
       "mean_test_f1_macro           53\n",
       "std_test_f1_macro            19\n",
       "mean_test_recall_macro       53\n",
       "std_test_recall_macro        19\n",
       "mean_test_precision_macro    53\n",
       "std_test_precision_macro      2\n",
       "dtype: int64"
      ]
     },
     "execution_count": 179,
     "metadata": {},
     "output_type": "execute_result"
    }
   ],
   "source": [
    "final_table.iloc[:,1:].idxmax(axis=0)"
   ]
  },
  {
   "cell_type": "code",
   "execution_count": 180,
   "id": "918ac775",
   "metadata": {},
   "outputs": [
    {
     "data": {
      "text/plain": [
       "{'C': 1.4000000000000001, 'kernel': 'rbf'}"
      ]
     },
     "execution_count": 180,
     "metadata": {},
     "output_type": "execute_result"
    }
   ],
   "source": [
    "final_table.iloc[53].params"
   ]
  },
  {
   "cell_type": "code",
   "execution_count": 181,
   "id": "da1efaed",
   "metadata": {},
   "outputs": [
    {
     "data": {
      "image/png": "[encoded data removed]",
      "text/plain": [
       "<Figure size 640x480 with 2 Axes>"
      ]
     },
     "metadata": {},
     "output_type": "display_data"
    }
   ],
   "source": [
    "best_SVC=SVC(C=1.4,kernel='rbf')\n",
    "best_SVC.fit(standardized_features,train_val_y)\n",
    "y_pred=best_SVC.predict(standardized_test_features)\n",
    "ConfusionMatrixDisplay(confusion_matrix(test_y,y_pred)).plot()\n",
    "plt.show()"
   ]
  },
  {
   "cell_type": "code",
   "execution_count": 182,
   "id": "84815091",
   "metadata": {},
   "outputs": [],
   "source": [
    "final_table.to_csv(\"SVM_results.csv\")"
   ]
  },
  {
   "cell_type": "code",
   "execution_count": 170,
   "id": "1282505a",
   "metadata": {},
   "outputs": [
    {
     "name": "stderr",
     "output_type": "stream",
     "text": [
      "F:\\Anaconda_folder\\lib\\site-packages\\sklearn\\metrics\\_classification.py:1469: UndefinedMetricWarning: Precision is ill-defined and being set to 0.0 in labels with no predicted samples. Use `zero_division` parameter to control this behavior.\n",
      "  _warn_prf(average, modifier, msg_start, len(result))\n"
     ]
    },
    {
     "data": {
      "text/html": [
       "<style>#sk-container-id-6 {color: black;}#sk-container-id-6 pre{padding: 0;}#sk-container-id-6 div.sk-toggleable {background-color: white;}#sk-container-id-6 label.sk-toggleable__label {cursor: pointer;display: block;width: 100%;margin-bottom: 0;padding: 0.3em;box-sizing: border-box;text-align: center;}#sk-container-id-6 label.sk-toggleable__label-arrow:before {content: \"▸\";float: left;margin-right: 0.25em;color: #696969;}#sk-container-id-6 label.sk-toggleable__label-arrow:hover:before {color: black;}#sk-container-id-6 div.sk-estimator:hover label.sk-toggleable__label-arrow:before {color: black;}#sk-container-id-6 div.sk-toggleable__content {max-height: 0;max-width: 0;overflow: hidden;text-align: left;background-color: #f0f8ff;}#sk-container-id-6 div.sk-toggleable__content pre {margin: 0.2em;color: black;border-radius: 0.25em;background-color: #f0f8ff;}#sk-container-id-6 input.sk-toggleable__control:checked~div.sk-toggleable__content {max-height: 200px;max-width: 100%;overflow: auto;}#sk-container-id-6 input.sk-toggleable__control:checked~label.sk-toggleable__label-arrow:before {content: \"▾\";}#sk-container-id-6 div.sk-estimator input.sk-toggleable__control:checked~label.sk-toggleable__label {background-color: #d4ebff;}#sk-container-id-6 div.sk-label input.sk-toggleable__control:checked~label.sk-toggleable__label {background-color: #d4ebff;}#sk-container-id-6 input.sk-hidden--visually {border: 0;clip: rect(1px 1px 1px 1px);clip: rect(1px, 1px, 1px, 1px);height: 1px;margin: -1px;overflow: hidden;padding: 0;position: absolute;width: 1px;}#sk-container-id-6 div.sk-estimator {font-family: monospace;background-color: #f0f8ff;border: 1px dotted black;border-radius: 0.25em;box-sizing: border-box;margin-bottom: 0.5em;}#sk-container-id-6 div.sk-estimator:hover {background-color: #d4ebff;}#sk-container-id-6 div.sk-parallel-item::after {content: \"\";width: 100%;border-bottom: 1px solid gray;flex-grow: 1;}#sk-container-id-6 div.sk-label:hover label.sk-toggleable__label {background-color: #d4ebff;}#sk-container-id-6 div.sk-serial::before {content: \"\";position: absolute;border-left: 1px solid gray;box-sizing: border-box;top: 0;bottom: 0;left: 50%;z-index: 0;}#sk-container-id-6 div.sk-serial {display: flex;flex-direction: column;align-items: center;background-color: white;padding-right: 0.2em;padding-left: 0.2em;position: relative;}#sk-container-id-6 div.sk-item {position: relative;z-index: 1;}#sk-container-id-6 div.sk-parallel {display: flex;align-items: stretch;justify-content: center;background-color: white;position: relative;}#sk-container-id-6 div.sk-item::before, #sk-container-id-6 div.sk-parallel-item::before {content: \"\";position: absolute;border-left: 1px solid gray;box-sizing: border-box;top: 0;bottom: 0;left: 50%;z-index: -1;}#sk-container-id-6 div.sk-parallel-item {display: flex;flex-direction: column;z-index: 1;position: relative;background-color: white;}#sk-container-id-6 div.sk-parallel-item:first-child::after {align-self: flex-end;width: 50%;}#sk-container-id-6 div.sk-parallel-item:last-child::after {align-self: flex-start;width: 50%;}#sk-container-id-6 div.sk-parallel-item:only-child::after {width: 0;}#sk-container-id-6 div.sk-dashed-wrapped {border: 1px dashed gray;margin: 0 0.4em 0.5em 0.4em;box-sizing: border-box;padding-bottom: 0.4em;background-color: white;}#sk-container-id-6 div.sk-label label {font-family: monospace;font-weight: bold;display: inline-block;line-height: 1.2em;}#sk-container-id-6 div.sk-label-container {text-align: center;}#sk-container-id-6 div.sk-container {/* jupyter's `normalize.less` sets `[hidden] { display: none; }` but bootstrap.min.css set `[hidden] { display: none !important; }` so we also need the `!important` here to be able to override the default hidden behavior on the sphinx rendered scikit-learn.org. See: https://github.com/scikit-learn/scikit-learn/issues/21755 */display: inline-block !important;position: relative;}#sk-container-id-6 div.sk-text-repr-fallback {display: none;}</style><div id=\"sk-container-id-6\" class=\"sk-top-container\"><div class=\"sk-text-repr-fallback\"><pre>GridSearchCV(estimator=RandomForestClassifier(criterion=&#x27;entropy&#x27;,\n",
       "                                              random_state=42),\n",
       "             param_grid={&#x27;max_depth&#x27;: array([2, 3, 4, 5, 6, 7, 8]),\n",
       "                         &#x27;max_samples&#x27;: [0.1, 0.30000000000000004,\n",
       "                                         0.5000000000000001, 0.7000000000000001,\n",
       "                                         0.9000000000000001],\n",
       "                         &#x27;n_estimators&#x27;: array([ 10,  60, 110, 160, 210, 260])},\n",
       "             refit=False, return_train_score=True,\n",
       "             scoring=[&#x27;accuracy&#x27;, &#x27;f1_macro&#x27;, &#x27;precision_macro&#x27;,\n",
       "                      &#x27;recall_macro&#x27;])</pre><b>In a Jupyter environment, please rerun this cell to show the HTML representation or trust the notebook. <br />On GitHub, the HTML representation is unable to render, please try loading this page with nbviewer.org.</b></div><div class=\"sk-container\" hidden><div class=\"sk-item sk-dashed-wrapped\"><div class=\"sk-label-container\"><div class=\"sk-label sk-toggleable\"><input class=\"sk-toggleable__control sk-hidden--visually\" id=\"sk-estimator-id-16\" type=\"checkbox\" ><label for=\"sk-estimator-id-16\" class=\"sk-toggleable__label sk-toggleable__label-arrow\">GridSearchCV</label><div class=\"sk-toggleable__content\"><pre>GridSearchCV(estimator=RandomForestClassifier(criterion=&#x27;entropy&#x27;,\n",
       "                                              random_state=42),\n",
       "             param_grid={&#x27;max_depth&#x27;: array([2, 3, 4, 5, 6, 7, 8]),\n",
       "                         &#x27;max_samples&#x27;: [0.1, 0.30000000000000004,\n",
       "                                         0.5000000000000001, 0.7000000000000001,\n",
       "                                         0.9000000000000001],\n",
       "                         &#x27;n_estimators&#x27;: array([ 10,  60, 110, 160, 210, 260])},\n",
       "             refit=False, return_train_score=True,\n",
       "             scoring=[&#x27;accuracy&#x27;, &#x27;f1_macro&#x27;, &#x27;precision_macro&#x27;,\n",
       "                      &#x27;recall_macro&#x27;])</pre></div></div></div><div class=\"sk-parallel\"><div class=\"sk-parallel-item\"><div class=\"sk-item\"><div class=\"sk-label-container\"><div class=\"sk-label sk-toggleable\"><input class=\"sk-toggleable__control sk-hidden--visually\" id=\"sk-estimator-id-17\" type=\"checkbox\" ><label for=\"sk-estimator-id-17\" class=\"sk-toggleable__label sk-toggleable__label-arrow\">estimator: RandomForestClassifier</label><div class=\"sk-toggleable__content\"><pre>RandomForestClassifier(criterion=&#x27;entropy&#x27;, random_state=42)</pre></div></div></div><div class=\"sk-serial\"><div class=\"sk-item\"><div class=\"sk-estimator sk-toggleable\"><input class=\"sk-toggleable__control sk-hidden--visually\" id=\"sk-estimator-id-18\" type=\"checkbox\" ><label for=\"sk-estimator-id-18\" class=\"sk-toggleable__label sk-toggleable__label-arrow\">RandomForestClassifier</label><div class=\"sk-toggleable__content\"><pre>RandomForestClassifier(criterion=&#x27;entropy&#x27;, random_state=42)</pre></div></div></div></div></div></div></div></div></div></div>"
      ],
      "text/plain": [
       "GridSearchCV(estimator=RandomForestClassifier(criterion='entropy',\n",
       "                                              random_state=42),\n",
       "             param_grid={'max_depth': array([2, 3, 4, 5, 6, 7, 8]),\n",
       "                         'max_samples': [0.1, 0.30000000000000004,\n",
       "                                         0.5000000000000001, 0.7000000000000001,\n",
       "                                         0.9000000000000001],\n",
       "                         'n_estimators': array([ 10,  60, 110, 160, 210, 260])},\n",
       "             refit=False, return_train_score=True,\n",
       "             scoring=['accuracy', 'f1_macro', 'precision_macro',\n",
       "                      'recall_macro'])"
      ]
     },
     "execution_count": 170,
     "metadata": {},
     "output_type": "execute_result"
    }
   ],
   "source": [
    "random_forest=RandomForestClassifier(criterion='entropy',random_state=42)\n",
    "rf_params={\n",
    "    'n_estimators':np.arange(10,300,50),\n",
    "    'max_depth':np.arange(2,9),\n",
    "    'max_samples':list(np.arange(0.1,1.1,0.2))\n",
    "}\n",
    "rf_grid=GridSearchCV(random_forest,param_grid=rf_params,scoring=['accuracy','f1_macro','precision_macro','recall_macro'],refit=False,return_train_score=True)\n",
    "rf_grid.fit(standardized_features,train_val_y)"
   ]
  },
  {
   "cell_type": "code",
   "execution_count": 171,
   "id": "41d6b64b",
   "metadata": {},
   "outputs": [
    {
     "data": {
      "text/html": [
       "<div>\n",
       "<style scoped>\n",
       "    .dataframe tbody tr th:only-of-type {\n",
       "        vertical-align: middle;\n",
       "    }\n",
       "\n",
       "    .dataframe tbody tr th {\n",
       "        vertical-align: top;\n",
       "    }\n",
       "\n",
       "    .dataframe thead th {\n",
       "        text-align: right;\n",
       "    }\n",
       "</style>\n",
       "<table border=\"1\" class=\"dataframe\">\n",
       "  <thead>\n",
       "    <tr style=\"text-align: right;\">\n",
       "      <th></th>\n",
       "      <th>params</th>\n",
       "      <th>mean_test_accuracy</th>\n",
       "      <th>std_test_accuracy</th>\n",
       "      <th>mean_test_f1_macro</th>\n",
       "      <th>std_test_f1_macro</th>\n",
       "      <th>mean_test_recall_macro</th>\n",
       "      <th>std_test_recall_macro</th>\n",
       "      <th>mean_test_precision_macro</th>\n",
       "      <th>std_test_precision_macro</th>\n",
       "    </tr>\n",
       "  </thead>\n",
       "  <tbody>\n",
       "    <tr>\n",
       "      <th>0</th>\n",
       "      <td>{'max_depth': 2, 'max_samples': 0.1, 'n_estima...</td>\n",
       "      <td>0.503302</td>\n",
       "      <td>0.045510</td>\n",
       "      <td>0.447177</td>\n",
       "      <td>0.058632</td>\n",
       "      <td>0.493781</td>\n",
       "      <td>0.048721</td>\n",
       "      <td>0.510074</td>\n",
       "      <td>0.097249</td>\n",
       "    </tr>\n",
       "    <tr>\n",
       "      <th>1</th>\n",
       "      <td>{'max_depth': 2, 'max_samples': 0.1, 'n_estima...</td>\n",
       "      <td>0.618493</td>\n",
       "      <td>0.024180</td>\n",
       "      <td>0.586784</td>\n",
       "      <td>0.026220</td>\n",
       "      <td>0.614056</td>\n",
       "      <td>0.022632</td>\n",
       "      <td>0.630669</td>\n",
       "      <td>0.034480</td>\n",
       "    </tr>\n",
       "    <tr>\n",
       "      <th>2</th>\n",
       "      <td>{'max_depth': 2, 'max_samples': 0.1, 'n_estima...</td>\n",
       "      <td>0.617833</td>\n",
       "      <td>0.016423</td>\n",
       "      <td>0.581800</td>\n",
       "      <td>0.018963</td>\n",
       "      <td>0.615115</td>\n",
       "      <td>0.016055</td>\n",
       "      <td>0.646968</td>\n",
       "      <td>0.038702</td>\n",
       "    </tr>\n",
       "    <tr>\n",
       "      <th>3</th>\n",
       "      <td>{'max_depth': 2, 'max_samples': 0.1, 'n_estima...</td>\n",
       "      <td>0.618484</td>\n",
       "      <td>0.016645</td>\n",
       "      <td>0.582694</td>\n",
       "      <td>0.016957</td>\n",
       "      <td>0.615056</td>\n",
       "      <td>0.016150</td>\n",
       "      <td>0.651183</td>\n",
       "      <td>0.018226</td>\n",
       "    </tr>\n",
       "    <tr>\n",
       "      <th>4</th>\n",
       "      <td>{'max_depth': 2, 'max_samples': 0.1, 'n_estima...</td>\n",
       "      <td>0.619779</td>\n",
       "      <td>0.016678</td>\n",
       "      <td>0.580920</td>\n",
       "      <td>0.017231</td>\n",
       "      <td>0.617472</td>\n",
       "      <td>0.015498</td>\n",
       "      <td>0.641069</td>\n",
       "      <td>0.030177</td>\n",
       "    </tr>\n",
       "    <tr>\n",
       "      <th>...</th>\n",
       "      <td>...</td>\n",
       "      <td>...</td>\n",
       "      <td>...</td>\n",
       "      <td>...</td>\n",
       "      <td>...</td>\n",
       "      <td>...</td>\n",
       "      <td>...</td>\n",
       "      <td>...</td>\n",
       "      <td>...</td>\n",
       "    </tr>\n",
       "    <tr>\n",
       "      <th>205</th>\n",
       "      <td>{'max_depth': 8, 'max_samples': 0.900000000000...</td>\n",
       "      <td>0.812513</td>\n",
       "      <td>0.016128</td>\n",
       "      <td>0.811035</td>\n",
       "      <td>0.016243</td>\n",
       "      <td>0.812825</td>\n",
       "      <td>0.015696</td>\n",
       "      <td>0.814591</td>\n",
       "      <td>0.014729</td>\n",
       "    </tr>\n",
       "    <tr>\n",
       "      <th>206</th>\n",
       "      <td>{'max_depth': 8, 'max_samples': 0.900000000000...</td>\n",
       "      <td>0.806656</td>\n",
       "      <td>0.017837</td>\n",
       "      <td>0.804509</td>\n",
       "      <td>0.017391</td>\n",
       "      <td>0.806847</td>\n",
       "      <td>0.017620</td>\n",
       "      <td>0.807375</td>\n",
       "      <td>0.015470</td>\n",
       "    </tr>\n",
       "    <tr>\n",
       "      <th>207</th>\n",
       "      <td>{'max_depth': 8, 'max_samples': 0.900000000000...</td>\n",
       "      <td>0.809260</td>\n",
       "      <td>0.020707</td>\n",
       "      <td>0.806986</td>\n",
       "      <td>0.020236</td>\n",
       "      <td>0.809494</td>\n",
       "      <td>0.020459</td>\n",
       "      <td>0.808685</td>\n",
       "      <td>0.018719</td>\n",
       "    </tr>\n",
       "    <tr>\n",
       "      <th>208</th>\n",
       "      <td>{'max_depth': 8, 'max_samples': 0.900000000000...</td>\n",
       "      <td>0.810565</td>\n",
       "      <td>0.018826</td>\n",
       "      <td>0.808004</td>\n",
       "      <td>0.018613</td>\n",
       "      <td>0.810441</td>\n",
       "      <td>0.018555</td>\n",
       "      <td>0.811326</td>\n",
       "      <td>0.017607</td>\n",
       "    </tr>\n",
       "    <tr>\n",
       "      <th>209</th>\n",
       "      <td>{'max_depth': 8, 'max_samples': 0.900000000000...</td>\n",
       "      <td>0.806654</td>\n",
       "      <td>0.015985</td>\n",
       "      <td>0.804169</td>\n",
       "      <td>0.015869</td>\n",
       "      <td>0.806468</td>\n",
       "      <td>0.015893</td>\n",
       "      <td>0.807591</td>\n",
       "      <td>0.014466</td>\n",
       "    </tr>\n",
       "  </tbody>\n",
       "</table>\n",
       "<p>210 rows × 9 columns</p>\n",
       "</div>"
      ],
      "text/plain": [
       "                                                params  mean_test_accuracy  \\\n",
       "0    {'max_depth': 2, 'max_samples': 0.1, 'n_estima...            0.503302   \n",
       "1    {'max_depth': 2, 'max_samples': 0.1, 'n_estima...            0.618493   \n",
       "2    {'max_depth': 2, 'max_samples': 0.1, 'n_estima...            0.617833   \n",
       "3    {'max_depth': 2, 'max_samples': 0.1, 'n_estima...            0.618484   \n",
       "4    {'max_depth': 2, 'max_samples': 0.1, 'n_estima...            0.619779   \n",
       "..                                                 ...                 ...   \n",
       "205  {'max_depth': 8, 'max_samples': 0.900000000000...            0.812513   \n",
       "206  {'max_depth': 8, 'max_samples': 0.900000000000...            0.806656   \n",
       "207  {'max_depth': 8, 'max_samples': 0.900000000000...            0.809260   \n",
       "208  {'max_depth': 8, 'max_samples': 0.900000000000...            0.810565   \n",
       "209  {'max_depth': 8, 'max_samples': 0.900000000000...            0.806654   \n",
       "\n",
       "     std_test_accuracy  mean_test_f1_macro  std_test_f1_macro  \\\n",
       "0             0.045510            0.447177           0.058632   \n",
       "1             0.024180            0.586784           0.026220   \n",
       "2             0.016423            0.581800           0.018963   \n",
       "3             0.016645            0.582694           0.016957   \n",
       "4             0.016678            0.580920           0.017231   \n",
       "..                 ...                 ...                ...   \n",
       "205           0.016128            0.811035           0.016243   \n",
       "206           0.017837            0.804509           0.017391   \n",
       "207           0.020707            0.806986           0.020236   \n",
       "208           0.018826            0.808004           0.018613   \n",
       "209           0.015985            0.804169           0.015869   \n",
       "\n",
       "     mean_test_recall_macro  std_test_recall_macro  mean_test_precision_macro  \\\n",
       "0                  0.493781               0.048721                   0.510074   \n",
       "1                  0.614056               0.022632                   0.630669   \n",
       "2                  0.615115               0.016055                   0.646968   \n",
       "3                  0.615056               0.016150                   0.651183   \n",
       "4                  0.617472               0.015498                   0.641069   \n",
       "..                      ...                    ...                        ...   \n",
       "205                0.812825               0.015696                   0.814591   \n",
       "206                0.806847               0.017620                   0.807375   \n",
       "207                0.809494               0.020459                   0.808685   \n",
       "208                0.810441               0.018555                   0.811326   \n",
       "209                0.806468               0.015893                   0.807591   \n",
       "\n",
       "     std_test_precision_macro  \n",
       "0                    0.097249  \n",
       "1                    0.034480  \n",
       "2                    0.038702  \n",
       "3                    0.018226  \n",
       "4                    0.030177  \n",
       "..                        ...  \n",
       "205                  0.014729  \n",
       "206                  0.015470  \n",
       "207                  0.018719  \n",
       "208                  0.017607  \n",
       "209                  0.014466  \n",
       "\n",
       "[210 rows x 9 columns]"
      ]
     },
     "execution_count": 171,
     "metadata": {},
     "output_type": "execute_result"
    }
   ],
   "source": [
    "rf_table=pd.DataFrame.from_dict(rf_grid.cv_results_)\n",
    "rf_indexes=get_index_list(rf_table)\n",
    "final_rf_table=rf_table.iloc[:,rf_indexes]\n",
    "final_rf_table"
   ]
  },
  {
   "cell_type": "code",
   "execution_count": 172,
   "id": "daa5b972",
   "metadata": {},
   "outputs": [
    {
     "data": {
      "text/plain": [
       "mean_test_accuracy           205\n",
       "std_test_accuracy              0\n",
       "mean_test_f1_macro           205\n",
       "std_test_f1_macro              0\n",
       "mean_test_recall_macro       205\n",
       "std_test_recall_macro          0\n",
       "mean_test_precision_macro    205\n",
       "std_test_precision_macro       0\n",
       "dtype: int64"
      ]
     },
     "execution_count": 172,
     "metadata": {},
     "output_type": "execute_result"
    }
   ],
   "source": [
    "final_rf_table.iloc[:,1:].idxmax(axis=0)"
   ]
  },
  {
   "cell_type": "code",
   "execution_count": 175,
   "id": "8e4b6f04",
   "metadata": {},
   "outputs": [
    {
     "data": {
      "text/plain": [
       "{'max_depth': 8, 'max_samples': 0.9000000000000001, 'n_estimators': 60}"
      ]
     },
     "execution_count": 175,
     "metadata": {},
     "output_type": "execute_result"
    }
   ],
   "source": [
    "final_rf_table.iloc[205].params"
   ]
  },
  {
   "cell_type": "code",
   "execution_count": 174,
   "id": "160b287d",
   "metadata": {},
   "outputs": [],
   "source": [
    "final_rf_table.to_csv(\"RF_results.csv\",index=True)"
   ]
  },
  {
   "cell_type": "code",
   "execution_count": 176,
   "id": "24ee0495",
   "metadata": {},
   "outputs": [
    {
     "data": {
      "image/png": "[encoded data removed]",
      "text/plain": [
       "<Figure size 640x480 with 2 Axes>"
      ]
     },
     "metadata": {},
     "output_type": "display_data"
    }
   ],
   "source": [
    "best_rf=RandomForestClassifier(max_depth=8,max_samples=0.9,n_estimators=60)\n",
    "best_rf.fit(standardized_features,train_val_y)\n",
    "y_pred=best_rf.predict(standardized_test_features)\n",
    "ConfusionMatrixDisplay(confusion_matrix(test_y,y_pred)).plot()\n",
    "plt.show()"
   ]
  }
 ],
 "metadata": {
  "kernelspec": {
   "display_name": "Python 3 (ipykernel)",
   "language": "python",
   "name": "python3"
  },
  "language_info": {
   "codemirror_mode": {
    "name": "ipython",
    "version": 3
   },
   "file_extension": ".py",
   "mimetype": "text/x-python",
   "name": "python",
   "nbconvert_exporter": "python",
   "pygments_lexer": "ipython3",
   "version": "3.10.13"
  }
 },
 "nbformat": 4,
 "nbformat_minor": 5
}
